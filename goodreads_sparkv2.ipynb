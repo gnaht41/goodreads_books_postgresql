{
 "cells": [
  {
   "cell_type": "markdown",
   "metadata": {},
   "source": [
    "#### Chuẩn bị các thư viện "
   ]
  },
  {
   "cell_type": "code",
   "execution_count": 53,
   "metadata": {},
   "outputs": [],
   "source": [
    "from pyspark.sql import SparkSession\n",
    "from pyspark.sql.functions import col, regexp_replace, to_date, monotonically_increasing_id, explode, split, date_format\n",
    "from pyspark.sql import SparkSession\n",
    "from pyspark.sql.functions import (\n",
    "    col, regexp_replace, to_date, monotonically_increasing_id,\n",
    "    explode, split,  when, trim, collect_list, coalesce, lit, count\n",
    ")\n"
   ]
  },
  {
   "cell_type": "markdown",
   "metadata": {},
   "source": [
    "####  Tạo kết nối, set up "
   ]
  },
  {
   "cell_type": "code",
   "execution_count": 54,
   "metadata": {},
   "outputs": [],
   "source": [
    "# Khởi tạo phiên Spark với MongoDB và PostgreSQL\n",
    "spark = SparkSession.builder \\\n",
    "    .appName(\"Goodreads Spark with MongoDB and PostgreSQL\") \\\n",
    "    .config(\"spark.jars.packages\", \"org.mongodb.spark:mongo-spark-connector_2.12:3.0.1,org.postgresql:postgresql:42.7.4\") \\\n",
    "    .config(\"spark.mongodb.read.connection.uri\", \"mongodb://localhost:27017/goodreads_db.books\") \\\n",
    "    .getOrCreate()"
   ]
  },
  {
   "cell_type": "code",
   "execution_count": 55,
   "metadata": {},
   "outputs": [],
   "source": [
    "# Thiết lập chính sách phân tích cú pháp thời gian thành LEGACY để xử lý ngày tháng cũ\n",
    "spark.conf.set(\"spark.sql.legacy.timeParserPolicy\", \"LEGACY\")"
   ]
  },
  {
   "cell_type": "code",
   "execution_count": 56,
   "metadata": {},
   "outputs": [],
   "source": [
    "# Cài đặt mức độ log: Đây là phương thức để thiết lập mức độ log của Spark. Khi bạn đặt mức log, Spark sẽ chỉ hiển thị các thông tin có mức độ quan trọng ngang hoặc cao hơn mức log đã đặt.\n",
    "spark.sparkContext.setLogLevel(\"INFO\")"
   ]
  },
  {
   "cell_type": "code",
   "execution_count": 57,
   "metadata": {},
   "outputs": [],
   "source": [
    "# Đọc dữ liệu từ MongoDB\n",
    "df = spark.read \\\n",
    "    .format(\"mongo\") \\\n",
    "    .option(\"uri\", \"mongodb://localhost:27017/goodreads_db.books\") \\\n",
    "    .load()"
   ]
  },
  {
   "cell_type": "markdown",
   "metadata": {},
   "source": [
    "#### Xử lí số liệu "
   ]
  },
  {
   "cell_type": "code",
   "execution_count": 58,
   "metadata": {},
   "outputs": [],
   "source": [
    "# Xử lý cột publish_date\n",
    "df = df.withColumn(\"cleaned_date\", regexp_replace(\n",
    "    col(\"Date\"), \"First published \", \"\"))\n",
    "\n",
    "# Chuyển đổi cột cleaned_date với các định dạng khác nhau và xử lý giá trị null\n",
    "date_formats = [\n",
    "    \"MMMM d, yyyy\", \n",
    "    \"yyyy\",         \n",
    "    \"MMMM yyyy\"     \n",
    "]\n",
    "\n",
    "# Khởi tạo publish_date với giá trị null\n",
    "df = df.withColumn(\"publish_date\", lit(None))\n",
    "\n",
    "# Lặp qua các định dạng ngày\n",
    "for date_format_str in date_formats:\n",
    "    df = df.withColumn(\"publish_date\",\n",
    "                       when(col(\"publish_date\").isNull(), to_date(\n",
    "                           col(\"cleaned_date\"), date_format_str))\n",
    "                       .otherwise(col(\"publish_date\")))\n",
    "\n",
    "# Xử lý giá trị null và chuyển đổi cột publish_date\n",
    "df = df.withColumn(\"publish_date\",\n",
    "                   coalesce(col(\"publish_date\"), lit(\"1900-01-01\")))\n",
    "\n",
    "# Chuyển đổi về kiểu dữ liệu date\n",
    "df = df.withColumn(\"publish_date\", to_date(col(\"publish_date\"), \"yyyy-MM-dd\"))"
   ]
  },
  {
   "cell_type": "code",
   "execution_count": 59,
   "metadata": {},
   "outputs": [
    {
     "name": "stdout",
     "output_type": "stream",
     "text": [
      "+---------------------+---------------------+----------------------------------+---------------------------------------------------------------------------------------------------------------------------------------------------------------------------------------------------------------------------------------------------------------------------------------------------------------------------------------------------------------------------------------------------------------------------------------------------------------------------------------------------------------------------------------------------------------------------------------------------------------------------------------------------------------------------------------------------------------------------------------------------------------------------------------------------------------------------------------------------------------------------------------------------------------------------------------------------------------------------------------------------------------------------------------------------------------------------------------------------------------------------------------------------------------------------------------------------------------------------------------------------------------------------------------------------------------------------------------------------------------------------------------------------------------------------------------------------------------------------------------------------------------------------+------------------------------------------------------------------------------------------------+-----------------+-----+----+------+-------+------+--------------------------------------------------+------------------+------------+\n",
      "|Author               |Cover Type           |Date                              |Description                                                                                                                                                                                                                                                                                                                                                                                                                                                                                                                                                                                                                                                                                                                                                                                                                                                                                                                                                                                                                                                                                                                                                                                                                                                                                                                                                                                                                                                                                                                |Genres                                                                                          |Number of Ratings|Pages|Rank|Rating|Reviews|Score |Title                                             |cleaned_date      |publish_date|\n",
      "+---------------------+---------------------+----------------------------------+---------------------------------------------------------------------------------------------------------------------------------------------------------------------------------------------------------------------------------------------------------------------------------------------------------------------------------------------------------------------------------------------------------------------------------------------------------------------------------------------------------------------------------------------------------------------------------------------------------------------------------------------------------------------------------------------------------------------------------------------------------------------------------------------------------------------------------------------------------------------------------------------------------------------------------------------------------------------------------------------------------------------------------------------------------------------------------------------------------------------------------------------------------------------------------------------------------------------------------------------------------------------------------------------------------------------------------------------------------------------------------------------------------------------------------------------------------------------------------------------------------------------------+------------------------------------------------------------------------------------------------+-----------------+-----+----+------+-------+------+--------------------------------------------------+------------------+------------+\n",
      "|Kerstin Gier         |Hardcover            |First published January 6, 2009   |Manchmal ist es ein echtes Kreuz in einer Familie zu leben die jede Menge Geheimnisse hat Der berzeugung ist zumindest die 16jhrige Gwendolyn                                                                                                                                                                                                                                                                                                                                                                                                                                                                                                                                                                                                                                                                                                                                                                                                                                                                                                                                                                                                                                                                                                                                                                                                                                                                                                                                                                              |Fantasy, Young Adult, Time Travel, Romance, Historical Fiction, Fiction, Science Fiction        |160292           |345  |838 |4.13  |12815  |11327 |Rubinrot (Edelstein-Trilogie, #1)                 |January 6, 2009   |2009-01-06  |\n",
      "|William Peter Blatty |Mass Market Paperback|First published May 1, 1971       |Georgetown Washington DC Actress and divorced mother Chris MacNeil starts to experience difficulties with her usually sweetnatured elevenyearold daughter Regan The child becomes afflicted by spasms convulsions and unsettling amnesiac episodes these abruptly worsen into violent fits of appalling foulmouthed curses accompanied by physical mutation Medical science is baffled by Regans plight and in her increasing despair Chris turns to troubled priest and psychiatrist Damien Karras who immediately recognises something profoundly malevolent in Regans distorted fetures and speech On Karrass recommendation the Church summons Father Merrin a specialist in the exorcism of demons                                                                                                                                                                                                                                                                                                                                                                                                                                                                                                                                                                                                                                                                                                                                                                                                                    |Horror, Fiction, Thriller, Paranormal, Supernatural, Fantasy, Audiobook                         |245723           |385  |504 |4.2   |9926   |23183 |The Exorcist                                      |May 1, 1971       |1971-05-01  |\n",
      "|William Shakespeare  |Mass Market Paperback|First published January 1, 1603   |In Othello Shakespeare creates a powerful drama of a marriage that begins with fascination between the exotic Moor Othello and the Venetian lady Desdemona with elopement and with intense mutual devotion and that ends precipitately with jealous rage and violent deaths He sets this story in the romantic world of the Mediterranean moving the action from Venice to the island of Cyprus and giving it an even more exotic coloring with stories of Othellos African past Shakespeare builds so many differences into his hero and heroinedifferences of race of age of cultural backgroundthat one should not perhaps be surprised that the marriage ends disastrously But most people who see or read the play feel that the love that the play presents between Othello and Desdemona is so strong that it would have overcome all these differences were it not for the words and actions of Othellos standardbearer Iago who hates Othello and sets out to destroy him by destroying his love for Desdemona As Othello succumbs to Iagos insinuations that Desdemona is unfaithful fascinationwhich dominates the early acts of the playturns to horror especially for the audience We are confronted by spectacles of a generous and trusting Othello in the grip of Iagos schemes of an innocent Desdemona who has given herself up entirely to her love for Othello only to be subjected to his horrifying verbal and physical assaults the outcome of Othellos mistaken convictions about her faithlessness|Classics, Plays, Fiction, School, Theatre, Literature, Read For School                          |405268           |319  |284 |3.89  |11320  |53478 |Othello                                           |January 1, 1603   |1603-01-01  |\n",
      "|Mark Haddon          |Paperback            |First published July 31, 2003     |Christopher John Francis Boone knows all the countries of the world and their capitals and every prime number up to 7057 He relates well to animals but has no understanding of human emotions He cannot stand to be touched And he detests the color yellow This improbable story of Christophers quest to investigate the suspicious death of a neighborhood dog makes for one of the most captivating unusual and widely heralded novels in recent years                                                                                                                                                                                                                                                                                                                                                                                                                                                                                                                                                                                                                                                                                                                                                                                                                                                                                                                                                                                                                                                                |Fiction, Mystery, Young Adult, Classics, Autistic Spectrum Disorder, Novels, Contemporary       |1515949          |226  |126 |3.89  |57565  |154346|The Curious Incident of the Dog in the Night-Time |July 31, 2003     |2003-07-31  |\n",
      "|Sue Monk Kidd        |Paperback            |First published November 8, 2001  |Set in South Carolina in 1964                                                                                                                                                                                                                                                                                                                                                                                                                                                                                                                                                                                                                                                                                                                                                                                                                                                                                                                                                                                                                                                                                                                                                                                                                                                                                                                                                                                                                                                                                              |Fiction, Historical Fiction, Classics, Young Adult, Historical, Contemporary, Coming Of Age     |1313418          |302  |112 |4.09  |36650  |189016|The Secret Life of Bees                           |November 8, 2001  |2001-11-08  |\n",
      "|Erin Morgenstern     |Hardcover            |First published September 13, 2011|The circus arrives without warning No announcements precede it It is simply there when yesterday it was not Within the blackandwhite striped canvas tents is an utterly unique experience full of breathtaking amazements It is called Le Cirque des Rves and it is only open at night                                                                                                                                                                                                                                                                                                                                                                                                                                                                                                                                                                                                                                                                                                                                                                                                                                                                                                                                                                                                                                                                                                                                                                                                                                     |Fantasy, Fiction, Romance, Historical Fiction, Magic, Young Adult, Audiobook                    |1017611          |506  |193 |4.01  |108639 |91906 |The Night Circus                                  |September 13, 2011|2011-09-13  |\n",
      "|Colleen Hoover       |Kindle Edition       |First published August 2, 2016    |Sometimes it is the one who loves you who hurts you the most                                                                                                                                                                                                                                                                                                                                                                                                                                                                                                                                                                                                                                                                                                                                                                                                                                                                                                                                                                                                                                                                                                                                                                                                                                                                                                                                                                                                                                                               |Fiction, Contemporary, New Adult, Audiobook, Contemporary Romance, Adult, Abuse                 |3919079          |386  |385 |4.14  |282915 |35225 |It Ends with Us (It Ends with Us #1)              |August 2, 2016    |2016-08-02  |\n",
      "|Alex Haley           |Mass Market Paperback|First published August 17, 1976   |When he was a boy in Henning Tennessee Alex Haleys grandmother used to tell him stories about their familystories that went back to                                                                                                                                                                                                                                                                                                                                                                                                                                                                                                                                                                                                                                                                                                                                                                                                                                                                                                                                                                                                                                                                                                                                                                                                                                                                                                                                                                                        |Historical Fiction, Fiction, Classics, Historical, African American, Africa, Race               |161335           |729  |281 |4.44  |4335   |53626 |Roots: The Saga of an American Family             |August 17, 1976   |1976-08-17  |\n",
      "|J.M. Barrie          |Hardcover            |First published January 1, 1911   |One starry night Peter Pan and Tinker Bell lead the three Darling children over the rooftops of London and away to Neverland  the island where lost boys play mermaids splash and fairies make mischief But a villainouslooking gang of pirates lurk in the docks led by the terrifying Captain James Hook Magic and excitement are in the air but if Captain Hook has his way before long someone will be walking the plank and swimming with the crocodiles                                                                                                                                                                                                                                                                                                                                                                                                                                                                                                                                                                                                                                                                                                                                                                                                                                                                                                                                                                                                                                                              |Fantasy, Fiction, Childrens, Classics, Adventure, Young Adult, Audiobook                        |355286           |176  |152 |4.04  |16905  |123106|Peter Pan                                         |January 1, 1911   |1911-01-01  |\n",
      "|Gregory David Roberts|Paperback            |First published January 1, 2003   |It took me a long time and most of the world to learn what I know about love and fate and the choices we make but the heart of it came to me in an instant while I was chained to a wall and being tortured                                                                                                                                                                                                                                                                                                                                                                                                                                                                                                                                                                                                                                                                                                                                                                                                                                                                                                                                                                                                                                                                                                                                                                                                                                                                                                                |Fiction, Travel, Adventure, Historical Fiction, Contemporary, Novels, Audiobook                 |223667           |936  |492 |4.27  |17355  |24394 |Shantaram                                         |January 1, 2003   |2003-01-01  |\n",
      "|Rudyard Kipling      |Mass Market Paperback|First published January 1, 1895   |The Jungle Books can be regarded as classic stories told by an adult to children But they also constitute a complex literary work of art in which the whole of Kiplings philosophy of life is expressed in miniature They are best known for the Mowgli stories the tale of a baby abandoned and brought up by wolves educated in the ways and secrets of the jungle by Kaa the python Baloo the bear and Bagheera the black panther The stories a mixture of fantasy myth and magic are underpinned by Kiplings abiding preoccupation with the theme of selfdiscovery and the nature of the Law                                                                                                                                                                                                                                                                                                                                                                                                                                                                                                                                                                                                                                                                                                                                                                                                                                                                                                                           |Classics, Fiction, Childrens, Fantasy, Adventure, Short Stories, Literature                     |88019            |368  |869 |4.01  |1365   |10768 |The Jungle Books                                  |January 1, 1895   |1895-01-01  |\n",
      "|Kate Alice Marshall  |Hardcover            |First published January 17, 2023  |Naomi Shaw used to believe in magic Twentytwo years ago she and her two best friends Cassidy and Olivia spent the summer roaming the woods imagining a world of ceremony and wonder They called it the Goddess Game The summer ended suddenly when Naomi was attacked Miraculously she survived her seventeen stab wounds and lived to identify the man who had hurt her The girls testimony put away a serial killer wanted for murdering six women They were heroes                                                                                                                                                                                                                                                                                                                                                                                                                                                                                                                                                                                                                                                                                                                                                                                                                                                                                                                                                                                                                                                      |Thriller, Mystery, Mystery Thriller, Fiction, Audiobook, Horror, Suspense                       |152299           |322  |544 |3.96  |16585  |20058 |What Lies in the Woods                            |January 17, 2023  |2023-01-17  |\n",
      "|Laurell K. Hamilton  |Paperback            |First published October 1, 1993   |Anita Blake is small dark and dangerous Her turf is the city of St Louis Her job reanimating the dead and killing the undead who take things too far But when the citys most powerful vampire asks her to solve a series of vicious slayings Anita must confront her greatest fearher undeniable attraction to master vampire JeanClaude one of the creatures she is sworn to destroy                                                                                                                                                                                                                                                                                                                                                                                                                                                                                                                                                                                                                                                                                                                                                                                                                                                                                                                                                                                                                                                                                                                                      |Urban Fantasy, Fantasy, Vampires, Paranormal, Romance, Horror, Fiction                          |150302           |355  |987 |4.02  |6607   |8869  |Guilty Pleasures (Anita Blake, Vampire Hunter, #1)|October 1, 1993   |1993-10-01  |\n",
      "|Brandon Sanderson    |Hardcover            |First published October 14, 2008  |Description contains spoilers for previous book in the series                                                                                                                                                                                                                                                                                                                                                                                                                                                                                                                                                                                                                                                                                                                                                                                                                                                                                                                                                                                                                                                                                                                                                                                                                                                                                                                                                                                                                                                              |Fantasy, Fiction, Epic Fantasy, High Fantasy, Audiobook, Adult, Magic                           |470592           |572  |783 |4.54  |34993  |12389 |The Hero of Ages (Mistborn, #3)                   |October 14, 2008  |2008-10-14  |\n",
      "|Rhonda Byrne         |Hardcover            |First published November 28, 2006 |In 2006 a groundbreaking featurelength film revealed the great mystery of the universe                                                                                                                                                                                                                                                                                                                                                                                                                                                                                                                                                                                                                                                                                                                                                                                                                                                                                                                                                                                                                                                                                                                                                                                                                                                                                                                                                                                                                                     |Self Help, Nonfiction, Spirituality, Psychology, Personal Development, Philosophy, Inspirational|495681           |199  |678 |3.73  |16391  |14906 |The Secret (The Secret, #1)                       |November 28, 2006 |2006-11-28  |\n",
      "|James Dashner        |Hardcover            |First published October 12, 2010  |                                                                                                                                                                                                                                                                                                                                                                                                                                                                                                                                                                                                                                                                                                                                                                                                                                                                                                                                                                                                                                                                                                                                                                                                                                                                                                                                                                                                                                                                                                                           |Young Adult, Dystopia, Science Fiction, Fiction, Fantasy, Adventure, Post Apocalyptic           |601828           |362  |671 |3.9   |31400  |15057 |The Scorch Trials (The Maze Runner, #2)           |October 12, 2010  |2010-10-12  |\n",
      "|John Green           |Paperback            |First published March 3, 2005     | Miles Pudge Halter is done with his safe life at home His whole life has been one big nonevent and his obsession with famous last words has only made him crave the Great Perhaps even more Francois Rabelais poet He heads off to the sometimes crazy and anythingbutboring world of Culver Creek Boarding School and his life becomes the opposite of safe Because down the hall is Alaska Young The gorgeous clever funny sexy selfdestructive screwed up and utterly fascinating Alaska Young She is an event unto herself She pulls Pudge into her world launches him into the Great Perhaps and steals his heart Then                                                                                                                                                                                                                                                                                                                                                                                                                                                                                                                                                                                                                                                                                                                                                                                                                                                                                               |Young Adult, Fiction, Contemporary, Romance, Realistic Fiction, Coming Of Age, Teen             |1652786          |221  |120 |3.96  |78076  |161412|Looking for Alaska                                |March 3, 2005     |2005-03-03  |\n",
      "|Yevgeny Zamyatin     |Paperback            |First published January 1, 1924   |Yevgeny Zamyatins                                                                                                                                                                                                                                                                                                                                                                                                                                                                                                                                                                                                                                                                                                                                                                                                                                                                                                                                                                                                                                                                                                                                                                                                                                                                                                                                                                                                                                                                                                          |Fiction, Science Fiction, Classics, Dystopia, Russia, Russian Literature, Literature            |101335           |256  |985 |3.89  |7928   |8873  |We                                                |January 1, 1924   |1924-01-01  |\n",
      "|Erin Hunter          |Paperback            |First published January 9, 2003   |For generations four Clans of wild cats have shared the forest according to the laws laid down by their warrior ancestors But the ThunderClan cats are in grave danger and the sinister ShadowClan grows stronger every day Noble warriors are dyingand some deaths are more mysterious than others In the midst of this turmoil appears an ordinary house cat named Rusty    who may turn out to be the bravest warrior of them all                                                                                                                                                                                                                                                                                                                                                                                                                                                                                                                                                                                                                                                                                                                                                                                                                                                                                                                                                                                                                                                                                       |Fantasy, Fiction, Animals, Middle Grade, Young Adult, Childrens, Cats                           |110162           |288  |703 |4.31  |9519   |14327 |Into the Wild (Warriors, #1)                      |January 9, 2003   |2003-01-09  |\n",
      "|Emmuska Orczy        |Paperback            |First published January 1, 1905   |Armed with only his wits and his cunning one man recklessly defies the French revolutionaries and rescues scores of innocent men women and children from the deadly guillotine His friends and foes know him only as the Scarlet Pimpernel But the ruthless French agent Chauvelin is sworn to discover his identity and to hunt him down                                                                                                                                                                                                                                                                                                                                                                                                                                                                                                                                                                                                                                                                                                                                                                                                                                                                                                                                                                                                                                                                                                                                                                                  |Classics, Historical Fiction, Fiction, Adventure, Historical, Mystery, France                   |137507           |182  |468 |4.07  |8026   |26376 |The Scarlet Pimpernel                             |January 1, 1905   |1905-01-01  |\n",
      "+---------------------+---------------------+----------------------------------+---------------------------------------------------------------------------------------------------------------------------------------------------------------------------------------------------------------------------------------------------------------------------------------------------------------------------------------------------------------------------------------------------------------------------------------------------------------------------------------------------------------------------------------------------------------------------------------------------------------------------------------------------------------------------------------------------------------------------------------------------------------------------------------------------------------------------------------------------------------------------------------------------------------------------------------------------------------------------------------------------------------------------------------------------------------------------------------------------------------------------------------------------------------------------------------------------------------------------------------------------------------------------------------------------------------------------------------------------------------------------------------------------------------------------------------------------------------------------------------------------------------------------+------------------------------------------------------------------------------------------------+-----------------+-----+----+------+-------+------+--------------------------------------------------+------------------+------------+\n",
      "only showing top 20 rows\n",
      "\n"
     ]
    }
   ],
   "source": [
    "from pyspark.sql import functions as F\n",
    "\n",
    "\n",
    "\n",
    "# Xử lý dữ liệu có dạng \"8,932,568\" - Loại bỏ dấu phẩy\n",
    "df = df.withColumn(\"Number of Ratings\", regexp_replace(col(\"Number of Ratings\"), \",\", \"\")) \\\n",
    "       .withColumn(\"Reviews\", regexp_replace(col(\"Reviews\"), \",\", \"\")) \\\n",
    "       .withColumn(\"Score\", regexp_replace(col(\"Score\"), \",\" , \"\"))\n",
    "\n",
    "#Chuyển đổi kiểu dữ liệu sau khi loại bỏ dấu phẩy\n",
    "df = df.withColumn(\"Pages\", col(\"Pages\").cast(\"int\")) \\\n",
    "       .withColumn(\"Rating\", col(\"Rating\").cast(\"float\")) \\\n",
    "       .withColumn(\"Number of Ratings\", col(\"Number of Ratings\").cast(\"int\")) \\\n",
    "       .withColumn(\"Reviews\", col(\"Reviews\").cast(\"int\")) \\\n",
    "       .withColumn(\"Score\", col(\"Score\").cast(\"int\"))\n",
    "\n",
    "\n",
    "# Bước 4: Xử lý trường hợp Description không hợp lệ\n",
    "df = df.withColumn(\"Description\", \n",
    "                   F.when(col(\"Description\").isNull() | (F.trim(col(\"Description\")) == \"\"), \"No description available\")  # Thay thế NaN và chuỗi rỗng\n",
    "                    .when(col(\"Description\").rlike(\"^[0-9]+$\"), \"No description available\")  # Thay thế chỉ số\n",
    "                    .when(col(\"Description\").rlike(\"^[\\\\s]+$\"), \"No description available\")  # Thay thế chuỗi chỉ có khoảng trắng\n",
    "                    .when(col(\"Description\").rlike(\"^[0-9]+[a-zA-Z]+|[a-zA-Z]+[0-9]+$\"), \"No description available\")  # Thay thế chuỗi không hợp lệ\n",
    "                    .otherwise(col(\"Description\")))\n",
    "\n",
    "# Bước 6: Xóa dấu nháy kép và ký tự không hợp lệ trong Description\n",
    "df = df.withColumn(\"Description\", regexp_replace(col(\"Description\"), '\"', ''))  # Xóa dấu nháy kép\n",
    "df = df.withColumn(\"Description\", regexp_replace(col(\"Description\"), '[^a-zA-Z0-9\\\\s]', ''))  # Xóa ký tự không hợp lệ\n",
    "\n",
    "# Bước 7: Xóa dữ liệu trùng lặp\n",
    "df = df.dropDuplicates()\n",
    "\n",
    "# Bước 8: Xóa cột _id nếu có\n",
    "df = df.drop(\"_id\")\n",
    "\n",
    "# Hiển thị DataFrame sau khi xử lý\n",
    "df.show(truncate=False)\n"
   ]
  },
  {
   "cell_type": "code",
   "execution_count": 60,
   "metadata": {},
   "outputs": [
    {
     "name": "stdout",
     "output_type": "stream",
     "text": [
      "+------+----------+----+-----------+------+-----------------+-----+----+------+-------+-----+-----+------------+------------+\n",
      "|Author|Cover Type|Date|Description|Genres|Number of Ratings|Pages|Rank|Rating|Reviews|Score|Title|cleaned_date|publish_date|\n",
      "+------+----------+----+-----------+------+-----------------+-----+----+------+-------+-----+-----+------------+------------+\n",
      "|0     |0         |0   |0          |0     |0                |0    |0   |0     |0      |0    |0    |0           |0           |\n",
      "+------+----------+----+-----------+------+-----------------+-----+----+------+-------+-----+-----+------------+------------+\n",
      "\n"
     ]
    }
   ],
   "source": [
    "from pyspark.sql import functions as F\n",
    "\n",
    "# Kiểm tra và điền giá trị mặc định cho các giá trị null\n",
    "df = df.na.fill({\n",
    "    \"Rank\": 0,\n",
    "    \"Title\": \"No title\",\n",
    "    \"Author\": \"no author\",\n",
    "    \"Rating\": 0.0,\n",
    "    \"Number of Ratings\": 0,\n",
    "    \"Description\": \"No description available\",\n",
    "    \"Reviews\": 0,\n",
    "    \"Pages\": 0,\n",
    "    \"Cover Type\": \"No cover type\",\n",
    "    \"Score\": 0.0,\n",
    "    \"Genres\": \"No genres\"\n",
    "})\n",
    "\n",
    "# # Thay thế giá trị null trong cột Date bằng ngày hiện tại\n",
    "df = df.withColumn(\"Date\", \n",
    "                   F.when(F.col(\"Date\").isNull(), F.current_date()).otherwise(F.col(\"Date\")))\n",
    "\n",
    "# # Định dạng clean_date thành dạng \"Published July 15, 2022\" nếu null\n",
    "df = df.withColumn(\"cleaned_date\", \n",
    "                   F.when(F.col(\"cleaned_date\").isNull(), \n",
    "                           F.concat(F.lit(\"Published \"), \n",
    "                                     F.date_format(F.current_date(), \"MMMM dd, yyyy\")))\n",
    "                   .otherwise(F.col(\"cleaned_date\")))\n",
    "\n",
    "# Kiểm tra lại số lượng giá trị null sau khi điền giá trị\n",
    "null_counts_after = df.select([count(when(col(c).isNull(), c)).alias(c) for c in df.columns])\n",
    "null_counts_after.show(truncate=False)\n",
    "\n"
   ]
  },
  {
   "cell_type": "code",
   "execution_count": 61,
   "metadata": {},
   "outputs": [
    {
     "name": "stdout",
     "output_type": "stream",
     "text": [
      "+---------------------+---------------------+----------------------------------+---------------------------------------------------------------------------------------------------------------------------------------------------------------------------------------------------------------------------------------------------------------------------------------------------------------------------------------------------------------------------------------------------------------------------------------------------------------------------------------------------------------------------------------------------------------------------------------------------------------------------------------------------------------------------------------------------------------------------------------------------------------------------------------------------------------------------------------------------------------------------------------------------------------------------------------------------------------------------------------------------------------------------------------------------------------------------------------------------------------------------------------------------------------------------------------------------------------------------------------------------------------------------------------------------------------------------------------------------------------------------------------------------------------------------------------------------------------------------------------------------------------------------+------------------------------------------------------------------------------------------------+-----------------+-----+----+------+-------+------+--------------------------------------------------+------------------+------------+\n",
      "|Author               |Cover Type           |Date                              |Description                                                                                                                                                                                                                                                                                                                                                                                                                                                                                                                                                                                                                                                                                                                                                                                                                                                                                                                                                                                                                                                                                                                                                                                                                                                                                                                                                                                                                                                                                                                |Genres                                                                                          |Number of Ratings|Pages|Rank|Rating|Reviews|Score |Title                                             |cleaned_date      |publish_date|\n",
      "+---------------------+---------------------+----------------------------------+---------------------------------------------------------------------------------------------------------------------------------------------------------------------------------------------------------------------------------------------------------------------------------------------------------------------------------------------------------------------------------------------------------------------------------------------------------------------------------------------------------------------------------------------------------------------------------------------------------------------------------------------------------------------------------------------------------------------------------------------------------------------------------------------------------------------------------------------------------------------------------------------------------------------------------------------------------------------------------------------------------------------------------------------------------------------------------------------------------------------------------------------------------------------------------------------------------------------------------------------------------------------------------------------------------------------------------------------------------------------------------------------------------------------------------------------------------------------------------------------------------------------------+------------------------------------------------------------------------------------------------+-----------------+-----+----+------+-------+------+--------------------------------------------------+------------------+------------+\n",
      "|Kerstin Gier         |Hardcover            |First published January 6, 2009   |Manchmal ist es ein echtes Kreuz in einer Familie zu leben die jede Menge Geheimnisse hat Der berzeugung ist zumindest die 16jhrige Gwendolyn                                                                                                                                                                                                                                                                                                                                                                                                                                                                                                                                                                                                                                                                                                                                                                                                                                                                                                                                                                                                                                                                                                                                                                                                                                                                                                                                                                              |Fantasy, Young Adult, Time Travel, Romance, Historical Fiction, Fiction, Science Fiction        |160292           |345  |838 |4.13  |12815  |11327 |Rubinrot (Edelstein-Trilogie, #1)                 |January 6, 2009   |2009-01-06  |\n",
      "|William Peter Blatty |Mass Market Paperback|First published May 1, 1971       |Georgetown Washington DC Actress and divorced mother Chris MacNeil starts to experience difficulties with her usually sweetnatured elevenyearold daughter Regan The child becomes afflicted by spasms convulsions and unsettling amnesiac episodes these abruptly worsen into violent fits of appalling foulmouthed curses accompanied by physical mutation Medical science is baffled by Regans plight and in her increasing despair Chris turns to troubled priest and psychiatrist Damien Karras who immediately recognises something profoundly malevolent in Regans distorted fetures and speech On Karrass recommendation the Church summons Father Merrin a specialist in the exorcism of demons                                                                                                                                                                                                                                                                                                                                                                                                                                                                                                                                                                                                                                                                                                                                                                                                                    |Horror, Fiction, Thriller, Paranormal, Supernatural, Fantasy, Audiobook                         |245723           |385  |504 |4.2   |9926   |23183 |The Exorcist                                      |May 1, 1971       |1971-05-01  |\n",
      "|William Shakespeare  |Mass Market Paperback|First published January 1, 1603   |In Othello Shakespeare creates a powerful drama of a marriage that begins with fascination between the exotic Moor Othello and the Venetian lady Desdemona with elopement and with intense mutual devotion and that ends precipitately with jealous rage and violent deaths He sets this story in the romantic world of the Mediterranean moving the action from Venice to the island of Cyprus and giving it an even more exotic coloring with stories of Othellos African past Shakespeare builds so many differences into his hero and heroinedifferences of race of age of cultural backgroundthat one should not perhaps be surprised that the marriage ends disastrously But most people who see or read the play feel that the love that the play presents between Othello and Desdemona is so strong that it would have overcome all these differences were it not for the words and actions of Othellos standardbearer Iago who hates Othello and sets out to destroy him by destroying his love for Desdemona As Othello succumbs to Iagos insinuations that Desdemona is unfaithful fascinationwhich dominates the early acts of the playturns to horror especially for the audience We are confronted by spectacles of a generous and trusting Othello in the grip of Iagos schemes of an innocent Desdemona who has given herself up entirely to her love for Othello only to be subjected to his horrifying verbal and physical assaults the outcome of Othellos mistaken convictions about her faithlessness|Classics, Plays, Fiction, School, Theatre, Literature, Read For School                          |405268           |319  |284 |3.89  |11320  |53478 |Othello                                           |January 1, 1603   |1603-01-01  |\n",
      "|Mark Haddon          |Paperback            |First published July 31, 2003     |Christopher John Francis Boone knows all the countries of the world and their capitals and every prime number up to 7057 He relates well to animals but has no understanding of human emotions He cannot stand to be touched And he detests the color yellow This improbable story of Christophers quest to investigate the suspicious death of a neighborhood dog makes for one of the most captivating unusual and widely heralded novels in recent years                                                                                                                                                                                                                                                                                                                                                                                                                                                                                                                                                                                                                                                                                                                                                                                                                                                                                                                                                                                                                                                                |Fiction, Mystery, Young Adult, Classics, Autistic Spectrum Disorder, Novels, Contemporary       |1515949          |226  |126 |3.89  |57565  |154346|The Curious Incident of the Dog in the Night-Time |July 31, 2003     |2003-07-31  |\n",
      "|Sue Monk Kidd        |Paperback            |First published November 8, 2001  |Set in South Carolina in 1964                                                                                                                                                                                                                                                                                                                                                                                                                                                                                                                                                                                                                                                                                                                                                                                                                                                                                                                                                                                                                                                                                                                                                                                                                                                                                                                                                                                                                                                                                              |Fiction, Historical Fiction, Classics, Young Adult, Historical, Contemporary, Coming Of Age     |1313418          |302  |112 |4.09  |36650  |189016|The Secret Life of Bees                           |November 8, 2001  |2001-11-08  |\n",
      "|Erin Morgenstern     |Hardcover            |First published September 13, 2011|The circus arrives without warning No announcements precede it It is simply there when yesterday it was not Within the blackandwhite striped canvas tents is an utterly unique experience full of breathtaking amazements It is called Le Cirque des Rves and it is only open at night                                                                                                                                                                                                                                                                                                                                                                                                                                                                                                                                                                                                                                                                                                                                                                                                                                                                                                                                                                                                                                                                                                                                                                                                                                     |Fantasy, Fiction, Romance, Historical Fiction, Magic, Young Adult, Audiobook                    |1017611          |506  |193 |4.01  |108639 |91906 |The Night Circus                                  |September 13, 2011|2011-09-13  |\n",
      "|Colleen Hoover       |Kindle Edition       |First published August 2, 2016    |Sometimes it is the one who loves you who hurts you the most                                                                                                                                                                                                                                                                                                                                                                                                                                                                                                                                                                                                                                                                                                                                                                                                                                                                                                                                                                                                                                                                                                                                                                                                                                                                                                                                                                                                                                                               |Fiction, Contemporary, New Adult, Audiobook, Contemporary Romance, Adult, Abuse                 |3919079          |386  |385 |4.14  |282915 |35225 |It Ends with Us (It Ends with Us #1)              |August 2, 2016    |2016-08-02  |\n",
      "|Alex Haley           |Mass Market Paperback|First published August 17, 1976   |When he was a boy in Henning Tennessee Alex Haleys grandmother used to tell him stories about their familystories that went back to                                                                                                                                                                                                                                                                                                                                                                                                                                                                                                                                                                                                                                                                                                                                                                                                                                                                                                                                                                                                                                                                                                                                                                                                                                                                                                                                                                                        |Historical Fiction, Fiction, Classics, Historical, African American, Africa, Race               |161335           |729  |281 |4.44  |4335   |53626 |Roots: The Saga of an American Family             |August 17, 1976   |1976-08-17  |\n",
      "|J.M. Barrie          |Hardcover            |First published January 1, 1911   |One starry night Peter Pan and Tinker Bell lead the three Darling children over the rooftops of London and away to Neverland  the island where lost boys play mermaids splash and fairies make mischief But a villainouslooking gang of pirates lurk in the docks led by the terrifying Captain James Hook Magic and excitement are in the air but if Captain Hook has his way before long someone will be walking the plank and swimming with the crocodiles                                                                                                                                                                                                                                                                                                                                                                                                                                                                                                                                                                                                                                                                                                                                                                                                                                                                                                                                                                                                                                                              |Fantasy, Fiction, Childrens, Classics, Adventure, Young Adult, Audiobook                        |355286           |176  |152 |4.04  |16905  |123106|Peter Pan                                         |January 1, 1911   |1911-01-01  |\n",
      "|Gregory David Roberts|Paperback            |First published January 1, 2003   |It took me a long time and most of the world to learn what I know about love and fate and the choices we make but the heart of it came to me in an instant while I was chained to a wall and being tortured                                                                                                                                                                                                                                                                                                                                                                                                                                                                                                                                                                                                                                                                                                                                                                                                                                                                                                                                                                                                                                                                                                                                                                                                                                                                                                                |Fiction, Travel, Adventure, Historical Fiction, Contemporary, Novels, Audiobook                 |223667           |936  |492 |4.27  |17355  |24394 |Shantaram                                         |January 1, 2003   |2003-01-01  |\n",
      "|Rudyard Kipling      |Mass Market Paperback|First published January 1, 1895   |The Jungle Books can be regarded as classic stories told by an adult to children But they also constitute a complex literary work of art in which the whole of Kiplings philosophy of life is expressed in miniature They are best known for the Mowgli stories the tale of a baby abandoned and brought up by wolves educated in the ways and secrets of the jungle by Kaa the python Baloo the bear and Bagheera the black panther The stories a mixture of fantasy myth and magic are underpinned by Kiplings abiding preoccupation with the theme of selfdiscovery and the nature of the Law                                                                                                                                                                                                                                                                                                                                                                                                                                                                                                                                                                                                                                                                                                                                                                                                                                                                                                                           |Classics, Fiction, Childrens, Fantasy, Adventure, Short Stories, Literature                     |88019            |368  |869 |4.01  |1365   |10768 |The Jungle Books                                  |January 1, 1895   |1895-01-01  |\n",
      "|Kate Alice Marshall  |Hardcover            |First published January 17, 2023  |Naomi Shaw used to believe in magic Twentytwo years ago she and her two best friends Cassidy and Olivia spent the summer roaming the woods imagining a world of ceremony and wonder They called it the Goddess Game The summer ended suddenly when Naomi was attacked Miraculously she survived her seventeen stab wounds and lived to identify the man who had hurt her The girls testimony put away a serial killer wanted for murdering six women They were heroes                                                                                                                                                                                                                                                                                                                                                                                                                                                                                                                                                                                                                                                                                                                                                                                                                                                                                                                                                                                                                                                      |Thriller, Mystery, Mystery Thriller, Fiction, Audiobook, Horror, Suspense                       |152299           |322  |544 |3.96  |16585  |20058 |What Lies in the Woods                            |January 17, 2023  |2023-01-17  |\n",
      "|Laurell K. Hamilton  |Paperback            |First published October 1, 1993   |Anita Blake is small dark and dangerous Her turf is the city of St Louis Her job reanimating the dead and killing the undead who take things too far But when the citys most powerful vampire asks her to solve a series of vicious slayings Anita must confront her greatest fearher undeniable attraction to master vampire JeanClaude one of the creatures she is sworn to destroy                                                                                                                                                                                                                                                                                                                                                                                                                                                                                                                                                                                                                                                                                                                                                                                                                                                                                                                                                                                                                                                                                                                                      |Urban Fantasy, Fantasy, Vampires, Paranormal, Romance, Horror, Fiction                          |150302           |355  |987 |4.02  |6607   |8869  |Guilty Pleasures (Anita Blake, Vampire Hunter, #1)|October 1, 1993   |1993-10-01  |\n",
      "|Brandon Sanderson    |Hardcover            |First published October 14, 2008  |Description contains spoilers for previous book in the series                                                                                                                                                                                                                                                                                                                                                                                                                                                                                                                                                                                                                                                                                                                                                                                                                                                                                                                                                                                                                                                                                                                                                                                                                                                                                                                                                                                                                                                              |Fantasy, Fiction, Epic Fantasy, High Fantasy, Audiobook, Adult, Magic                           |470592           |572  |783 |4.54  |34993  |12389 |The Hero of Ages (Mistborn, #3)                   |October 14, 2008  |2008-10-14  |\n",
      "|Rhonda Byrne         |Hardcover            |First published November 28, 2006 |In 2006 a groundbreaking featurelength film revealed the great mystery of the universe                                                                                                                                                                                                                                                                                                                                                                                                                                                                                                                                                                                                                                                                                                                                                                                                                                                                                                                                                                                                                                                                                                                                                                                                                                                                                                                                                                                                                                     |Self Help, Nonfiction, Spirituality, Psychology, Personal Development, Philosophy, Inspirational|495681           |199  |678 |3.73  |16391  |14906 |The Secret (The Secret, #1)                       |November 28, 2006 |2006-11-28  |\n",
      "|James Dashner        |Hardcover            |First published October 12, 2010  |                                                                                                                                                                                                                                                                                                                                                                                                                                                                                                                                                                                                                                                                                                                                                                                                                                                                                                                                                                                                                                                                                                                                                                                                                                                                                                                                                                                                                                                                                                                           |Young Adult, Dystopia, Science Fiction, Fiction, Fantasy, Adventure, Post Apocalyptic           |601828           |362  |671 |3.9   |31400  |15057 |The Scorch Trials (The Maze Runner, #2)           |October 12, 2010  |2010-10-12  |\n",
      "|John Green           |Paperback            |First published March 3, 2005     | Miles Pudge Halter is done with his safe life at home His whole life has been one big nonevent and his obsession with famous last words has only made him crave the Great Perhaps even more Francois Rabelais poet He heads off to the sometimes crazy and anythingbutboring world of Culver Creek Boarding School and his life becomes the opposite of safe Because down the hall is Alaska Young The gorgeous clever funny sexy selfdestructive screwed up and utterly fascinating Alaska Young She is an event unto herself She pulls Pudge into her world launches him into the Great Perhaps and steals his heart Then                                                                                                                                                                                                                                                                                                                                                                                                                                                                                                                                                                                                                                                                                                                                                                                                                                                                                               |Young Adult, Fiction, Contemporary, Romance, Realistic Fiction, Coming Of Age, Teen             |1652786          |221  |120 |3.96  |78076  |161412|Looking for Alaska                                |March 3, 2005     |2005-03-03  |\n",
      "|Yevgeny Zamyatin     |Paperback            |First published January 1, 1924   |Yevgeny Zamyatins                                                                                                                                                                                                                                                                                                                                                                                                                                                                                                                                                                                                                                                                                                                                                                                                                                                                                                                                                                                                                                                                                                                                                                                                                                                                                                                                                                                                                                                                                                          |Fiction, Science Fiction, Classics, Dystopia, Russia, Russian Literature, Literature            |101335           |256  |985 |3.89  |7928   |8873  |We                                                |January 1, 1924   |1924-01-01  |\n",
      "|Erin Hunter          |Paperback            |First published January 9, 2003   |For generations four Clans of wild cats have shared the forest according to the laws laid down by their warrior ancestors But the ThunderClan cats are in grave danger and the sinister ShadowClan grows stronger every day Noble warriors are dyingand some deaths are more mysterious than others In the midst of this turmoil appears an ordinary house cat named Rusty    who may turn out to be the bravest warrior of them all                                                                                                                                                                                                                                                                                                                                                                                                                                                                                                                                                                                                                                                                                                                                                                                                                                                                                                                                                                                                                                                                                       |Fantasy, Fiction, Animals, Middle Grade, Young Adult, Childrens, Cats                           |110162           |288  |703 |4.31  |9519   |14327 |Into the Wild (Warriors, #1)                      |January 9, 2003   |2003-01-09  |\n",
      "|Emmuska Orczy        |Paperback            |First published January 1, 1905   |Armed with only his wits and his cunning one man recklessly defies the French revolutionaries and rescues scores of innocent men women and children from the deadly guillotine His friends and foes know him only as the Scarlet Pimpernel But the ruthless French agent Chauvelin is sworn to discover his identity and to hunt him down                                                                                                                                                                                                                                                                                                                                                                                                                                                                                                                                                                                                                                                                                                                                                                                                                                                                                                                                                                                                                                                                                                                                                                                  |Classics, Historical Fiction, Fiction, Adventure, Historical, Mystery, France                   |137507           |182  |468 |4.07  |8026   |26376 |The Scarlet Pimpernel                             |January 1, 1905   |1905-01-01  |\n",
      "+---------------------+---------------------+----------------------------------+---------------------------------------------------------------------------------------------------------------------------------------------------------------------------------------------------------------------------------------------------------------------------------------------------------------------------------------------------------------------------------------------------------------------------------------------------------------------------------------------------------------------------------------------------------------------------------------------------------------------------------------------------------------------------------------------------------------------------------------------------------------------------------------------------------------------------------------------------------------------------------------------------------------------------------------------------------------------------------------------------------------------------------------------------------------------------------------------------------------------------------------------------------------------------------------------------------------------------------------------------------------------------------------------------------------------------------------------------------------------------------------------------------------------------------------------------------------------------------------------------------------------------+------------------------------------------------------------------------------------------------+-----------------+-----+----+------+-------+------+--------------------------------------------------+------------------+------------+\n",
      "only showing top 20 rows\n",
      "\n"
     ]
    }
   ],
   "source": [
    "\n",
    "# Hiển thị dữ liệu sau khi xử lý\n",
    "df.show(truncate=False)"
   ]
  },
  {
   "cell_type": "code",
   "execution_count": 62,
   "metadata": {},
   "outputs": [
    {
     "name": "stdout",
     "output_type": "stream",
     "text": [
      "root\n",
      " |-- Author: string (nullable = false)\n",
      " |-- Cover Type: string (nullable = false)\n",
      " |-- Date: string (nullable = true)\n",
      " |-- Description: string (nullable = false)\n",
      " |-- Genres: string (nullable = false)\n",
      " |-- Number of Ratings: integer (nullable = false)\n",
      " |-- Pages: integer (nullable = false)\n",
      " |-- Rank: string (nullable = false)\n",
      " |-- Rating: float (nullable = false)\n",
      " |-- Reviews: integer (nullable = false)\n",
      " |-- Score: integer (nullable = true)\n",
      " |-- Title: string (nullable = false)\n",
      " |-- cleaned_date: string (nullable = true)\n",
      " |-- publish_date: date (nullable = true)\n",
      "\n"
     ]
    }
   ],
   "source": [
    "\n",
    "\n",
    "# Kiểm tra kiểu dữ liệu của cột publish_date\n",
    "df.printSchema()\n",
    "\n",
    "\n"
   ]
  },
  {
   "cell_type": "markdown",
   "metadata": {},
   "source": [
    "#### Tạo các bảng từ dữ liệu"
   ]
  },
  {
   "cell_type": "code",
   "execution_count": 63,
   "metadata": {},
   "outputs": [
    {
     "name": "stdout",
     "output_type": "stream",
     "text": [
      "+-------+--------------------------------------------------+---------+--------------+------------+----------------------------------------------------------------------------------------------+------+----------------------+-----------------------------------------------------------------------------------------------------------------------------------------------------------------------------------------------------------------------------------------------------------------------------------------------------------------------------------------------------------------------------------------------------------------------------------------------------------------------------------------------------------------------------------------------------------------------------------------------------------------------------------------------------------------------------------------------------------------------------------------------------------------------------------------+\n",
      "|book_id|book_title                                        |num_pages|cover_type    |publish_date|Genres                                                                                        |Rating|Author                |description                                                                                                                                                                                                                                                                                                                                                                                                                                                                                                                                                                                                                                                                                                                                                                              |\n",
      "+-------+--------------------------------------------------+---------+--------------+------------+----------------------------------------------------------------------------------------------+------+----------------------+-----------------------------------------------------------------------------------------------------------------------------------------------------------------------------------------------------------------------------------------------------------------------------------------------------------------------------------------------------------------------------------------------------------------------------------------------------------------------------------------------------------------------------------------------------------------------------------------------------------------------------------------------------------------------------------------------------------------------------------------------------------------------------------------+\n",
      "|231    |A Breath of Snow and Ashes (Outlander, #6)        |980      |Paperback     |2005-09-27  |Historical Fiction, Romance, Fantasy, Fiction, Time Travel, Historical, Historical Romance    |4.44  |Diana Gabaldon        | continues the extraordinary story of 18thcentury Scotsman Jamie Fraser and his 20thcentury wife Claire                                                                                                                                                                                                                                                                                                                                                                                                                                                                                                                                                                                                                                                                                  |\n",
      "|507    |Tempted (House of Night, #6)                      |319      |Paperback     |2009-10-27  |Young Adult, Vampires, Fantasy, Paranormal, Romance, Fiction, Supernatural                    |3.95  |P.C. Cast             |I can never leave you in peace You and I are bound We will be each others salvation or each others doom He took a step closer and I mirrored his movement by taking a step back Which shall it be Salvation or doom                                                                                                                                                                                                                                                                                                                                                                                                                                                                                                                                                                      |\n",
      "|529    |The Passage (The Passage, #1)                     |784      |Hardcover     |2010-06-08  |Horror, Fiction, Science Fiction, Fantasy, Post Apocalyptic, Vampires, Dystopia               |4.05  |Justin Cronin         |IT HAPPENED FAST                                                                                                                                                                                                                                                                                                                                                                                                                                                                                                                                                                                                                                                                                                                                                                         |\n",
      "|848    |Murder on the Orient Express (Hercule Poirot, #10)|274      |Paperback     |1934-01-01  |Mystery, Fiction, Crime, Mystery Thriller, Audiobook, Thriller, Detective                     |4.2   |Agatha Christie       |Just after midnight a snowdrift stops the famous Orient Express in its tracks as it travels through the mountainous Balkans The luxurious train is surprisingly full for the time of the year but by the morning it is one passenger fewer An American tycoon lies dead in his compartment stabbed a dozen times his door locked from the inside                                                                                                                                                                                                                                                                                                                                                                                                                                         |\n",
      "|102    |The Hunchback of Notre-Dame                       |510      |Paperback     |1831-03-16  |Fiction, Classics, Historical Fiction, France, Literature, Gothic, French Literature          |4.02  |Victor Hugo           |This extraordinary historical French gothic novel set in Medieval Paris under the twin towers of its greatest structure and supreme symbol the cathedral of NotreDame is the haunting drama of Quasimodo the disabled bellringer of NotreDame as he struggles to stand up to his ableist guardian Claude Frollo who also wants to commit genocide against Paris Romani population                                                                                                                                                                                                                                                                                                                                                                                                        |\n",
      "|318    |One Day in the Life of Ivan Denisovich            |182      |Paperback     |1962-11-01  |Fiction, Classics, Russia, Historical Fiction, Russian Literature, Literature, Novels         |3.98  |Aleksandr Solzhenitsyn|First published in the Soviet journal                                                                                                                                                                                                                                                                                                                                                                                                                                                                                                                                                                                                                                                                                                                                                    |\n",
      "|520    |Peace Like a River                                |312      |Paperback     |2001-08-02  |Fiction, Historical Fiction, Book Club, Literary Fiction, Novels, Coming Of Age, Adult Fiction|4.02  |Leif Enger            |Once in a great while we encounter a novel in our voluminous reading that begs to be read aloud Leif Engers debut                                                                                                                                                                                                                                                                                                                                                                                                                                                                                                                                                                                                                                                                        |\n",
      "|560    |Mansfield Park                                    |488      |Paperback     |1814-07-02  |Fiction, Classics, Historical Fiction, Literature, Audiobook, Historical, 19th Century        |3.86  |Jane Austen           |Taken from the poverty of her parents home in Portsmouth Fanny Price is brought up with her rich cousins at Mansfield Park acutely aware of her humble rank and with her cousin Edmund as her sole ally During her uncles absence in Antigua the Crawfords arrive in the neighbourhood bringing with them the glamour of London life and a reckless taste for flirtation Mansfield Park is considered Jane Austens first mature work and with its quiet heroine and subtle examination of social position and moral integrity one of her most profound                                                                                                                                                                                                                                   |\n",
      "|603    |The Wind in the Willows                           |197      |Paperback     |1908-10-08  |Classics, Fiction, Childrens, Fantasy, Animals, Young Adult, Middle Grade                     |4.02  |Kenneth Grahame       |For more than a century                                                                                                                                                                                                                                                                                                                                                                                                                                                                                                                                                                                                                                                                                                                                                                  |\n",
      "|659    |World Without End (Kingsbridge, #2)               |1237     |Hardcover     |2007-10-04  |Historical Fiction, Fiction, Historical, Audiobook, Medieval, British Literature, Fantasy     |4.31  |Ken Follett           |World Without End takes place in the same town of Kingsbridge two centuries after the townspeople finished building the exquisite Gothic cathedral that was at the heart of The Pillars of the Earth The cathedral and the priory are again at the center of a web of love and hate greed and pride ambition and revenge but this sequel stands on its own This time the men and women of an extraordinary cast of characters find themselves at a crossroads of new ideasabout medicine commerce architecture and justice In a world where proponents of the old ways fiercely battle those with progressive minds the intrigue and tension quickly reach a boiling point against the devastating backdrop of the greatest natural disaster ever to strike the human racethe Black Death|\n",
      "|950    |The Grapes of Wrath                               |496      |Hardcover     |1939-04-14  |Classics, Fiction, Historical Fiction, Literature, Novels, School, American                   |4.01  |John Steinbeck        |The Pulitzer Prizewinning epic of the Great Depression a book that galvanizedand sometimes outragedmillions of readers                                                                                                                                                                                                                                                                                                                                                                                                                                                                                                                                                                                                                                                                   |\n",
      "|286    |القرآن الكريم                                     |604      |Hardcover     |0632-03-18  |Nonfiction, Classics, Philosophy, Religion, Spirituality, History, Theology                   |4.38  |Anonymous             |The Quran English pronunciation krn Arabic  alqurn IPA quran literally meaning the recitation also transliterated Quran Koran AlCoran Coran Kuran and AlQuran is the central religious text of Islam which Muslims believe to be the verbatim word of God Arabic  Allah                                                                                                                                                                                                                                                                                                                                                                                                                                                                                                                  |\n",
      "|454    |Rebecca                                           |449      |Kindle Edition|1938-08-01  |Fiction, Mystery, Gothic, Romance, Classics, Historical Fiction, Thriller                     |4.25  |Daphne du Maurier     |The novel begins in Monte Carlo where our heroine is swept off her feet by the dashing widower Maxim de Winter and his sudden proposal of marriage Orphaned and working as a ladys maid she can barely believe her luck It is only when they arrive at his massive country estate that she realizes how large a shadow his late wife will cast over their livespresenting her with a lingering evil that threatens to destroy their marriage from beyond the grave                                                                                                                                                                                                                                                                                                                       |\n",
      "|623    |Angels & Demons (Robert Langdon, #1)              |736      |Paperback     |2000-05-01  |Fiction, Mystery, Thriller, Mystery Thriller, Suspense, Adventure, Crime                      |3.94  |Dan       Brown       |An ancient secret brotherhood                                                                                                                                                                                                                                                                                                                                                                                                                                                                                                                                                                                                                                                                                                                                                            |\n",
      "|719    |The Fellowship of the Ring (Middle Earth, #1)     |432      |Kindle Edition|1954-07-29  |Fantasy, Classics, Fiction, Adventure, Audiobook, High Fantasy, Science Fiction Fantasy       |4.39  |J.R.R. Tolkien        |In ancient times the Rings of Power were crafted by the Elvensmiths and Sauron the Dark Lord forged the One Ring filling it with his own power so that he could rule all others But the One Ring was taken from him and though he sought it throughout Middleearth it remained lost to him After many ages it fell into the hands of Bilbo Baggins as told in                                                                                                                                                                                                                                                                                                                                                                                                                            |\n",
      "|930    |Death of a Salesman                               |144      |Hardcover     |1949-01-01  |Classics, Plays, Fiction, Drama, School, Theatre, Literature                                  |3.58  |Arthur Miller         |Willy Loman has been a salesman for 34 years At 60 he is cast aside his usefulness now exhausted With no future to dream about he must face the crushing disappointments of his past He takes one final brave action but is he heroic at last or a selfdeluding fool                                                                                                                                                                                                                                                                                                                                                                                                                                                                                                                     |\n",
      "|934    |Archer's Voice                                    |377      |ebook         |2014-01-25  |Romance, Contemporary, Contemporary Romance, New Adult, Fiction, Adult, Audiobook             |4.2   |Mia Sheridan          |When Bree Prescott arrives in the sleepy lakeside town of Pelion Maine she hopes against hope that this is the place where she will finally find the peace she so desperately seeks On her first day there her life collides with Archer Hale an isolated man who holds a secret agony of his own A man no one else sees                                                                                                                                                                                                                                                                                                                                                                                                                                                                 |\n",
      "|938    |Scarlet (The Lunar Chronicles, #2)                |454      |Hardcover     |2013-02-05  |Fantasy, Young Adult, Science Fiction, Romance, Dystopia, Retellings, Fiction                 |4.24  |Marissa Meyer         |Cinder is back and trying to break out of prisoneven though shell be the Commonwealths most wanted fugitive if she doesin this second installment from Marissa Meyer                                                                                                                                                                                                                                                                                                                                                                                                                                                                                                                                                                                                                     |\n",
      "|44     |The Golden Compass (His Dark Materials, #1)       |399      |Hardcover     |1995-07-01  |Fantasy, Young Adult, Fiction, Childrens, Adventure, Middle Grade, Audiobook                  |4.03  |Philip Pullman        |Lyra is rushing to the cold far North where witch clans and armored bears rule North where the Gobblers take the children they stealincluding her friend Roger North where her fearsome uncle Asriel is trying to build a bridge to a parallel world                                                                                                                                                                                                                                                                                                                                                                                                                                                                                                                                     |\n",
      "|260    |Tender Is the Night                               |430      |Paperback     |1934-04-12  |Classics, Fiction, Literature, Romance, American, Novels, 20th Century                        |3.78  |F. Scott Fitzgerald   |Set on the French Riviera in the late 1920s                                                                                                                                                                                                                                                                                                                                                                                                                                                                                                                                                                                                                                                                                                                                              |\n",
      "+-------+--------------------------------------------------+---------+--------------+------------+----------------------------------------------------------------------------------------------+------+----------------------+-----------------------------------------------------------------------------------------------------------------------------------------------------------------------------------------------------------------------------------------------------------------------------------------------------------------------------------------------------------------------------------------------------------------------------------------------------------------------------------------------------------------------------------------------------------------------------------------------------------------------------------------------------------------------------------------------------------------------------------------------------------------------------------------+\n",
      "only showing top 20 rows\n",
      "\n"
     ]
    }
   ],
   "source": [
    "from pyspark.sql import functions as F\n",
    "from pyspark.sql.functions import monotonically_increasing_id, col, regexp_replace\n",
    "# Tạo bảng Books \n",
    "\n",
    "books_df = df.select(\"Title\", \"Pages\", \"Cover Type\", \"publish_date\", \"Genres\", \"Rating\", \"Author\", \"Description\") \\\n",
    "    .withColumnRenamed(\"Title\", \"book_title\") \\\n",
    "    .withColumnRenamed(\"Pages\", \"num_pages\") \\\n",
    "    .withColumnRenamed(\"Cover Type\", \"cover_type\") \\\n",
    "    .withColumnRenamed(\"Description\", \"description\") \\\n",
    "    .withColumn(\"book_id\", monotonically_increasing_id()) \\\n",
    "    .select(\"book_id\", \"book_title\", \"num_pages\", \"cover_type\", \"publish_date\", \"Genres\", \"Rating\", \"Author\", \"description\") \\\n",
    "    .withColumn(\"description\", regexp_replace(col(\"description\"), '\"', '')) \\\n",
    "    .withColumn(\"description\", regexp_replace(col(\"description\"), '[^a-zA-Z0-9\\\\s]', '')) \\\n",
    "    .withColumn(\"description\", F.when(col(\"description\").isNull() | (F.trim(col(\"description\")) == \"\"), \"No description available\") \\\n",
    "                               .when(col(\"description\").rlike(\"^[0-9]+$\"), \"No description available\") \\\n",
    "                               .when(col(\"description\").rlike(\"^[\\\\s]+$\"), \"No description available\") \\\n",
    "                               .when(col(\"description\").rlike(\"^[0-9]+[a-zA-Z]+|[a-zA-Z]+[0-9]+$\"), \"No description available\") \\\n",
    "                               .otherwise(col(\"description\"))) \\\n",
    "    .dropDuplicates()\n",
    "#  Xóa dấu nháy kép và ký tự không hợp lệ trong Description\n",
    "books_df = books_df.withColumn(\"description\", regexp_replace(col(\"description\"), '\"', ''))  # Xóa dấu nháy kép\n",
    "books_df = books_df.withColumn(\"description\", regexp_replace(col(\"description\"), '[^a-zA-Z0-9\\\\s]', ''))  # Xóa ký tự không hợp lệ\n",
    "\n",
    "#  Xử lý trường hợp Description không hợp lệ\n",
    "books_df = books_df.withColumn(\"description\", \n",
    "                   F.when(col(\"description\").isNull() | (F.trim(col(\"description\")) == \"\"), \"No description available\")  # Thay thế NaN và chuỗi rỗng\n",
    "                    .when(col(\"description\").rlike(\"^[0-9]+$\"), \"No description available\")  # Thay thế chỉ số\n",
    "                    .when(col(\"description\").rlike(\"^[\\\\s]+$\"), \"No description available\")  # Thay thế chuỗi chỉ có khoảng trắng\n",
    "                    .when(col(\"description\").rlike(\"^[0-9]+[a-zA-Z]+|[a-zA-Z]+[0-9]+$\"), \"No description available\")  # Thay thế chuỗi không hợp lệ\n",
    "                    .otherwise(col(\"description\")))\n",
    "\n",
    "\n",
    "\n",
    "# Xóa dữ liệu trùng lặp\n",
    "books_df = books_df.dropDuplicates()\n",
    "\n",
    "# Hiển thị dữ liệu trong books_df sau khi xử lý\n",
    "books_df.show(truncate=False)\n"
   ]
  },
  {
   "cell_type": "code",
   "execution_count": 64,
   "metadata": {},
   "outputs": [],
   "source": [
    "#  Bảng authors\n",
    "\n",
    "authors_df = df.select(\"Author\").distinct() \\\n",
    "    .withColumnRenamed(\"Author\", \"author_name\") \\\n",
    "    .withColumn(\"author_id\", monotonically_increasing_id()) \\\n",
    "    .select(\"author_id\", \"author_name\")"
   ]
  },
  {
   "cell_type": "code",
   "execution_count": 65,
   "metadata": {},
   "outputs": [],
   "source": [
    "# Bảng genres\n",
    "\n",
    "genres_df = df.select(explode(split(col(\"Genres\"), \",\")).alias(\"genre_name\")).distinct() \\\n",
    "    .withColumn(\"genre_id\", monotonically_increasing_id()) \\\n",
    "    .select(\"genre_id\", \"genre_name\")"
   ]
  },
  {
   "cell_type": "code",
   "execution_count": 66,
   "metadata": {},
   "outputs": [
    {
     "name": "stdout",
     "output_type": "stream",
     "text": [
      "+-------+--------+\n",
      "|book_id|genre_id|\n",
      "+-------+--------+\n",
      "|76     |274     |\n",
      "|407    |157     |\n",
      "|693    |97      |\n",
      "|523    |97      |\n",
      "|554    |31      |\n",
      "|822    |248     |\n",
      "|960    |182     |\n",
      "|339    |68      |\n",
      "|348    |18      |\n",
      "|83     |25      |\n",
      "|317    |68      |\n",
      "|889    |216     |\n",
      "|357    |292     |\n",
      "|828    |93      |\n",
      "|217    |143     |\n",
      "|468    |3       |\n",
      "|154    |257     |\n",
      "|254    |247     |\n",
      "|883    |195     |\n",
      "|22     |25      |\n",
      "+-------+--------+\n",
      "only showing top 20 rows\n",
      "\n"
     ]
    }
   ],
   "source": [
    "from pyspark.sql.functions import explode, split\n",
    "\n",
    "# Tạo bảng book_genres từ books_df và genres_df\n",
    "book_genres_df = books_df \\\n",
    "    .select(\"book_id\", explode(split(col(\"Genres\"), \",\")).alias(\"genre_name\")) \\\n",
    "    .join(genres_df, \"genre_name\", \"inner\") \\\n",
    "    .select(\"book_id\", \"genre_id\") \\\n",
    "    .dropDuplicates()\n",
    "\n",
    "# Hiển thị bảng book_genres\n",
    "book_genres_df.show(truncate=False)"
   ]
  },
  {
   "cell_type": "code",
   "execution_count": 67,
   "metadata": {},
   "outputs": [
    {
     "name": "stdout",
     "output_type": "stream",
     "text": [
      "+---------+--------------------------------------------------+------+-----------+-----------+------+\n",
      "|rating_id|book_title                                        |rating|num_ratings|num_reviews|score |\n",
      "+---------+--------------------------------------------------+------+-----------+-----------+------+\n",
      "|0        |Rubinrot (Edelstein-Trilogie, #1)                 |4.13  |160292     |12815      |11327 |\n",
      "|1        |The Exorcist                                      |4.2   |245723     |9926       |23183 |\n",
      "|2        |Othello                                           |3.89  |405268     |11320      |53478 |\n",
      "|3        |The Curious Incident of the Dog in the Night-Time |3.89  |1515949    |57565      |154346|\n",
      "|4        |The Secret Life of Bees                           |4.09  |1313418    |36650      |189016|\n",
      "|5        |The Night Circus                                  |4.01  |1017611    |108639     |91906 |\n",
      "|6        |It Ends with Us (It Ends with Us #1)              |4.14  |3919079    |282915     |35225 |\n",
      "|7        |Roots: The Saga of an American Family             |4.44  |161335     |4335       |53626 |\n",
      "|8        |Peter Pan                                         |4.04  |355286     |16905      |123106|\n",
      "|9        |Shantaram                                         |4.27  |223667     |17355      |24394 |\n",
      "|10       |The Jungle Books                                  |4.01  |88019      |1365       |10768 |\n",
      "|11       |What Lies in the Woods                            |3.96  |152299     |16585      |20058 |\n",
      "|12       |Guilty Pleasures (Anita Blake, Vampire Hunter, #1)|4.02  |150302     |6607       |8869  |\n",
      "|13       |The Hero of Ages (Mistborn, #3)                   |4.54  |470592     |34993      |12389 |\n",
      "|14       |The Secret (The Secret, #1)                       |3.73  |495681     |16391      |14906 |\n",
      "|15       |The Scorch Trials (The Maze Runner, #2)           |3.9   |601828     |31400      |15057 |\n",
      "|16       |Looking for Alaska                                |3.96  |1652786    |78076      |161412|\n",
      "|17       |We                                                |3.89  |101335     |7928       |8873  |\n",
      "|18       |Into the Wild (Warriors, #1)                      |4.31  |110162     |9519       |14327 |\n",
      "|19       |The Scarlet Pimpernel                             |4.07  |137507     |8026       |26376 |\n",
      "+---------+--------------------------------------------------+------+-----------+-----------+------+\n",
      "only showing top 20 rows\n",
      "\n"
     ]
    }
   ],
   "source": [
    "# Bảng ratings \n",
    "from pyspark.sql.functions import monotonically_increasing_id\n",
    "\n",
    "ratings_df = df.select(\"Title\", \"Rating\", \"Number of Ratings\", \"Reviews\", \"Score\") \\\n",
    "    .withColumnRenamed(\"Title\", \"book_title\") \\\n",
    "    .withColumnRenamed(\"Rating\", \"rating\") \\\n",
    "    .withColumnRenamed(\"Number of Ratings\", \"num_ratings\") \\\n",
    "    .withColumnRenamed(\"Reviews\", \"num_reviews\") \\\n",
    "    .withColumnRenamed(\"Score\", \"score\") \\\n",
    "    .withColumn(\"rating_id\", monotonically_increasing_id()) \\\n",
    "    .select(\"rating_id\", \"book_title\", \"rating\", \"num_ratings\", \"num_reviews\", \"score\")\n",
    "\n",
    "ratings_df.show(truncate=False)\n"
   ]
  },
  {
   "cell_type": "code",
   "execution_count": 68,
   "metadata": {},
   "outputs": [
    {
     "name": "stdout",
     "output_type": "stream",
     "text": [
      "+---------+-------+-------+------+\n",
      "|review_id|book_id|Reviews|Score |\n",
      "+---------+-------+-------+------+\n",
      "|0        |0      |12815  |11327 |\n",
      "|1        |1      |9926   |23183 |\n",
      "|2        |2      |11320  |53478 |\n",
      "|3        |3      |57565  |154346|\n",
      "|4        |4      |36650  |189016|\n",
      "|5        |5      |108639 |91906 |\n",
      "|6        |6      |282915 |35225 |\n",
      "|7        |7      |4335   |53626 |\n",
      "|8        |8      |16905  |123106|\n",
      "|9        |9      |17355  |24394 |\n",
      "|10       |10     |1365   |10768 |\n",
      "|11       |11     |16585  |20058 |\n",
      "|12       |12     |6607   |8869  |\n",
      "|13       |13     |34993  |12389 |\n",
      "|14       |14     |16391  |14906 |\n",
      "|15       |15     |31400  |15057 |\n",
      "|16       |16     |78076  |161412|\n",
      "|17       |17     |7928   |8873  |\n",
      "|18       |18     |9519   |14327 |\n",
      "|19       |19     |8026   |26376 |\n",
      "+---------+-------+-------+------+\n",
      "only showing top 20 rows\n",
      "\n"
     ]
    }
   ],
   "source": [
    "#  Bảng reviews\n",
    "\n",
    "from pyspark.sql import functions as F\n",
    "from pyspark.sql.functions import monotonically_increasing_id\n",
    " \n",
    "reviews_df = (\n",
    "    df.select(\"Title\", \"Reviews\", \"Score\") \n",
    "      .withColumnRenamed(\"Title\", \"book_title\")  \n",
    "      .join(books_df, \"book_title\", \"inner\")   \n",
    "      .withColumn(\"review_id\", monotonically_increasing_id())  \n",
    "      .select(\"review_id\", \"book_id\", \"Reviews\", \"Score\")   \n",
    ")\n",
    "reviews_df.show(truncate=False)\n"
   ]
  },
  {
   "cell_type": "markdown",
   "metadata": {},
   "source": [
    "#### Tạo kết nối bảng với nhau"
   ]
  },
  {
   "cell_type": "code",
   "execution_count": 69,
   "metadata": {},
   "outputs": [
    {
     "name": "stdout",
     "output_type": "stream",
     "text": [
      "+-------+--------------------------------------------------+---------+--------------+------------+----------------------------------------------------------------------------------------------+------+----------------------+-----------------------------------------------------------------------------------------------------------------------------------------------------------------------------------------------------------------------------------------------------------------------------------------------------------------------------------------------------------------------------------------------------------------------------------------------------------------------------------------------------------------------------------------------------------------------------------------------------------------------------------------------------------------------------------------------------------------------------------------------------------------------------------------+---------+------+-----------+-----------+------+\n",
      "|book_id|book_title                                        |num_pages|cover_type    |publish_date|Genres                                                                                        |Rating|Author                |description                                                                                                                                                                                                                                                                                                                                                                                                                                                                                                                                                                                                                                                                                                                                                                              |rating_id|rating|num_ratings|num_reviews|score |\n",
      "+-------+--------------------------------------------------+---------+--------------+------------+----------------------------------------------------------------------------------------------+------+----------------------+-----------------------------------------------------------------------------------------------------------------------------------------------------------------------------------------------------------------------------------------------------------------------------------------------------------------------------------------------------------------------------------------------------------------------------------------------------------------------------------------------------------------------------------------------------------------------------------------------------------------------------------------------------------------------------------------------------------------------------------------------------------------------------------------+---------+------+-----------+-----------+------+\n",
      "|231    |A Breath of Snow and Ashes (Outlander, #6)        |980      |Paperback     |2005-09-27  |Historical Fiction, Romance, Fantasy, Fiction, Time Travel, Historical, Historical Romance    |4.44  |Diana Gabaldon        | continues the extraordinary story of 18thcentury Scotsman Jamie Fraser and his 20thcentury wife Claire                                                                                                                                                                                                                                                                                                                                                                                                                                                                                                                                                                                                                                                                                  |231      |4.44  |182752     |7083       |12972 |\n",
      "|507    |Tempted (House of Night, #6)                      |319      |Paperback     |2009-10-27  |Young Adult, Vampires, Fantasy, Paranormal, Romance, Fiction, Supernatural                    |3.95  |P.C. Cast             |I can never leave you in peace You and I are bound We will be each others salvation or each others doom He took a step closer and I mirrored his movement by taking a step back Which shall it be Salvation or doom                                                                                                                                                                                                                                                                                                                                                                                                                                                                                                                                                                      |507      |3.95  |169958     |3768       |11966 |\n",
      "|529    |The Passage (The Passage, #1)                     |784      |Hardcover     |2010-06-08  |Horror, Fiction, Science Fiction, Fantasy, Post Apocalyptic, Vampires, Dystopia               |4.05  |Justin Cronin         |IT HAPPENED FAST                                                                                                                                                                                                                                                                                                                                                                                                                                                                                                                                                                                                                                                                                                                                                                         |529      |4.05  |216028     |21392      |10940 |\n",
      "|848    |Murder on the Orient Express (Hercule Poirot, #10)|274      |Paperback     |1934-01-01  |Mystery, Fiction, Crime, Mystery Thriller, Audiobook, Thriller, Detective                     |4.2   |Agatha Christie       |Just after midnight a snowdrift stops the famous Orient Express in its tracks as it travels through the mountainous Balkans The luxurious train is surprisingly full for the time of the year but by the morning it is one passenger fewer An American tycoon lies dead in his compartment stabbed a dozen times his door locked from the inside                                                                                                                                                                                                                                                                                                                                                                                                                                         |848      |4.2   |656511     |42931      |96842 |\n",
      "|102    |The Hunchback of Notre-Dame                       |510      |Paperback     |1831-03-16  |Fiction, Classics, Historical Fiction, France, Literature, Gothic, French Literature          |4.02  |Victor Hugo           |This extraordinary historical French gothic novel set in Medieval Paris under the twin towers of its greatest structure and supreme symbol the cathedral of NotreDame is the haunting drama of Quasimodo the disabled bellringer of NotreDame as he struggles to stand up to his ableist guardian Claude Frollo who also wants to commit genocide against Paris Romani population                                                                                                                                                                                                                                                                                                                                                                                                        |102      |4.02  |206373     |7928       |32837 |\n",
      "|318    |One Day in the Life of Ivan Denisovich            |182      |Paperback     |1962-11-01  |Fiction, Classics, Russia, Historical Fiction, Russian Literature, Literature, Novels         |3.98  |Aleksandr Solzhenitsyn|First published in the Soviet journal                                                                                                                                                                                                                                                                                                                                                                                                                                                                                                                                                                                                                                                                                                                                                    |318      |3.98  |117838     |6368       |14712 |\n",
      "|520    |Peace Like a River                                |312      |Paperback     |2001-08-02  |Fiction, Historical Fiction, Book Club, Literary Fiction, Novels, Coming Of Age, Adult Fiction|4.02  |Leif Enger            |Once in a great while we encounter a novel in our voluminous reading that begs to be read aloud Leif Engers debut                                                                                                                                                                                                                                                                                                                                                                                                                                                                                                                                                                                                                                                                        |520      |4.02  |94716      |9681       |14067 |\n",
      "|560    |Mansfield Park                                    |488      |Paperback     |1814-07-02  |Fiction, Classics, Historical Fiction, Literature, Audiobook, Historical, 19th Century        |3.86  |Jane Austen           |Taken from the poverty of her parents home in Portsmouth Fanny Price is brought up with her rich cousins at Mansfield Park acutely aware of her humble rank and with her cousin Edmund as her sole ally During her uncles absence in Antigua the Crawfords arrive in the neighbourhood bringing with them the glamour of London life and a reckless taste for flirtation Mansfield Park is considered Jane Austens first mature work and with its quiet heroine and subtle examination of social position and moral integrity one of her most profound                                                                                                                                                                                                                                   |560      |3.86  |358940     |15715      |33031 |\n",
      "|603    |The Wind in the Willows                           |197      |Paperback     |1908-10-08  |Classics, Fiction, Childrens, Fantasy, Animals, Young Adult, Middle Grade                     |4.02  |Kenneth Grahame       |For more than a century                                                                                                                                                                                                                                                                                                                                                                                                                                                                                                                                                                                                                                                                                                                                                                  |603      |4.02  |226386     |9734       |64157 |\n",
      "|659    |World Without End (Kingsbridge, #2)               |1237     |Hardcover     |2007-10-04  |Historical Fiction, Fiction, Historical, Audiobook, Medieval, British Literature, Fantasy     |4.31  |Ken Follett           |World Without End takes place in the same town of Kingsbridge two centuries after the townspeople finished building the exquisite Gothic cathedral that was at the heart of The Pillars of the Earth The cathedral and the priory are again at the center of a web of love and hate greed and pride ambition and revenge but this sequel stands on its own This time the men and women of an extraordinary cast of characters find themselves at a crossroads of new ideasabout medicine commerce architecture and justice In a world where proponents of the old ways fiercely battle those with progressive minds the intrigue and tension quickly reach a boiling point against the devastating backdrop of the greatest natural disaster ever to strike the human racethe Black Death|659      |4.31  |258716     |13774      |15899 |\n",
      "|950    |The Grapes of Wrath                               |496      |Hardcover     |1939-04-14  |Classics, Fiction, Historical Fiction, Literature, Novels, School, American                   |4.01  |John Steinbeck        |The Pulitzer Prizewinning epic of the Great Depression a book that galvanizedand sometimes outragedmillions of readers                                                                                                                                                                                                                                                                                                                                                                                                                                                                                                                                                                                                                                                                   |950      |4.01  |932926     |25450      |33379 |\n",
      "|286    |القرآن الكريم                                     |604      |Hardcover     |0632-03-18  |Nonfiction, Classics, Philosophy, Religion, Spirituality, History, Theology                   |4.38  |Anonymous             |The Quran English pronunciation krn Arabic  alqurn IPA quran literally meaning the recitation also transliterated Quran Koran AlCoran Coran Kuran and AlQuran is the central religious text of Islam which Muslims believe to be the verbatim word of God Arabic  Allah                                                                                                                                                                                                                                                                                                                                                                                                                                                                                                                  |286      |4.38  |69495      |3826       |33828 |\n",
      "|454    |Rebecca                                           |449      |Kindle Edition|1938-08-01  |Fiction, Mystery, Gothic, Romance, Classics, Historical Fiction, Thriller                     |4.25  |Daphne du Maurier     |The novel begins in Monte Carlo where our heroine is swept off her feet by the dashing widower Maxim de Winter and his sudden proposal of marriage Orphaned and working as a ladys maid she can barely believe her luck It is only when they arrive at his massive country estate that she realizes how large a shadow his late wife will cast over their livespresenting her with a lingering evil that threatens to destroy their marriage from beyond the grave                                                                                                                                                                                                                                                                                                                       |454      |4.25  |656925     |43272      |418161|\n",
      "|623    |Angels & Demons (Robert Langdon, #1)              |736      |Paperback     |2000-05-01  |Fiction, Mystery, Thriller, Mystery Thriller, Suspense, Adventure, Crime                      |3.94  |Dan       Brown       |An ancient secret brotherhood                                                                                                                                                                                                                                                                                                                                                                                                                                                                                                                                                                                                                                                                                                                                                            |623      |3.94  |3259497    |34843      |22079 |\n",
      "|719    |The Fellowship of the Ring (Middle Earth, #1)     |432      |Kindle Edition|1954-07-29  |Fantasy, Classics, Fiction, Adventure, Audiobook, High Fantasy, Science Fiction Fantasy       |4.39  |J.R.R. Tolkien        |In ancient times the Rings of Power were crafted by the Elvensmiths and Sauron the Dark Lord forged the One Ring filling it with his own power so that he could rule all others But the One Ring was taken from him and though he sought it throughout Middleearth it remained lost to him After many ages it fell into the hands of Bilbo Baggins as told in                                                                                                                                                                                                                                                                                                                                                                                                                            |719      |4.39  |2881649    |43569      |418754|\n",
      "|930    |Death of a Salesman                               |144      |Hardcover     |1949-01-01  |Classics, Plays, Fiction, Drama, School, Theatre, Literature                                  |3.58  |Arthur Miller         |Willy Loman has been a salesman for 34 years At 60 he is cast aside his usefulness now exhausted With no future to dream about he must face the crushing disappointments of his past He takes one final brave action but is he heroic at last or a selfdeluding fool                                                                                                                                                                                                                                                                                                                                                                                                                                                                                                                     |930      |3.58  |242175     |8395       |27255 |\n",
      "|934    |Archer's Voice                                    |377      |ebook         |2014-01-25  |Romance, Contemporary, Contemporary Romance, New Adult, Fiction, Adult, Audiobook             |4.2   |Mia Sheridan          |When Bree Prescott arrives in the sleepy lakeside town of Pelion Maine she hopes against hope that this is the place where she will finally find the peace she so desperately seeks On her first day there her life collides with Archer Hale an isolated man who holds a secret agony of his own A man no one else sees                                                                                                                                                                                                                                                                                                                                                                                                                                                                 |934      |4.2   |545692     |60180      |12209 |\n",
      "|938    |Scarlet (The Lunar Chronicles, #2)                |454      |Hardcover     |2013-02-05  |Fantasy, Young Adult, Science Fiction, Romance, Dystopia, Retellings, Fiction                 |4.24  |Marissa Meyer         |Cinder is back and trying to break out of prisoneven though shell be the Commonwealths most wanted fugitive if she doesin this second installment from Marissa Meyer                                                                                                                                                                                                                                                                                                                                                                                                                                                                                                                                                                                                                     |938      |4.24  |434608     |40170      |16503 |\n",
      "|44     |The Golden Compass (His Dark Materials, #1)       |399      |Hardcover     |1995-07-01  |Fantasy, Young Adult, Fiction, Childrens, Adventure, Middle Grade, Audiobook                  |4.03  |Philip Pullman        |Lyra is rushing to the cold far North where witch clans and armored bears rule North where the Gobblers take the children they stealincluding her friend Roger North where her fearsome uncle Asriel is trying to build a bridge to a parallel world                                                                                                                                                                                                                                                                                                                                                                                                                                                                                                                                     |44       |4.03  |1556218    |28587      |317147|\n",
      "|260    |Tender Is the Night                               |430      |Paperback     |1934-04-12  |Classics, Fiction, Literature, Romance, American, Novels, 20th Century                        |3.78  |F. Scott Fitzgerald   |Set on the French Riviera in the late 1920s                                                                                                                                                                                                                                                                                                                                                                                                                                                                                                                                                                                                                                                                                                                                              |260      |3.78  |140746     |7313       |9844  |\n",
      "+-------+--------------------------------------------------+---------+--------------+------------+----------------------------------------------------------------------------------------------+------+----------------------+-----------------------------------------------------------------------------------------------------------------------------------------------------------------------------------------------------------------------------------------------------------------------------------------------------------------------------------------------------------------------------------------------------------------------------------------------------------------------------------------------------------------------------------------------------------------------------------------------------------------------------------------------------------------------------------------------------------------------------------------------------------------------------------------+---------+------+-----------+-----------+------+\n",
      "only showing top 20 rows\n",
      "\n"
     ]
    }
   ],
   "source": [
    "# Giả sử books_df và ratings_df đã được chuẩn bị và có cột book_title\n",
    "books_with_ratings = books_df \\\n",
    "    .join(ratings_df, books_df.book_title == ratings_df.book_title, \"left\") \\\n",
    "    .select(\n",
    "        books_df[\"*\"],  \n",
    "        ratings_df[\"rating_id\"], \n",
    "        ratings_df[\"rating\"], \n",
    "        ratings_df[\"num_ratings\"], \n",
    "        ratings_df[\"num_reviews\"],\n",
    "        ratings_df[\"score\"] \n",
    "    )\n",
    "\n",
    "# Hiển thị kết quả sau khi nối\n",
    "books_with_ratings.show(truncate=False)\n"
   ]
  },
  {
   "cell_type": "code",
   "execution_count": 70,
   "metadata": {},
   "outputs": [
    {
     "name": "stdout",
     "output_type": "stream",
     "text": [
      "+-------+----------------------------------------------------------------------------------+---------+---------------------+------------+------+--------------------+----------------------------------------------------------------------------------------------------------------------------------------------------------------------------------------------------------------------------------------------------------------------------------------------------------------------------------------------------------------------------------------------------------------------------------------------------------------------------------------------------------------------------------------------------------------------------------------------------------------------------------------------------------------------------------------------------------------------------------------------------------------------------------------------------------------------------------------------------------------------------------------------------------------------------------------------------------------------------------------------------------------------------------------------------------------------------------------------------------------------------------------------------------------------------------------------------------------------------------------------------------------------------------------------------------------------------------------------------------------------------------------------------------------------------------------------------------------------------------------------------------------------------------------------------------------------------------------+------------------+\n",
      "|book_id|book_title                                                                        |num_pages|cover_type           |publish_date|Rating|Author              |description                                                                                                                                                                                                                                                                                                                                                                                                                                                                                                                                                                                                                                                                                                                                                                                                                                                                                                                                                                                                                                                                                                                                                                                                                                                                                                                                                                                                                                                                                                                                                                             |genre_name        |\n",
      "+-------+----------------------------------------------------------------------------------+---------+---------------------+------------+------+--------------------+----------------------------------------------------------------------------------------------------------------------------------------------------------------------------------------------------------------------------------------------------------------------------------------------------------------------------------------------------------------------------------------------------------------------------------------------------------------------------------------------------------------------------------------------------------------------------------------------------------------------------------------------------------------------------------------------------------------------------------------------------------------------------------------------------------------------------------------------------------------------------------------------------------------------------------------------------------------------------------------------------------------------------------------------------------------------------------------------------------------------------------------------------------------------------------------------------------------------------------------------------------------------------------------------------------------------------------------------------------------------------------------------------------------------------------------------------------------------------------------------------------------------------------------------------------------------------------------+------------------+\n",
      "|76     |Aristotle and Dante Discover the Secrets of the Universe (Aristotle and Dante, #1)|390      |Hardcover            |2012-02-21  |4.3   |Benjamin Alire Sáenz|Dante can swim Ari cant Dante is articulate and selfassured Ari has a hard time with words and suffers from selfdoubt Dante gets lost in poetry and art Ari gets lost in thoughts of his older brother who is in prison Dante is fair skinned Aris features are much darker It seems that a boy like Dante with his open and unique perspective on life would be the last person to break down the walls that Ari has built around himself                                                                                                                                                                                                                                                                                                                                                                                                                                                                                                                                                                                                                                                                                                                                                                                                                                                                                                                                                                                                                                                                                                                                              | Coming Of Age    |\n",
      "|407    |Anne of Green Gables (Anne of Green Gables, #1)                                   |320      |Mass Market Paperback|1908-01-01  |4.32  |L.M. Montgomery     |This heartwarming story has beckoned generations of readers into the special world of Green Gables an oldfashioned farm outside a town called Avonlea Anne Shirley an elevenyearold orphan has arrived in this verdant corner of Prince Edward Island only to discover that the Cuthbertselderly Matthew and his stern sister Marillawant to adopt a boy not a feisty redheaded girl But before they can send her back Annewho simply must have more scope for her imagination and a real homewins them over completely A muchloved classic that explores all the vulnerability expectations and dreams of a child growing up                                                                                                                                                                                                                                                                                                                                                                                                                                                                                                                                                                                                                                                                                                                                                                                                                                                                                                                                                           |Classics          |\n",
      "|693    |Johnny Got His Gun                                                                |309      |Paperback            |1939-09-03  |4.2   |Dalton Trumbo       |This was no ordinary war This was a war to make the world safe for democracy And if democracy was made safe then nothing else mattered  not the millions of dead bodies nor the thousands of ruined lives                                                                                                                                                                                                                                                                                                                                                                                                                                                                                                                                                                                                                                                                                                                                                                                                                                                                                                                                                                                                                                                                                                                                                                                                                                                                                                                                                                               |Fiction           |\n",
      "|523    |11/22/63                                                                          |849      |Hardcover            |2011-11-08  |4.34  |Stephen        King |On November 22 1963 three shots rang out in Dallas President Kennedy died and the world changed Unless                                                                                                                                                                                                                                                                                                                                                                                                                                                                                                                                                                                                                                                                                                                                                                                                                                                                                                                                                                                                                                                                                                                                                                                                                                                                                                                                                                                                                                                                                  |Fiction           |\n",
      "|554    |The Stranger                                                                      |123      |Paperback            |1942-05-19  |4.03  |Albert Camus        |Published in 1942 by French author Albert Camus                                                                                                                                                                                                                                                                                                                                                                                                                                                                                                                                                                                                                                                                                                                                                                                                                                                                                                                                                                                                                                                                                                                                                                                                                                                                                                                                                                                                                                                                                                                                         | French Literature|\n",
      "|822    |No Exit                                                                           |287      |ebook                |2017-06-25  |4.0   |Taylor  Adams       |A kidnapped little girl locked in a strangers van No help for miles What would you do                                                                                                                                                                                                                                                                                                                                                                                                                                                                                                                                                                                                                                                                                                                                                                                                                                                                                                                                                                                                                                                                                                                                                                                                                                                                                                                                                                                                                                                                                                   | Horror           |\n",
      "|960    |To the Lighthouse                                                                 |209      |Paperback            |1927-05-05  |3.8   |Virginia Woolf      |The serene and maternal Mrs Ramsay the tragic yet absurd Mr Ramsay and their children and assorted guests are on holiday on the Isle of Skye From the seemingly trivial postponement of a visit to a nearby lighthouse Woolf constructs a remarkable moving examination of the complex tensions and allegiances of family life and the conflict between men and women                                                                                                                                                                                                                                                                                                                                                                                                                                                                                                                                                                                                                                                                                                                                                                                                                                                                                                                                                                                                                                                                                                                                                                                                                   | Fiction          |\n",
      "|339    |Go Ask Alice                                                                      |213      |Paperback            |1971-01-01  |3.74  |Beatrice Sparks     |It started when she was served a soft drink laced with LSD in a dangerous party game Within months she was hooked trapped in a downward spiral that took her from her comfortable home and loving family to the mean streets of an unforgiving city It was a journey that would rob her of her innocence her youth  and ultimately her life                                                                                                                                                                                                                                                                                                                                                                                                                                                                                                                                                                                                                                                                                                                                                                                                                                                                                                                                                                                                                                                                                                                                                                                                                                             | Classics         |\n",
      "|348    |Empire of Storms (Throne of Glass, #5)                                            |689      |Hardcover            |2016-09-06  |4.63  |Sarah J. Maas       |The long path to the throne has only just begun for Aelin Galathynius as war looms on the horizon Loyalties have been broken and bought friends have been lost and gained and those who possess magic find themselves at odds with those who dont                                                                                                                                                                                                                                                                                                                                                                                                                                                                                                                                                                                                                                                                                                                                                                                                                                                                                                                                                                                                                                                                                                                                                                                                                                                                                                                                       | New Adult        |\n",
      "|83     |Pretty Girls                                                                      |432      |Paperback            |2015-07-02  |4.03  |Karin Slaughter     |Twenty years ago Claire Scotts eldest sister Julia went missing No one knew where she went  no note no body It was a mystery that was never solved and it tore her family apart                                                                                                                                                                                                                                                                                                                                                                                                                                                                                                                                                                                                                                                                                                                                                                                                                                                                                                                                                                                                                                                                                                                                                                                                                                                                                                                                                                                                         |Thriller          |\n",
      "|317    |The Virgin Suicides                                                               |250      |Paperback            |1993-01-01  |3.79  |Jeffrey Eugenides   |The shocking thing about the girls was how nearly normal they seemed when their mother let them out for the one and only date of their lives Twenty years on their enigmatic personalities are embalmed in the memories of the boys who worshipped them and who now recall their shared adolescence the brassiere draped over a crucifix belonging to the promiscuous Lux the sisters breathtaking appearance on the night of the dance and the sultry sleepy street across which they watched a family disintegrate and fragile lives disappear                                                                                                                                                                                                                                                                                                                                                                                                                                                                                                                                                                                                                                                                                                                                                                                                                                                                                                                                                                                                                                        | Classics         |\n",
      "|889    |The Wind-Up Bird Chronicle                                                        |607      |Paperback            |1994-04-12  |4.15  |Haruki Murakami     |Japans most highly regarded novelist now vaults into the first ranks of international fiction writers with this heroically imaginative novel which is at once a detective story an account of a disintegrating marriage and an excavation of the buried secrets of World War II                                                                                                                                                                                                                                                                                                                                                                                                                                                                                                                                                                                                                                                                                                                                                                                                                                                                                                                                                                                                                                                                                                                                                                                                                                                                                                         | Magical Realism  |\n",
      "|357    |Cutting for Stone                                                                 |560      |Hardcover            |2009-01-01  |4.32  |Abraham   Verghese  |A sweeping emotionally riveting first novel  an enthralling family saga of Africa and America doctors and patients exile and home                                                                                                                                                                                                                                                                                                                                                                                                                                                                                                                                                                                                                                                                                                                                                                                                                                                                                                                                                                                                                                                                                                                                                                                                                                                                                                                                                                                                                                                       | Book Club        |\n",
      "|828    |Finale (Hush, Hush, #4)                                                           |466      |Hardcover            |2012-10-01  |4.12  |Becca Fitzpatrick   |Nora and Patch thought their troubles were behind them Hank is gone and they should be able to put his ugly vendetta to rest But in Hanks absence Nora has become the unwitting head of the Nephilim and must finish what Hank began Which ultimately means destroying the fallen angels  destroying Patch                                                                                                                                                                                                                                                                                                                                                                                                                                                                                                                                                                                                                                                                                                                                                                                                                                                                                                                                                                                                                                                                                                                                                                                                                                                                              | Young Adult      |\n",
      "|217    |Lord of the Flies                                                                 |182      |Paperback            |1954-09-17  |3.7   |William Golding     |At the dawn of the next world war a plane crashes on an uncharted island stranding a group of schoolboys At first with no adult supervision their freedom is something to celebrate this far from civilization the boys can do anything they want Anything They attempt to forge their own society failing however in the face of terror sin and evil And as order collapses as strange howls echo in the night as terror begins its reign the hope of adventure seems as far from reality as the hope of being rescued Labeled a parable an allegory a myth a morality tale a parody a political treatise even a vision of the apocalypse Lord of the Flies is perhaps our most memorable novel about the end of innocence the darkness of mans heart                                                                                                                                                                                                                                                                                                                                                                                                                                                                                                                                                                                                                                                                                                                                                                                                                                  | Literature       |\n",
      "|468    |The Assassin's Blade (Throne of Glass, #0.1-0.5)                                  |448      |ebook                |2014-03-04  |4.22  |Sarah J. Maas       |Celaena Sardothien is Adarlans most feared assassin As part of the Assassins Guild her allegiance is to her master Arobynn Hamel yet Celaena listens to no one and trusts only her fellow killerforhire Sam In these actionpacked novellas  together in one edition for the first time  Celaena embarks on five daring missions They take her from remote islands to hostile deserts where she fights to liberate slaves and seeks to avenge the tyrannous But she is acting against Arobynns orders and could suffer an unimaginable punishment for such treachery Will Celaena ever be truly free Explore the dark underworld of this kickass heroine to find out                                                                                                                                                                                                                                                                                                                                                                                                                                                                                                                                                                                                                                                                                                                                                                                                                                                                                                                     | High Fantasy     |\n",
      "|154    |Sapiens: A Brief History of Humankind                                             |512      |Paperback            |2011-01-01  |4.35  |Yuval Noah Harari   |From a renowned historian comes a groundbreaking narrative of humanitys creation and evolutiona 1 international bestsellerthat explores the ways in which biology and history have defined us and enhanced our understanding of what it means to be human One hundred thousand years ago at least six different species of humans inhabited Earth Yet today there is only onehomo sapiens What happened to the others And what may happen to us Most books about the history of humanity pursue either a historical or a biological approach but Dr Yuval Noah Harari breaks the mold with this highly original book that begins about 70000 years ago with the appearance of modern cognition From examining the role evolving humans have played in the global ecosystem to charting the rise of empires Sapiens integrates history and science to reconsider accepted narratives connect past developments with contemporary concerns and examine specific events within the context of larger ideas Dr Harari also compels us to look ahead because over the last few decades humans have begun to bend laws of natural selection that have governed life for the past four billion years We are acquiring the ability to design not only the world around us but also ourselves Where is this leading us and what do we want to become Featuring 27 photographs 6 maps and 25 illustrationsdiagrams this provocative and insightful work is sure to spark debate and is essential reading for aficionados of Jared Diamond James Gleick Matt Ridley Robert Wright and Sharon Moalem| Psychology       |\n",
      "|254    |Harry Potter and the Half-Blood Prince (Harry Potter, #6)                         |652      |Paperback            |2005-07-16  |4.58  |J.K. Rowling        |It is the middle of the summer but there is an unseasonal mist pressing against the windowpanes Harry Potter is waiting nervously in his bedroom at the Dursleys house in Privet Drive for a visit from Professor Dumbledore himself One of the last times he saw the Headmaster he was in a fierce onetoone duel with Lord Voldemort and Harry cant quite believe that Professor Dumbledore will actually appear at the Dursleys of all places Why is the Professor coming to visit him now What is it that cannot wait until Harry returns to Hogwarts in a few weeks time Harrys sixth year at Hogwarts has already got off to an unusual start as the worlds of Muggle and magic start to intertwine                                                                                                                                                                                                                                                                                                                                                                                                                                                                                                                                                                                                                                                                                                                                                                                                                                                                                | Adventure        |\n",
      "|883    |1984                                                                              |298      |Kindle Edition       |1949-06-08  |4.19  |George Orwell       |Among the seminal texts of the 20th century                                                                                                                                                                                                                                                                                                                                                                                                                                                                                                                                                                                                                                                                                                                                                                                                                                                                                                                                                                                                                                                                                                                                                                                                                                                                                                                                                                                                                                                                                                                                             | Politics         |\n",
      "|22     |The Girl in the Eagle's Talons (Millennium, #7)                                   |368      |Hardcover            |2022-11-04  |3.43  |Karin Smirnoff      |Change is coming to Swedens far north its untapped natural resources are sparking a gold rush with the criminal underworld leading the charge But its not the prospect of riches that brings Lisbeth Salander to the small town of Gasskas She has been named guardian to her niece Svala whose mother has disappeared Two things soon become clear Svala is a remarkably gifted teenagerand shes being watched                                                                                                                                                                                                                                                                                                                                                                                                                                                                                                                                                                                                                                                                                                                                                                                                                                                                                                                                                                                                                                                                                                                                                                         |Thriller          |\n",
      "+-------+----------------------------------------------------------------------------------+---------+---------------------+------------+------+--------------------+----------------------------------------------------------------------------------------------------------------------------------------------------------------------------------------------------------------------------------------------------------------------------------------------------------------------------------------------------------------------------------------------------------------------------------------------------------------------------------------------------------------------------------------------------------------------------------------------------------------------------------------------------------------------------------------------------------------------------------------------------------------------------------------------------------------------------------------------------------------------------------------------------------------------------------------------------------------------------------------------------------------------------------------------------------------------------------------------------------------------------------------------------------------------------------------------------------------------------------------------------------------------------------------------------------------------------------------------------------------------------------------------------------------------------------------------------------------------------------------------------------------------------------------------------------------------------------------+------------------+\n",
      "only showing top 20 rows\n",
      "\n"
     ]
    }
   ],
   "source": [
    "# Nối ba bảng: books, genres, và book_genres\n",
    "final_df = books_df \\\n",
    "    .join(book_genres_df, \"book_id\", \"inner\") \\\n",
    "    .join(genres_df, \"genre_id\", \"inner\") \\\n",
    "    .select(\"book_id\", \"book_title\", \"num_pages\", \"cover_type\", \"publish_date\", \n",
    "            \"Rating\", \"Author\", \"description\", \"genre_name\")\n",
    "\n",
    "# Hiển thị kết quả cuối cùng\n",
    "final_df.show(truncate=False)\n"
   ]
  },
  {
   "cell_type": "code",
   "execution_count": 71,
   "metadata": {},
   "outputs": [
    {
     "name": "stdout",
     "output_type": "stream",
     "text": [
      "+-------+---------+\n",
      "|book_id|rating_id|\n",
      "+-------+---------+\n",
      "|524    |0        |\n",
      "|358    |1        |\n",
      "|800    |2        |\n",
      "|774    |3        |\n",
      "|852    |4        |\n",
      "|58     |5        |\n",
      "|658    |6        |\n",
      "|853    |7        |\n",
      "|758    |8        |\n",
      "|558    |9        |\n",
      "|510    |10       |\n",
      "|829    |11       |\n",
      "|993    |12       |\n",
      "|830    |13       |\n",
      "|783    |14       |\n",
      "|493    |15       |\n",
      "|656    |16       |\n",
      "|581    |17       |\n",
      "|883    |18       |\n",
      "|911    |19       |\n",
      "+-------+---------+\n",
      "only showing top 20 rows\n",
      "\n"
     ]
    }
   ],
   "source": [
    "# Tạo khóa chính cho bảng books_df (giả định rằng chưa có book_id)\n",
    "from pyspark.sql.functions import monotonically_increasing_id\n",
    "\n",
    "books_df = books_df.withColumn(\"book_id\", monotonically_increasing_id())\n",
    "ratings_df = ratings_df.select(\"book_title\", \"rating\", \"num_ratings\", \"num_reviews\", \"score\") \\\n",
    "    .withColumn(\"rating_id\", monotonically_increasing_id()) \\\n",
    "    .select(\"rating_id\", \"book_title\", \"rating\", \"num_ratings\", \"num_reviews\", \"score\")\n",
    "books_ratings_df = books_df \\\n",
    "    .join(ratings_df, books_df.book_title == ratings_df.book_title, \"inner\") \\\n",
    "    .select(books_df[\"book_id\"], ratings_df[\"rating_id\"])\n",
    "books_ratings_df.show(truncate=False)\n"
   ]
  },
  {
   "cell_type": "code",
   "execution_count": 72,
   "metadata": {},
   "outputs": [
    {
     "name": "stdout",
     "output_type": "stream",
     "text": [
      "+-------+--------------------------------------------------+---------+---------------------+------------+------------------------------------------------------------------------------------------------+------+---------------------+---------------------------------------------------------------------------------------------------------------------------------------------------------------------------------------------------------------------------------------------------------------------------------------------------------------------------------------------------------------------------------------------------------------------------------------------------------------------------------------------------------------------------------------------------------------------------------------------------------------------------------------------------------------------------------------------------------------------------------------------------------------------------------------------------------------------------------------------------------------------------------------------------------------------------------------------------------------------------------------------------------------------------------------------------------------------------------------------------------------------------------------------------------------------------------------------------------------------------------------------------------------------------------------------------------------------------------------------------------------------------------------------------------------------------------------------------------------------------------------------------------------------------+---------+\n",
      "|book_id|book_title                                        |num_pages|cover_type           |publish_date|Genres                                                                                          |Rating|Author               |description                                                                                                                                                                                                                                                                                                                                                                                                                                                                                                                                                                                                                                                                                                                                                                                                                                                                                                                                                                                                                                                                                                                                                                                                                                                                                                                                                                                                                                                                                                                |rating_id|\n",
      "+-------+--------------------------------------------------+---------+---------------------+------------+------------------------------------------------------------------------------------------------+------+---------------------+---------------------------------------------------------------------------------------------------------------------------------------------------------------------------------------------------------------------------------------------------------------------------------------------------------------------------------------------------------------------------------------------------------------------------------------------------------------------------------------------------------------------------------------------------------------------------------------------------------------------------------------------------------------------------------------------------------------------------------------------------------------------------------------------------------------------------------------------------------------------------------------------------------------------------------------------------------------------------------------------------------------------------------------------------------------------------------------------------------------------------------------------------------------------------------------------------------------------------------------------------------------------------------------------------------------------------------------------------------------------------------------------------------------------------------------------------------------------------------------------------------------------------+---------+\n",
      "|524    |Rubinrot (Edelstein-Trilogie, #1)                 |345      |Hardcover            |2009-01-06  |Fantasy, Young Adult, Time Travel, Romance, Historical Fiction, Fiction, Science Fiction        |4.13  |Kerstin Gier         |Manchmal ist es ein echtes Kreuz in einer Familie zu leben die jede Menge Geheimnisse hat Der berzeugung ist zumindest die 16jhrige Gwendolyn                                                                                                                                                                                                                                                                                                                                                                                                                                                                                                                                                                                                                                                                                                                                                                                                                                                                                                                                                                                                                                                                                                                                                                                                                                                                                                                                                                              |0        |\n",
      "|358    |The Exorcist                                      |385      |Mass Market Paperback|1971-05-01  |Horror, Fiction, Thriller, Paranormal, Supernatural, Fantasy, Audiobook                         |4.2   |William Peter Blatty |Georgetown Washington DC Actress and divorced mother Chris MacNeil starts to experience difficulties with her usually sweetnatured elevenyearold daughter Regan The child becomes afflicted by spasms convulsions and unsettling amnesiac episodes these abruptly worsen into violent fits of appalling foulmouthed curses accompanied by physical mutation Medical science is baffled by Regans plight and in her increasing despair Chris turns to troubled priest and psychiatrist Damien Karras who immediately recognises something profoundly malevolent in Regans distorted fetures and speech On Karrass recommendation the Church summons Father Merrin a specialist in the exorcism of demons                                                                                                                                                                                                                                                                                                                                                                                                                                                                                                                                                                                                                                                                                                                                                                                                                    |1        |\n",
      "|800    |Othello                                           |319      |Mass Market Paperback|1603-01-01  |Classics, Plays, Fiction, School, Theatre, Literature, Read For School                          |3.89  |William Shakespeare  |In Othello Shakespeare creates a powerful drama of a marriage that begins with fascination between the exotic Moor Othello and the Venetian lady Desdemona with elopement and with intense mutual devotion and that ends precipitately with jealous rage and violent deaths He sets this story in the romantic world of the Mediterranean moving the action from Venice to the island of Cyprus and giving it an even more exotic coloring with stories of Othellos African past Shakespeare builds so many differences into his hero and heroinedifferences of race of age of cultural backgroundthat one should not perhaps be surprised that the marriage ends disastrously But most people who see or read the play feel that the love that the play presents between Othello and Desdemona is so strong that it would have overcome all these differences were it not for the words and actions of Othellos standardbearer Iago who hates Othello and sets out to destroy him by destroying his love for Desdemona As Othello succumbs to Iagos insinuations that Desdemona is unfaithful fascinationwhich dominates the early acts of the playturns to horror especially for the audience We are confronted by spectacles of a generous and trusting Othello in the grip of Iagos schemes of an innocent Desdemona who has given herself up entirely to her love for Othello only to be subjected to his horrifying verbal and physical assaults the outcome of Othellos mistaken convictions about her faithlessness|2        |\n",
      "|774    |The Curious Incident of the Dog in the Night-Time |226      |Paperback            |2003-07-31  |Fiction, Mystery, Young Adult, Classics, Autistic Spectrum Disorder, Novels, Contemporary       |3.89  |Mark Haddon          |Christopher John Francis Boone knows all the countries of the world and their capitals and every prime number up to 7057 He relates well to animals but has no understanding of human emotions He cannot stand to be touched And he detests the color yellow This improbable story of Christophers quest to investigate the suspicious death of a neighborhood dog makes for one of the most captivating unusual and widely heralded novels in recent years                                                                                                                                                                                                                                                                                                                                                                                                                                                                                                                                                                                                                                                                                                                                                                                                                                                                                                                                                                                                                                                                |3        |\n",
      "|852    |The Secret Life of Bees                           |302      |Paperback            |2001-11-08  |Fiction, Historical Fiction, Classics, Young Adult, Historical, Contemporary, Coming Of Age     |4.09  |Sue Monk Kidd        |Set in South Carolina in 1964                                                                                                                                                                                                                                                                                                                                                                                                                                                                                                                                                                                                                                                                                                                                                                                                                                                                                                                                                                                                                                                                                                                                                                                                                                                                                                                                                                                                                                                                                              |4        |\n",
      "|58     |The Night Circus                                  |506      |Hardcover            |2011-09-13  |Fantasy, Fiction, Romance, Historical Fiction, Magic, Young Adult, Audiobook                    |4.01  |Erin Morgenstern     |The circus arrives without warning No announcements precede it It is simply there when yesterday it was not Within the blackandwhite striped canvas tents is an utterly unique experience full of breathtaking amazements It is called Le Cirque des Rves and it is only open at night                                                                                                                                                                                                                                                                                                                                                                                                                                                                                                                                                                                                                                                                                                                                                                                                                                                                                                                                                                                                                                                                                                                                                                                                                                     |5        |\n",
      "|658    |It Ends with Us (It Ends with Us #1)              |386      |Kindle Edition       |2016-08-02  |Fiction, Contemporary, New Adult, Audiobook, Contemporary Romance, Adult, Abuse                 |4.14  |Colleen Hoover       |Sometimes it is the one who loves you who hurts you the most                                                                                                                                                                                                                                                                                                                                                                                                                                                                                                                                                                                                                                                                                                                                                                                                                                                                                                                                                                                                                                                                                                                                                                                                                                                                                                                                                                                                                                                               |6        |\n",
      "|853    |Roots: The Saga of an American Family             |729      |Mass Market Paperback|1976-08-17  |Historical Fiction, Fiction, Classics, Historical, African American, Africa, Race               |4.44  |Alex Haley           |When he was a boy in Henning Tennessee Alex Haleys grandmother used to tell him stories about their familystories that went back to                                                                                                                                                                                                                                                                                                                                                                                                                                                                                                                                                                                                                                                                                                                                                                                                                                                                                                                                                                                                                                                                                                                                                                                                                                                                                                                                                                                        |7        |\n",
      "|758    |Peter Pan                                         |176      |Hardcover            |1911-01-01  |Fantasy, Fiction, Childrens, Classics, Adventure, Young Adult, Audiobook                        |4.04  |J.M. Barrie          |One starry night Peter Pan and Tinker Bell lead the three Darling children over the rooftops of London and away to Neverland  the island where lost boys play mermaids splash and fairies make mischief But a villainouslooking gang of pirates lurk in the docks led by the terrifying Captain James Hook Magic and excitement are in the air but if Captain Hook has his way before long someone will be walking the plank and swimming with the crocodiles                                                                                                                                                                                                                                                                                                                                                                                                                                                                                                                                                                                                                                                                                                                                                                                                                                                                                                                                                                                                                                                              |8        |\n",
      "|558    |Shantaram                                         |936      |Paperback            |2003-01-01  |Fiction, Travel, Adventure, Historical Fiction, Contemporary, Novels, Audiobook                 |4.27  |Gregory David Roberts|It took me a long time and most of the world to learn what I know about love and fate and the choices we make but the heart of it came to me in an instant while I was chained to a wall and being tortured                                                                                                                                                                                                                                                                                                                                                                                                                                                                                                                                                                                                                                                                                                                                                                                                                                                                                                                                                                                                                                                                                                                                                                                                                                                                                                                |9        |\n",
      "|510    |The Jungle Books                                  |368      |Mass Market Paperback|1895-01-01  |Classics, Fiction, Childrens, Fantasy, Adventure, Short Stories, Literature                     |4.01  |Rudyard Kipling      |The Jungle Books can be regarded as classic stories told by an adult to children But they also constitute a complex literary work of art in which the whole of Kiplings philosophy of life is expressed in miniature They are best known for the Mowgli stories the tale of a baby abandoned and brought up by wolves educated in the ways and secrets of the jungle by Kaa the python Baloo the bear and Bagheera the black panther The stories a mixture of fantasy myth and magic are underpinned by Kiplings abiding preoccupation with the theme of selfdiscovery and the nature of the Law                                                                                                                                                                                                                                                                                                                                                                                                                                                                                                                                                                                                                                                                                                                                                                                                                                                                                                                           |10       |\n",
      "|829    |What Lies in the Woods                            |322      |Hardcover            |2023-01-17  |Thriller, Mystery, Mystery Thriller, Fiction, Audiobook, Horror, Suspense                       |3.96  |Kate Alice Marshall  |Naomi Shaw used to believe in magic Twentytwo years ago she and her two best friends Cassidy and Olivia spent the summer roaming the woods imagining a world of ceremony and wonder They called it the Goddess Game The summer ended suddenly when Naomi was attacked Miraculously she survived her seventeen stab wounds and lived to identify the man who had hurt her The girls testimony put away a serial killer wanted for murdering six women They were heroes                                                                                                                                                                                                                                                                                                                                                                                                                                                                                                                                                                                                                                                                                                                                                                                                                                                                                                                                                                                                                                                      |11       |\n",
      "|993    |Guilty Pleasures (Anita Blake, Vampire Hunter, #1)|355      |Paperback            |1993-10-01  |Urban Fantasy, Fantasy, Vampires, Paranormal, Romance, Horror, Fiction                          |4.02  |Laurell K. Hamilton  |Anita Blake is small dark and dangerous Her turf is the city of St Louis Her job reanimating the dead and killing the undead who take things too far But when the citys most powerful vampire asks her to solve a series of vicious slayings Anita must confront her greatest fearher undeniable attraction to master vampire JeanClaude one of the creatures she is sworn to destroy                                                                                                                                                                                                                                                                                                                                                                                                                                                                                                                                                                                                                                                                                                                                                                                                                                                                                                                                                                                                                                                                                                                                      |12       |\n",
      "|830    |The Hero of Ages (Mistborn, #3)                   |572      |Hardcover            |2008-10-14  |Fantasy, Fiction, Epic Fantasy, High Fantasy, Audiobook, Adult, Magic                           |4.54  |Brandon Sanderson    |Description contains spoilers for previous book in the series                                                                                                                                                                                                                                                                                                                                                                                                                                                                                                                                                                                                                                                                                                                                                                                                                                                                                                                                                                                                                                                                                                                                                                                                                                                                                                                                                                                                                                                              |13       |\n",
      "|783    |The Secret (The Secret, #1)                       |199      |Hardcover            |2006-11-28  |Self Help, Nonfiction, Spirituality, Psychology, Personal Development, Philosophy, Inspirational|3.73  |Rhonda Byrne         |In 2006 a groundbreaking featurelength film revealed the great mystery of the universe                                                                                                                                                                                                                                                                                                                                                                                                                                                                                                                                                                                                                                                                                                                                                                                                                                                                                                                                                                                                                                                                                                                                                                                                                                                                                                                                                                                                                                     |14       |\n",
      "|493    |The Scorch Trials (The Maze Runner, #2)           |362      |Hardcover            |2010-10-12  |Young Adult, Dystopia, Science Fiction, Fiction, Fantasy, Adventure, Post Apocalyptic           |3.9   |James Dashner        |No description available                                                                                                                                                                                                                                                                                                                                                                                                                                                                                                                                                                                                                                                                                                                                                                                                                                                                                                                                                                                                                                                                                                                                                                                                                                                                                                                                                                                                                                                                                                   |15       |\n",
      "|656    |Looking for Alaska                                |221      |Paperback            |2005-03-03  |Young Adult, Fiction, Contemporary, Romance, Realistic Fiction, Coming Of Age, Teen             |3.96  |John Green           | Miles Pudge Halter is done with his safe life at home His whole life has been one big nonevent and his obsession with famous last words has only made him crave the Great Perhaps even more Francois Rabelais poet He heads off to the sometimes crazy and anythingbutboring world of Culver Creek Boarding School and his life becomes the opposite of safe Because down the hall is Alaska Young The gorgeous clever funny sexy selfdestructive screwed up and utterly fascinating Alaska Young She is an event unto herself She pulls Pudge into her world launches him into the Great Perhaps and steals his heart Then                                                                                                                                                                                                                                                                                                                                                                                                                                                                                                                                                                                                                                                                                                                                                                                                                                                                                               |16       |\n",
      "|581    |We                                                |256      |Paperback            |1924-01-01  |Fiction, Science Fiction, Classics, Dystopia, Russia, Russian Literature, Literature            |3.89  |Yevgeny Zamyatin     |Yevgeny Zamyatins                                                                                                                                                                                                                                                                                                                                                                                                                                                                                                                                                                                                                                                                                                                                                                                                                                                                                                                                                                                                                                                                                                                                                                                                                                                                                                                                                                                                                                                                                                          |17       |\n",
      "|883    |Into the Wild (Warriors, #1)                      |288      |Paperback            |2003-01-09  |Fantasy, Fiction, Animals, Middle Grade, Young Adult, Childrens, Cats                           |4.31  |Erin Hunter          |For generations four Clans of wild cats have shared the forest according to the laws laid down by their warrior ancestors But the ThunderClan cats are in grave danger and the sinister ShadowClan grows stronger every day Noble warriors are dyingand some deaths are more mysterious than others In the midst of this turmoil appears an ordinary house cat named Rusty    who may turn out to be the bravest warrior of them all                                                                                                                                                                                                                                                                                                                                                                                                                                                                                                                                                                                                                                                                                                                                                                                                                                                                                                                                                                                                                                                                                       |18       |\n",
      "|911    |The Scarlet Pimpernel                             |182      |Paperback            |1905-01-01  |Classics, Historical Fiction, Fiction, Adventure, Historical, Mystery, France                   |4.07  |Emmuska Orczy        |Armed with only his wits and his cunning one man recklessly defies the French revolutionaries and rescues scores of innocent men women and children from the deadly guillotine His friends and foes know him only as the Scarlet Pimpernel But the ruthless French agent Chauvelin is sworn to discover his identity and to hunt him down                                                                                                                                                                                                                                                                                                                                                                                                                                                                                                                                                                                                                                                                                                                                                                                                                                                                                                                                                                                                                                                                                                                                                                                  |19       |\n",
      "+-------+--------------------------------------------------+---------+---------------------+------------+------------------------------------------------------------------------------------------------+------+---------------------+---------------------------------------------------------------------------------------------------------------------------------------------------------------------------------------------------------------------------------------------------------------------------------------------------------------------------------------------------------------------------------------------------------------------------------------------------------------------------------------------------------------------------------------------------------------------------------------------------------------------------------------------------------------------------------------------------------------------------------------------------------------------------------------------------------------------------------------------------------------------------------------------------------------------------------------------------------------------------------------------------------------------------------------------------------------------------------------------------------------------------------------------------------------------------------------------------------------------------------------------------------------------------------------------------------------------------------------------------------------------------------------------------------------------------------------------------------------------------------------------------------------------------+---------+\n",
      "only showing top 20 rows\n",
      "\n"
     ]
    }
   ],
   "source": [
    "# Nối bảng books_ratings_df với books_df qua book_id\n",
    "books_ratings_with_details_df = books_ratings_df \\\n",
    "    .join(books_df, \"book_id\", \"inner\") \\\n",
    "    .select(books_ratings_df[\"book_id\"], \n",
    "            books_df[\"book_title\"], \n",
    "            books_df[\"num_pages\"], \n",
    "            books_df[\"cover_type\"], \n",
    "            books_df[\"publish_date\"], \n",
    "            books_df[\"Genres\"], \n",
    "            books_df[\"Rating\"], \n",
    "            books_df[\"Author\"], \n",
    "            books_df[\"description\"], \n",
    "            books_ratings_df[\"rating_id\"])\n",
    "\n",
    "# Hiển thị kết quả\n",
    "books_ratings_with_details_df.show(truncate=False)\n",
    "\n",
    "\n",
    "\n",
    "\n"
   ]
  },
  {
   "cell_type": "code",
   "execution_count": 73,
   "metadata": {},
   "outputs": [
    {
     "name": "stdout",
     "output_type": "stream",
     "text": [
      "+---------+-------+-------+------+\n",
      "|review_id|book_id|Reviews|Score |\n",
      "+---------+-------+-------+------+\n",
      "|0        |524    |12815  |11327 |\n",
      "|1        |358    |9926   |23183 |\n",
      "|2        |800    |11320  |53478 |\n",
      "|3        |774    |57565  |154346|\n",
      "|4        |852    |36650  |189016|\n",
      "|5        |58     |108639 |91906 |\n",
      "|6        |658    |282915 |35225 |\n",
      "|7        |853    |4335   |53626 |\n",
      "|8        |758    |16905  |123106|\n",
      "|9        |558    |17355  |24394 |\n",
      "|10       |510    |1365   |10768 |\n",
      "|11       |829    |16585  |20058 |\n",
      "|12       |993    |6607   |8869  |\n",
      "|13       |830    |34993  |12389 |\n",
      "|14       |783    |16391  |14906 |\n",
      "|15       |493    |31400  |15057 |\n",
      "|16       |656    |78076  |161412|\n",
      "|17       |581    |7928   |8873  |\n",
      "|18       |883    |9519   |14327 |\n",
      "|19       |911    |8026   |26376 |\n",
      "+---------+-------+-------+------+\n",
      "only showing top 20 rows\n",
      "\n"
     ]
    }
   ],
   "source": [
    "from pyspark.sql import functions as F\n",
    "from pyspark.sql.functions import monotonically_increasing_id\n",
    "\n",
    "# Tạo cột book_id cho bảng df thông qua book_title\n",
    "reviews_df = (\n",
    "    df.select(\"Title\", \"Reviews\", \"Score\") \n",
    "      .withColumnRenamed(\"Title\", \"book_title\")  # Đổi tên cột cho phù hợp\n",
    "      .join(books_df, \"book_title\", \"inner\")  # Nối với books_df qua cột book_title\n",
    "      .withColumn(\"review_id\", monotonically_increasing_id())  # Tạo review_id duy nhất\n",
    "      .select(\"review_id\", \"book_id\", \"Reviews\", \"Score\")  # Chọn các cột cần thiết\n",
    ")\n",
    "\n",
    "# Hiển thị kết quả\n",
    "reviews_df.show(truncate=False)\n"
   ]
  },
  {
   "cell_type": "code",
   "execution_count": 74,
   "metadata": {},
   "outputs": [],
   "source": [
    "from pyspark.sql import functions as F\n",
    "\n",
    "# Kết nối bảng books với authors theo tên tác giả (author_name)\n",
    "books_with_authors = books_df.join(authors_df, books_df.Author == authors_df.author_name, \"left\") \\\n",
    "    .select(books_df[\"*\"], authors_df[\"author_id\"])\n",
    "\n",
    "# Đổi tên cột Genres thành book_genres\n",
    "books_with_authors = books_with_authors.withColumnRenamed(\"Genres\", \"book_genres\")\n",
    "\n",
    "# Tách cột book_genres thành các giá trị riêng biệt và nối với bảng genres\n",
    "books_with_authors = books_with_authors \\\n",
    "    .withColumn(\"book_genres\", F.explode(F.split(F.col(\"book_genres\"), \",\"))) \\\n",
    "    .join(genres_df, F.col(\"book_genres\") == genres_df.genre_name, \"left\") \\\n",
    "    .select(\n",
    "        \"book_id\",\n",
    "        \"book_title\",\n",
    "        \"author_id\",\n",
    "        \"num_pages\",\n",
    "        \"cover_type\",\n",
    "        \"publish_date\",\n",
    "        \"description\",\n",
    "        genres_df[\"genre_id\"]\n",
    "    )\n",
    "\n",
    "# Nhóm lại theo book_id, book_title, author_id và các cột khác\n",
    "books_final = books_with_authors \\\n",
    "    .groupBy(\"book_id\", \"book_title\", \"author_id\", \"num_pages\", \"cover_type\", \"publish_date\", \"description\") \\\n",
    "    .agg(F.collect_list(\"genre_id\").alias(\"genre_ids\"))\n",
    "\n",
    "# Định dạng lại cột publish_date theo kiểu dd-MM-yyyy\n",
    "books_final = books_final.withColumn(\n",
    "    \"publish_date\", F.date_format(F.col(\"publish_date\"), \"dd-MM-yyyy\")\n",
    ")\n",
    "\n",
    "\n"
   ]
  },
  {
   "cell_type": "code",
   "execution_count": 75,
   "metadata": {},
   "outputs": [
    {
     "name": "stdout",
     "output_type": "stream",
     "text": [
      "+-------+--------------------------------------------------+---------+---------------------+------------+------------------------------------------------------------------------------------------------+------+---------------------+---------------------------------------------------------------------------------------------------------------------------------------------------------------------------------------------------------------------------------------------------------------------------------------------------------------------------------------------------------------------------------------------------------------------------------------------------------------------------------------------------------------------------------------------------------------------------------------------------------------------------------------------------------------------------------------------------------------------------------------------------------------------------------------------------------------------------------------------------------------------------------------------------------------------------------------------------------------------------------------------------------------------------------------------------------------------------------------------------------------------------------------------------------------------------------------------------------------------------------------------------------------------------------------------------------------------------------------------------------------------------------------------------------------------------------------------------------------------------------------------------------------------------+---------+------+-----------+-----------+------+\n",
      "|book_id|book_title                                        |num_pages|cover_type           |publish_date|Genres                                                                                          |Rating|Author               |description                                                                                                                                                                                                                                                                                                                                                                                                                                                                                                                                                                                                                                                                                                                                                                                                                                                                                                                                                                                                                                                                                                                                                                                                                                                                                                                                                                                                                                                                                                                |rating_id|rating|num_ratings|num_reviews|score |\n",
      "+-------+--------------------------------------------------+---------+---------------------+------------+------------------------------------------------------------------------------------------------+------+---------------------+---------------------------------------------------------------------------------------------------------------------------------------------------------------------------------------------------------------------------------------------------------------------------------------------------------------------------------------------------------------------------------------------------------------------------------------------------------------------------------------------------------------------------------------------------------------------------------------------------------------------------------------------------------------------------------------------------------------------------------------------------------------------------------------------------------------------------------------------------------------------------------------------------------------------------------------------------------------------------------------------------------------------------------------------------------------------------------------------------------------------------------------------------------------------------------------------------------------------------------------------------------------------------------------------------------------------------------------------------------------------------------------------------------------------------------------------------------------------------------------------------------------------------+---------+------+-----------+-----------+------+\n",
      "|524    |Rubinrot (Edelstein-Trilogie, #1)                 |345      |Hardcover            |2009-01-06  |Fantasy, Young Adult, Time Travel, Romance, Historical Fiction, Fiction, Science Fiction        |4.13  |Kerstin Gier         |Manchmal ist es ein echtes Kreuz in einer Familie zu leben die jede Menge Geheimnisse hat Der berzeugung ist zumindest die 16jhrige Gwendolyn                                                                                                                                                                                                                                                                                                                                                                                                                                                                                                                                                                                                                                                                                                                                                                                                                                                                                                                                                                                                                                                                                                                                                                                                                                                                                                                                                                              |0        |4.13  |160292     |12815      |11327 |\n",
      "|358    |The Exorcist                                      |385      |Mass Market Paperback|1971-05-01  |Horror, Fiction, Thriller, Paranormal, Supernatural, Fantasy, Audiobook                         |4.2   |William Peter Blatty |Georgetown Washington DC Actress and divorced mother Chris MacNeil starts to experience difficulties with her usually sweetnatured elevenyearold daughter Regan The child becomes afflicted by spasms convulsions and unsettling amnesiac episodes these abruptly worsen into violent fits of appalling foulmouthed curses accompanied by physical mutation Medical science is baffled by Regans plight and in her increasing despair Chris turns to troubled priest and psychiatrist Damien Karras who immediately recognises something profoundly malevolent in Regans distorted fetures and speech On Karrass recommendation the Church summons Father Merrin a specialist in the exorcism of demons                                                                                                                                                                                                                                                                                                                                                                                                                                                                                                                                                                                                                                                                                                                                                                                                                    |1        |4.2   |245723     |9926       |23183 |\n",
      "|800    |Othello                                           |319      |Mass Market Paperback|1603-01-01  |Classics, Plays, Fiction, School, Theatre, Literature, Read For School                          |3.89  |William Shakespeare  |In Othello Shakespeare creates a powerful drama of a marriage that begins with fascination between the exotic Moor Othello and the Venetian lady Desdemona with elopement and with intense mutual devotion and that ends precipitately with jealous rage and violent deaths He sets this story in the romantic world of the Mediterranean moving the action from Venice to the island of Cyprus and giving it an even more exotic coloring with stories of Othellos African past Shakespeare builds so many differences into his hero and heroinedifferences of race of age of cultural backgroundthat one should not perhaps be surprised that the marriage ends disastrously But most people who see or read the play feel that the love that the play presents between Othello and Desdemona is so strong that it would have overcome all these differences were it not for the words and actions of Othellos standardbearer Iago who hates Othello and sets out to destroy him by destroying his love for Desdemona As Othello succumbs to Iagos insinuations that Desdemona is unfaithful fascinationwhich dominates the early acts of the playturns to horror especially for the audience We are confronted by spectacles of a generous and trusting Othello in the grip of Iagos schemes of an innocent Desdemona who has given herself up entirely to her love for Othello only to be subjected to his horrifying verbal and physical assaults the outcome of Othellos mistaken convictions about her faithlessness|2        |3.89  |405268     |11320      |53478 |\n",
      "|774    |The Curious Incident of the Dog in the Night-Time |226      |Paperback            |2003-07-31  |Fiction, Mystery, Young Adult, Classics, Autistic Spectrum Disorder, Novels, Contemporary       |3.89  |Mark Haddon          |Christopher John Francis Boone knows all the countries of the world and their capitals and every prime number up to 7057 He relates well to animals but has no understanding of human emotions He cannot stand to be touched And he detests the color yellow This improbable story of Christophers quest to investigate the suspicious death of a neighborhood dog makes for one of the most captivating unusual and widely heralded novels in recent years                                                                                                                                                                                                                                                                                                                                                                                                                                                                                                                                                                                                                                                                                                                                                                                                                                                                                                                                                                                                                                                                |3        |3.89  |1515949    |57565      |154346|\n",
      "|852    |The Secret Life of Bees                           |302      |Paperback            |2001-11-08  |Fiction, Historical Fiction, Classics, Young Adult, Historical, Contemporary, Coming Of Age     |4.09  |Sue Monk Kidd        |Set in South Carolina in 1964                                                                                                                                                                                                                                                                                                                                                                                                                                                                                                                                                                                                                                                                                                                                                                                                                                                                                                                                                                                                                                                                                                                                                                                                                                                                                                                                                                                                                                                                                              |4        |4.09  |1313418    |36650      |189016|\n",
      "|58     |The Night Circus                                  |506      |Hardcover            |2011-09-13  |Fantasy, Fiction, Romance, Historical Fiction, Magic, Young Adult, Audiobook                    |4.01  |Erin Morgenstern     |The circus arrives without warning No announcements precede it It is simply there when yesterday it was not Within the blackandwhite striped canvas tents is an utterly unique experience full of breathtaking amazements It is called Le Cirque des Rves and it is only open at night                                                                                                                                                                                                                                                                                                                                                                                                                                                                                                                                                                                                                                                                                                                                                                                                                                                                                                                                                                                                                                                                                                                                                                                                                                     |5        |4.01  |1017611    |108639     |91906 |\n",
      "|658    |It Ends with Us (It Ends with Us #1)              |386      |Kindle Edition       |2016-08-02  |Fiction, Contemporary, New Adult, Audiobook, Contemporary Romance, Adult, Abuse                 |4.14  |Colleen Hoover       |Sometimes it is the one who loves you who hurts you the most                                                                                                                                                                                                                                                                                                                                                                                                                                                                                                                                                                                                                                                                                                                                                                                                                                                                                                                                                                                                                                                                                                                                                                                                                                                                                                                                                                                                                                                               |6        |4.14  |3919079    |282915     |35225 |\n",
      "|853    |Roots: The Saga of an American Family             |729      |Mass Market Paperback|1976-08-17  |Historical Fiction, Fiction, Classics, Historical, African American, Africa, Race               |4.44  |Alex Haley           |When he was a boy in Henning Tennessee Alex Haleys grandmother used to tell him stories about their familystories that went back to                                                                                                                                                                                                                                                                                                                                                                                                                                                                                                                                                                                                                                                                                                                                                                                                                                                                                                                                                                                                                                                                                                                                                                                                                                                                                                                                                                                        |7        |4.44  |161335     |4335       |53626 |\n",
      "|758    |Peter Pan                                         |176      |Hardcover            |1911-01-01  |Fantasy, Fiction, Childrens, Classics, Adventure, Young Adult, Audiobook                        |4.04  |J.M. Barrie          |One starry night Peter Pan and Tinker Bell lead the three Darling children over the rooftops of London and away to Neverland  the island where lost boys play mermaids splash and fairies make mischief But a villainouslooking gang of pirates lurk in the docks led by the terrifying Captain James Hook Magic and excitement are in the air but if Captain Hook has his way before long someone will be walking the plank and swimming with the crocodiles                                                                                                                                                                                                                                                                                                                                                                                                                                                                                                                                                                                                                                                                                                                                                                                                                                                                                                                                                                                                                                                              |8        |4.04  |355286     |16905      |123106|\n",
      "|558    |Shantaram                                         |936      |Paperback            |2003-01-01  |Fiction, Travel, Adventure, Historical Fiction, Contemporary, Novels, Audiobook                 |4.27  |Gregory David Roberts|It took me a long time and most of the world to learn what I know about love and fate and the choices we make but the heart of it came to me in an instant while I was chained to a wall and being tortured                                                                                                                                                                                                                                                                                                                                                                                                                                                                                                                                                                                                                                                                                                                                                                                                                                                                                                                                                                                                                                                                                                                                                                                                                                                                                                                |9        |4.27  |223667     |17355      |24394 |\n",
      "|510    |The Jungle Books                                  |368      |Mass Market Paperback|1895-01-01  |Classics, Fiction, Childrens, Fantasy, Adventure, Short Stories, Literature                     |4.01  |Rudyard Kipling      |The Jungle Books can be regarded as classic stories told by an adult to children But they also constitute a complex literary work of art in which the whole of Kiplings philosophy of life is expressed in miniature They are best known for the Mowgli stories the tale of a baby abandoned and brought up by wolves educated in the ways and secrets of the jungle by Kaa the python Baloo the bear and Bagheera the black panther The stories a mixture of fantasy myth and magic are underpinned by Kiplings abiding preoccupation with the theme of selfdiscovery and the nature of the Law                                                                                                                                                                                                                                                                                                                                                                                                                                                                                                                                                                                                                                                                                                                                                                                                                                                                                                                           |10       |4.01  |88019      |1365       |10768 |\n",
      "|829    |What Lies in the Woods                            |322      |Hardcover            |2023-01-17  |Thriller, Mystery, Mystery Thriller, Fiction, Audiobook, Horror, Suspense                       |3.96  |Kate Alice Marshall  |Naomi Shaw used to believe in magic Twentytwo years ago she and her two best friends Cassidy and Olivia spent the summer roaming the woods imagining a world of ceremony and wonder They called it the Goddess Game The summer ended suddenly when Naomi was attacked Miraculously she survived her seventeen stab wounds and lived to identify the man who had hurt her The girls testimony put away a serial killer wanted for murdering six women They were heroes                                                                                                                                                                                                                                                                                                                                                                                                                                                                                                                                                                                                                                                                                                                                                                                                                                                                                                                                                                                                                                                      |11       |3.96  |152299     |16585      |20058 |\n",
      "|993    |Guilty Pleasures (Anita Blake, Vampire Hunter, #1)|355      |Paperback            |1993-10-01  |Urban Fantasy, Fantasy, Vampires, Paranormal, Romance, Horror, Fiction                          |4.02  |Laurell K. Hamilton  |Anita Blake is small dark and dangerous Her turf is the city of St Louis Her job reanimating the dead and killing the undead who take things too far But when the citys most powerful vampire asks her to solve a series of vicious slayings Anita must confront her greatest fearher undeniable attraction to master vampire JeanClaude one of the creatures she is sworn to destroy                                                                                                                                                                                                                                                                                                                                                                                                                                                                                                                                                                                                                                                                                                                                                                                                                                                                                                                                                                                                                                                                                                                                      |12       |4.02  |150302     |6607       |8869  |\n",
      "|830    |The Hero of Ages (Mistborn, #3)                   |572      |Hardcover            |2008-10-14  |Fantasy, Fiction, Epic Fantasy, High Fantasy, Audiobook, Adult, Magic                           |4.54  |Brandon Sanderson    |Description contains spoilers for previous book in the series                                                                                                                                                                                                                                                                                                                                                                                                                                                                                                                                                                                                                                                                                                                                                                                                                                                                                                                                                                                                                                                                                                                                                                                                                                                                                                                                                                                                                                                              |13       |4.54  |470592     |34993      |12389 |\n",
      "|783    |The Secret (The Secret, #1)                       |199      |Hardcover            |2006-11-28  |Self Help, Nonfiction, Spirituality, Psychology, Personal Development, Philosophy, Inspirational|3.73  |Rhonda Byrne         |In 2006 a groundbreaking featurelength film revealed the great mystery of the universe                                                                                                                                                                                                                                                                                                                                                                                                                                                                                                                                                                                                                                                                                                                                                                                                                                                                                                                                                                                                                                                                                                                                                                                                                                                                                                                                                                                                                                     |14       |3.73  |495681     |16391      |14906 |\n",
      "|493    |The Scorch Trials (The Maze Runner, #2)           |362      |Hardcover            |2010-10-12  |Young Adult, Dystopia, Science Fiction, Fiction, Fantasy, Adventure, Post Apocalyptic           |3.9   |James Dashner        |No description available                                                                                                                                                                                                                                                                                                                                                                                                                                                                                                                                                                                                                                                                                                                                                                                                                                                                                                                                                                                                                                                                                                                                                                                                                                                                                                                                                                                                                                                                                                   |15       |3.9   |601828     |31400      |15057 |\n",
      "|656    |Looking for Alaska                                |221      |Paperback            |2005-03-03  |Young Adult, Fiction, Contemporary, Romance, Realistic Fiction, Coming Of Age, Teen             |3.96  |John Green           | Miles Pudge Halter is done with his safe life at home His whole life has been one big nonevent and his obsession with famous last words has only made him crave the Great Perhaps even more Francois Rabelais poet He heads off to the sometimes crazy and anythingbutboring world of Culver Creek Boarding School and his life becomes the opposite of safe Because down the hall is Alaska Young The gorgeous clever funny sexy selfdestructive screwed up and utterly fascinating Alaska Young She is an event unto herself She pulls Pudge into her world launches him into the Great Perhaps and steals his heart Then                                                                                                                                                                                                                                                                                                                                                                                                                                                                                                                                                                                                                                                                                                                                                                                                                                                                                               |16       |3.96  |1652786    |78076      |161412|\n",
      "|581    |We                                                |256      |Paperback            |1924-01-01  |Fiction, Science Fiction, Classics, Dystopia, Russia, Russian Literature, Literature            |3.89  |Yevgeny Zamyatin     |Yevgeny Zamyatins                                                                                                                                                                                                                                                                                                                                                                                                                                                                                                                                                                                                                                                                                                                                                                                                                                                                                                                                                                                                                                                                                                                                                                                                                                                                                                                                                                                                                                                                                                          |17       |3.89  |101335     |7928       |8873  |\n",
      "|883    |Into the Wild (Warriors, #1)                      |288      |Paperback            |2003-01-09  |Fantasy, Fiction, Animals, Middle Grade, Young Adult, Childrens, Cats                           |4.31  |Erin Hunter          |For generations four Clans of wild cats have shared the forest according to the laws laid down by their warrior ancestors But the ThunderClan cats are in grave danger and the sinister ShadowClan grows stronger every day Noble warriors are dyingand some deaths are more mysterious than others In the midst of this turmoil appears an ordinary house cat named Rusty    who may turn out to be the bravest warrior of them all                                                                                                                                                                                                                                                                                                                                                                                                                                                                                                                                                                                                                                                                                                                                                                                                                                                                                                                                                                                                                                                                                       |18       |4.31  |110162     |9519       |14327 |\n",
      "|911    |The Scarlet Pimpernel                             |182      |Paperback            |1905-01-01  |Classics, Historical Fiction, Fiction, Adventure, Historical, Mystery, France                   |4.07  |Emmuska Orczy        |Armed with only his wits and his cunning one man recklessly defies the French revolutionaries and rescues scores of innocent men women and children from the deadly guillotine His friends and foes know him only as the Scarlet Pimpernel But the ruthless French agent Chauvelin is sworn to discover his identity and to hunt him down                                                                                                                                                                                                                                                                                                                                                                                                                                                                                                                                                                                                                                                                                                                                                                                                                                                                                                                                                                                                                                                                                                                                                                                  |19       |4.07  |137507     |8026       |26376 |\n",
      "+-------+--------------------------------------------------+---------+---------------------+------------+------------------------------------------------------------------------------------------------+------+---------------------+---------------------------------------------------------------------------------------------------------------------------------------------------------------------------------------------------------------------------------------------------------------------------------------------------------------------------------------------------------------------------------------------------------------------------------------------------------------------------------------------------------------------------------------------------------------------------------------------------------------------------------------------------------------------------------------------------------------------------------------------------------------------------------------------------------------------------------------------------------------------------------------------------------------------------------------------------------------------------------------------------------------------------------------------------------------------------------------------------------------------------------------------------------------------------------------------------------------------------------------------------------------------------------------------------------------------------------------------------------------------------------------------------------------------------------------------------------------------------------------------------------------------------+---------+------+-----------+-----------+------+\n",
      "only showing top 20 rows\n",
      "\n"
     ]
    }
   ],
   "source": [
    "from pyspark.sql.functions import monotonically_increasing_id\n",
    "\n",
    "# Chuẩn bị bảng ratings_df với các cột cần thiết và tạo rating_id\n",
    "ratings_df = df.select(\"Title\", \"Rating\", \"Number of Ratings\", \"Reviews\", \"Score\") \\\n",
    "    .withColumnRenamed(\"Title\", \"book_title\") \\\n",
    "    .withColumnRenamed(\"Rating\", \"rating\") \\\n",
    "    .withColumnRenamed(\"Number of Ratings\", \"num_ratings\") \\\n",
    "    .withColumnRenamed(\"Reviews\", \"num_reviews\") \\\n",
    "    .withColumnRenamed(\"Score\", \"score\") \\\n",
    "    .withColumn(\"rating_id\", monotonically_increasing_id())\n",
    "\n",
    "# Nối bảng ratings_df với books_df để lấy book_id và tạo bảng books_with_ratings\n",
    "books_with_ratings = ratings_df.join(books_df, ratings_df.book_title == books_df.book_title, \"left\") \\\n",
    "    .select(\n",
    "        books_df[\"*\"],  \n",
    "        ratings_df[\"rating_id\"], \n",
    "        ratings_df[\"rating\"], \n",
    "        ratings_df[\"num_ratings\"], \n",
    "        ratings_df[\"num_reviews\"],\n",
    "        ratings_df[\"score\"]\n",
    "    )\n",
    "\n",
    "# Hiển thị bảng books_with_ratings sau khi nối\n",
    "books_with_ratings.show(truncate=False)\n"
   ]
  },
  {
   "cell_type": "code",
   "execution_count": 76,
   "metadata": {},
   "outputs": [
    {
     "name": "stdout",
     "output_type": "stream",
     "text": [
      "+-------+--------------------------------------------------+---------+--------------+------------+----------------------------------------------------------------------------------------------+------+----------------------+-----------------------------------------------------------------------------------------------------------------------------------------------------------------------------------------------------------------------------------------------------------------------------------------------------------------------------------------------------------------------------------------------------------------------------------------------------------------------------------------------------------------------------------------------------------------------------------------------------------------------------------------------------------------------------------------------------------------------------------------------------------------------------------------+--------------------------------------------------+------+-----------+-----------+------+---------+\n",
      "|book_id|book_title                                        |num_pages|cover_type    |publish_date|Genres                                                                                        |Rating|Author                |description                                                                                                                                                                                                                                                                                                                                                                                                                                                                                                                                                                                                                                                                                                                                                                              |book_title                                        |rating|num_ratings|num_reviews|score |rating_id|\n",
      "+-------+--------------------------------------------------+---------+--------------+------------+----------------------------------------------------------------------------------------------+------+----------------------+-----------------------------------------------------------------------------------------------------------------------------------------------------------------------------------------------------------------------------------------------------------------------------------------------------------------------------------------------------------------------------------------------------------------------------------------------------------------------------------------------------------------------------------------------------------------------------------------------------------------------------------------------------------------------------------------------------------------------------------------------------------------------------------------+--------------------------------------------------+------+-----------+-----------+------+---------+\n",
      "|0      |A Breath of Snow and Ashes (Outlander, #6)        |980      |Paperback     |2005-09-27  |Historical Fiction, Romance, Fantasy, Fiction, Time Travel, Historical, Historical Romance    |4.44  |Diana Gabaldon        | continues the extraordinary story of 18thcentury Scotsman Jamie Fraser and his 20thcentury wife Claire                                                                                                                                                                                                                                                                                                                                                                                                                                                                                                                                                                                                                                                                                  |A Breath of Snow and Ashes (Outlander, #6)        |4.44  |182752     |7083       |12972 |231      |\n",
      "|1      |Tempted (House of Night, #6)                      |319      |Paperback     |2009-10-27  |Young Adult, Vampires, Fantasy, Paranormal, Romance, Fiction, Supernatural                    |3.95  |P.C. Cast             |I can never leave you in peace You and I are bound We will be each others salvation or each others doom He took a step closer and I mirrored his movement by taking a step back Which shall it be Salvation or doom                                                                                                                                                                                                                                                                                                                                                                                                                                                                                                                                                                      |Tempted (House of Night, #6)                      |3.95  |169958     |3768       |11966 |507      |\n",
      "|2      |The Passage (The Passage, #1)                     |784      |Hardcover     |2010-06-08  |Horror, Fiction, Science Fiction, Fantasy, Post Apocalyptic, Vampires, Dystopia               |4.05  |Justin Cronin         |IT HAPPENED FAST                                                                                                                                                                                                                                                                                                                                                                                                                                                                                                                                                                                                                                                                                                                                                                         |The Passage (The Passage, #1)                     |4.05  |216028     |21392      |10940 |529      |\n",
      "|3      |Murder on the Orient Express (Hercule Poirot, #10)|274      |Paperback     |1934-01-01  |Mystery, Fiction, Crime, Mystery Thriller, Audiobook, Thriller, Detective                     |4.2   |Agatha Christie       |Just after midnight a snowdrift stops the famous Orient Express in its tracks as it travels through the mountainous Balkans The luxurious train is surprisingly full for the time of the year but by the morning it is one passenger fewer An American tycoon lies dead in his compartment stabbed a dozen times his door locked from the inside                                                                                                                                                                                                                                                                                                                                                                                                                                         |Murder on the Orient Express (Hercule Poirot, #10)|4.2   |656511     |42931      |96842 |848      |\n",
      "|4      |The Hunchback of Notre-Dame                       |510      |Paperback     |1831-03-16  |Fiction, Classics, Historical Fiction, France, Literature, Gothic, French Literature          |4.02  |Victor Hugo           |This extraordinary historical French gothic novel set in Medieval Paris under the twin towers of its greatest structure and supreme symbol the cathedral of NotreDame is the haunting drama of Quasimodo the disabled bellringer of NotreDame as he struggles to stand up to his ableist guardian Claude Frollo who also wants to commit genocide against Paris Romani population                                                                                                                                                                                                                                                                                                                                                                                                        |The Hunchback of Notre-Dame                       |4.02  |206373     |7928       |32837 |102      |\n",
      "|5      |One Day in the Life of Ivan Denisovich            |182      |Paperback     |1962-11-01  |Fiction, Classics, Russia, Historical Fiction, Russian Literature, Literature, Novels         |3.98  |Aleksandr Solzhenitsyn|First published in the Soviet journal                                                                                                                                                                                                                                                                                                                                                                                                                                                                                                                                                                                                                                                                                                                                                    |One Day in the Life of Ivan Denisovich            |3.98  |117838     |6368       |14712 |318      |\n",
      "|6      |Peace Like a River                                |312      |Paperback     |2001-08-02  |Fiction, Historical Fiction, Book Club, Literary Fiction, Novels, Coming Of Age, Adult Fiction|4.02  |Leif Enger            |Once in a great while we encounter a novel in our voluminous reading that begs to be read aloud Leif Engers debut                                                                                                                                                                                                                                                                                                                                                                                                                                                                                                                                                                                                                                                                        |Peace Like a River                                |4.02  |94716      |9681       |14067 |520      |\n",
      "|7      |Mansfield Park                                    |488      |Paperback     |1814-07-02  |Fiction, Classics, Historical Fiction, Literature, Audiobook, Historical, 19th Century        |3.86  |Jane Austen           |Taken from the poverty of her parents home in Portsmouth Fanny Price is brought up with her rich cousins at Mansfield Park acutely aware of her humble rank and with her cousin Edmund as her sole ally During her uncles absence in Antigua the Crawfords arrive in the neighbourhood bringing with them the glamour of London life and a reckless taste for flirtation Mansfield Park is considered Jane Austens first mature work and with its quiet heroine and subtle examination of social position and moral integrity one of her most profound                                                                                                                                                                                                                                   |Mansfield Park                                    |3.86  |358940     |15715      |33031 |560      |\n",
      "|8      |The Wind in the Willows                           |197      |Paperback     |1908-10-08  |Classics, Fiction, Childrens, Fantasy, Animals, Young Adult, Middle Grade                     |4.02  |Kenneth Grahame       |For more than a century                                                                                                                                                                                                                                                                                                                                                                                                                                                                                                                                                                                                                                                                                                                                                                  |The Wind in the Willows                           |4.02  |226386     |9734       |64157 |603      |\n",
      "|9      |World Without End (Kingsbridge, #2)               |1237     |Hardcover     |2007-10-04  |Historical Fiction, Fiction, Historical, Audiobook, Medieval, British Literature, Fantasy     |4.31  |Ken Follett           |World Without End takes place in the same town of Kingsbridge two centuries after the townspeople finished building the exquisite Gothic cathedral that was at the heart of The Pillars of the Earth The cathedral and the priory are again at the center of a web of love and hate greed and pride ambition and revenge but this sequel stands on its own This time the men and women of an extraordinary cast of characters find themselves at a crossroads of new ideasabout medicine commerce architecture and justice In a world where proponents of the old ways fiercely battle those with progressive minds the intrigue and tension quickly reach a boiling point against the devastating backdrop of the greatest natural disaster ever to strike the human racethe Black Death|World Without End (Kingsbridge, #2)               |4.31  |258716     |13774      |15899 |659      |\n",
      "|10     |The Grapes of Wrath                               |496      |Hardcover     |1939-04-14  |Classics, Fiction, Historical Fiction, Literature, Novels, School, American                   |4.01  |John Steinbeck        |The Pulitzer Prizewinning epic of the Great Depression a book that galvanizedand sometimes outragedmillions of readers                                                                                                                                                                                                                                                                                                                                                                                                                                                                                                                                                                                                                                                                   |The Grapes of Wrath                               |4.01  |932926     |25450      |33379 |950      |\n",
      "|11     |القرآن الكريم                                     |604      |Hardcover     |0632-03-18  |Nonfiction, Classics, Philosophy, Religion, Spirituality, History, Theology                   |4.38  |Anonymous             |The Quran English pronunciation krn Arabic  alqurn IPA quran literally meaning the recitation also transliterated Quran Koran AlCoran Coran Kuran and AlQuran is the central religious text of Islam which Muslims believe to be the verbatim word of God Arabic  Allah                                                                                                                                                                                                                                                                                                                                                                                                                                                                                                                  |القرآن الكريم                                     |4.38  |69495      |3826       |33828 |286      |\n",
      "|12     |Rebecca                                           |449      |Kindle Edition|1938-08-01  |Fiction, Mystery, Gothic, Romance, Classics, Historical Fiction, Thriller                     |4.25  |Daphne du Maurier     |The novel begins in Monte Carlo where our heroine is swept off her feet by the dashing widower Maxim de Winter and his sudden proposal of marriage Orphaned and working as a ladys maid she can barely believe her luck It is only when they arrive at his massive country estate that she realizes how large a shadow his late wife will cast over their livespresenting her with a lingering evil that threatens to destroy their marriage from beyond the grave                                                                                                                                                                                                                                                                                                                       |Rebecca                                           |4.25  |656925     |43272      |418161|454      |\n",
      "|13     |Angels & Demons (Robert Langdon, #1)              |736      |Paperback     |2000-05-01  |Fiction, Mystery, Thriller, Mystery Thriller, Suspense, Adventure, Crime                      |3.94  |Dan       Brown       |An ancient secret brotherhood                                                                                                                                                                                                                                                                                                                                                                                                                                                                                                                                                                                                                                                                                                                                                            |Angels & Demons (Robert Langdon, #1)              |3.94  |3259497    |34843      |22079 |623      |\n",
      "|14     |The Fellowship of the Ring (Middle Earth, #1)     |432      |Kindle Edition|1954-07-29  |Fantasy, Classics, Fiction, Adventure, Audiobook, High Fantasy, Science Fiction Fantasy       |4.39  |J.R.R. Tolkien        |In ancient times the Rings of Power were crafted by the Elvensmiths and Sauron the Dark Lord forged the One Ring filling it with his own power so that he could rule all others But the One Ring was taken from him and though he sought it throughout Middleearth it remained lost to him After many ages it fell into the hands of Bilbo Baggins as told in                                                                                                                                                                                                                                                                                                                                                                                                                            |The Fellowship of the Ring (Middle Earth, #1)     |4.39  |2881649    |43569      |418754|719      |\n",
      "|15     |Death of a Salesman                               |144      |Hardcover     |1949-01-01  |Classics, Plays, Fiction, Drama, School, Theatre, Literature                                  |3.58  |Arthur Miller         |Willy Loman has been a salesman for 34 years At 60 he is cast aside his usefulness now exhausted With no future to dream about he must face the crushing disappointments of his past He takes one final brave action but is he heroic at last or a selfdeluding fool                                                                                                                                                                                                                                                                                                                                                                                                                                                                                                                     |Death of a Salesman                               |3.58  |242175     |8395       |27255 |930      |\n",
      "|16     |Archer's Voice                                    |377      |ebook         |2014-01-25  |Romance, Contemporary, Contemporary Romance, New Adult, Fiction, Adult, Audiobook             |4.2   |Mia Sheridan          |When Bree Prescott arrives in the sleepy lakeside town of Pelion Maine she hopes against hope that this is the place where she will finally find the peace she so desperately seeks On her first day there her life collides with Archer Hale an isolated man who holds a secret agony of his own A man no one else sees                                                                                                                                                                                                                                                                                                                                                                                                                                                                 |Archer's Voice                                    |4.2   |545692     |60180      |12209 |934      |\n",
      "|17     |Scarlet (The Lunar Chronicles, #2)                |454      |Hardcover     |2013-02-05  |Fantasy, Young Adult, Science Fiction, Romance, Dystopia, Retellings, Fiction                 |4.24  |Marissa Meyer         |Cinder is back and trying to break out of prisoneven though shell be the Commonwealths most wanted fugitive if she doesin this second installment from Marissa Meyer                                                                                                                                                                                                                                                                                                                                                                                                                                                                                                                                                                                                                     |Scarlet (The Lunar Chronicles, #2)                |4.24  |434608     |40170      |16503 |938      |\n",
      "|18     |The Golden Compass (His Dark Materials, #1)       |399      |Hardcover     |1995-07-01  |Fantasy, Young Adult, Fiction, Childrens, Adventure, Middle Grade, Audiobook                  |4.03  |Philip Pullman        |Lyra is rushing to the cold far North where witch clans and armored bears rule North where the Gobblers take the children they stealincluding her friend Roger North where her fearsome uncle Asriel is trying to build a bridge to a parallel world                                                                                                                                                                                                                                                                                                                                                                                                                                                                                                                                     |The Golden Compass (His Dark Materials, #1)       |4.03  |1556218    |28587      |317147|44       |\n",
      "|19     |Tender Is the Night                               |430      |Paperback     |1934-04-12  |Classics, Fiction, Literature, Romance, American, Novels, 20th Century                        |3.78  |F. Scott Fitzgerald   |Set on the French Riviera in the late 1920s                                                                                                                                                                                                                                                                                                                                                                                                                                                                                                                                                                                                                                                                                                                                              |Tender Is the Night                               |3.78  |140746     |7313       |9844  |260      |\n",
      "+-------+--------------------------------------------------+---------+--------------+------------+----------------------------------------------------------------------------------------------+------+----------------------+-----------------------------------------------------------------------------------------------------------------------------------------------------------------------------------------------------------------------------------------------------------------------------------------------------------------------------------------------------------------------------------------------------------------------------------------------------------------------------------------------------------------------------------------------------------------------------------------------------------------------------------------------------------------------------------------------------------------------------------------------------------------------------------------+--------------------------------------------------+------+-----------+-----------+------+---------+\n",
      "only showing top 20 rows\n",
      "\n"
     ]
    }
   ],
   "source": [
    "# Thực hiện phép nối giữa books_df và ratings_df dựa trên cột book_title\n",
    "books_with_ratings_df = books_df.join(\n",
    "    ratings_df,\n",
    "    books_df.book_title == ratings_df.book_title,\n",
    "    how=\"left\"  # Sử dụng \"left\" join để giữ lại tất cả các sách, ngay cả khi không có đánh giá\n",
    ")\n",
    "\n",
    "# Hiển thị kết quả\n",
    "books_with_ratings_df.show(truncate=False)\n"
   ]
  },
  {
   "cell_type": "code",
   "execution_count": 77,
   "metadata": {},
   "outputs": [
    {
     "name": "stdout",
     "output_type": "stream",
     "text": [
      "+-------+---------+\n",
      "|book_id|rating_id|\n",
      "+-------+---------+\n",
      "|524    |0        |\n",
      "|358    |1        |\n",
      "|800    |2        |\n",
      "|774    |3        |\n",
      "|852    |4        |\n",
      "|58     |5        |\n",
      "|658    |6        |\n",
      "|853    |7        |\n",
      "|758    |8        |\n",
      "|558    |9        |\n",
      "|510    |10       |\n",
      "|829    |11       |\n",
      "|993    |12       |\n",
      "|830    |13       |\n",
      "|783    |14       |\n",
      "|493    |15       |\n",
      "|656    |16       |\n",
      "|581    |17       |\n",
      "|883    |18       |\n",
      "|911    |19       |\n",
      "+-------+---------+\n",
      "only showing top 20 rows\n",
      "\n"
     ]
    }
   ],
   "source": [
    "\n",
    "from pyspark.sql import functions as F\n",
    "\n",
    "# Thực hiện phép nối giữa books_df và ratings_df dựa trên cột book_title để tạo bảng trung gian\n",
    "book_ratings_df = books_df.join(\n",
    "    ratings_df,\n",
    "    books_df.book_title == ratings_df.book_title,\n",
    "    how=\"inner\"\n",
    ").select(\n",
    "    books_df[\"book_id\"],\n",
    "    ratings_df[\"rating_id\"]\n",
    ")\n",
    "\n",
    "# Hiển thị bảng trung gian với các cột book_id và rating_id\n",
    "book_ratings_df.show(truncate=False)\n"
   ]
  },
  {
   "cell_type": "code",
   "execution_count": 78,
   "metadata": {},
   "outputs": [
    {
     "name": "stdout",
     "output_type": "stream",
     "text": [
      "+-------+--------------------------------------------------+---------+---------------------+------------+------------------------------------------------------------------------------------------------+------+---------------------+---------------------------------------------------------------------------------------------------------------------------------------------------------------------------------------------------------------------------------------------------------------------------------------------------------------------------------------------------------------------------------------------------------------------------------------------------------------------------------------------------------------------------------------------------------------------------------------------------------------------------------------------------------------------------------------------------------------------------------------------------------------------------------------------------------------------------------------------------------------------------------------------------------------------------------------------------------------------------------------------------------------------------------------------------------------------------------------------------------------------------------------------------------------------------------------------------------------------------------------------------------------------------------------------------------------------------------------------------------------------------------------------------------------------------------------------------------------------------------------------------------------------------+---------+-------+------+\n",
      "|book_id|book_title                                        |num_pages|cover_type           |publish_date|Genres                                                                                          |Rating|Author               |description                                                                                                                                                                                                                                                                                                                                                                                                                                                                                                                                                                                                                                                                                                                                                                                                                                                                                                                                                                                                                                                                                                                                                                                                                                                                                                                                                                                                                                                                                                                |review_id|Reviews|Score |\n",
      "+-------+--------------------------------------------------+---------+---------------------+------------+------------------------------------------------------------------------------------------------+------+---------------------+---------------------------------------------------------------------------------------------------------------------------------------------------------------------------------------------------------------------------------------------------------------------------------------------------------------------------------------------------------------------------------------------------------------------------------------------------------------------------------------------------------------------------------------------------------------------------------------------------------------------------------------------------------------------------------------------------------------------------------------------------------------------------------------------------------------------------------------------------------------------------------------------------------------------------------------------------------------------------------------------------------------------------------------------------------------------------------------------------------------------------------------------------------------------------------------------------------------------------------------------------------------------------------------------------------------------------------------------------------------------------------------------------------------------------------------------------------------------------------------------------------------------------+---------+-------+------+\n",
      "|524    |Rubinrot (Edelstein-Trilogie, #1)                 |345      |Hardcover            |2009-01-06  |Fantasy, Young Adult, Time Travel, Romance, Historical Fiction, Fiction, Science Fiction        |4.13  |Kerstin Gier         |Manchmal ist es ein echtes Kreuz in einer Familie zu leben die jede Menge Geheimnisse hat Der berzeugung ist zumindest die 16jhrige Gwendolyn                                                                                                                                                                                                                                                                                                                                                                                                                                                                                                                                                                                                                                                                                                                                                                                                                                                                                                                                                                                                                                                                                                                                                                                                                                                                                                                                                                              |0        |12815  |11327 |\n",
      "|358    |The Exorcist                                      |385      |Mass Market Paperback|1971-05-01  |Horror, Fiction, Thriller, Paranormal, Supernatural, Fantasy, Audiobook                         |4.2   |William Peter Blatty |Georgetown Washington DC Actress and divorced mother Chris MacNeil starts to experience difficulties with her usually sweetnatured elevenyearold daughter Regan The child becomes afflicted by spasms convulsions and unsettling amnesiac episodes these abruptly worsen into violent fits of appalling foulmouthed curses accompanied by physical mutation Medical science is baffled by Regans plight and in her increasing despair Chris turns to troubled priest and psychiatrist Damien Karras who immediately recognises something profoundly malevolent in Regans distorted fetures and speech On Karrass recommendation the Church summons Father Merrin a specialist in the exorcism of demons                                                                                                                                                                                                                                                                                                                                                                                                                                                                                                                                                                                                                                                                                                                                                                                                                    |1        |9926   |23183 |\n",
      "|800    |Othello                                           |319      |Mass Market Paperback|1603-01-01  |Classics, Plays, Fiction, School, Theatre, Literature, Read For School                          |3.89  |William Shakespeare  |In Othello Shakespeare creates a powerful drama of a marriage that begins with fascination between the exotic Moor Othello and the Venetian lady Desdemona with elopement and with intense mutual devotion and that ends precipitately with jealous rage and violent deaths He sets this story in the romantic world of the Mediterranean moving the action from Venice to the island of Cyprus and giving it an even more exotic coloring with stories of Othellos African past Shakespeare builds so many differences into his hero and heroinedifferences of race of age of cultural backgroundthat one should not perhaps be surprised that the marriage ends disastrously But most people who see or read the play feel that the love that the play presents between Othello and Desdemona is so strong that it would have overcome all these differences were it not for the words and actions of Othellos standardbearer Iago who hates Othello and sets out to destroy him by destroying his love for Desdemona As Othello succumbs to Iagos insinuations that Desdemona is unfaithful fascinationwhich dominates the early acts of the playturns to horror especially for the audience We are confronted by spectacles of a generous and trusting Othello in the grip of Iagos schemes of an innocent Desdemona who has given herself up entirely to her love for Othello only to be subjected to his horrifying verbal and physical assaults the outcome of Othellos mistaken convictions about her faithlessness|2        |11320  |53478 |\n",
      "|774    |The Curious Incident of the Dog in the Night-Time |226      |Paperback            |2003-07-31  |Fiction, Mystery, Young Adult, Classics, Autistic Spectrum Disorder, Novels, Contemporary       |3.89  |Mark Haddon          |Christopher John Francis Boone knows all the countries of the world and their capitals and every prime number up to 7057 He relates well to animals but has no understanding of human emotions He cannot stand to be touched And he detests the color yellow This improbable story of Christophers quest to investigate the suspicious death of a neighborhood dog makes for one of the most captivating unusual and widely heralded novels in recent years                                                                                                                                                                                                                                                                                                                                                                                                                                                                                                                                                                                                                                                                                                                                                                                                                                                                                                                                                                                                                                                                |3        |57565  |154346|\n",
      "|852    |The Secret Life of Bees                           |302      |Paperback            |2001-11-08  |Fiction, Historical Fiction, Classics, Young Adult, Historical, Contemporary, Coming Of Age     |4.09  |Sue Monk Kidd        |Set in South Carolina in 1964                                                                                                                                                                                                                                                                                                                                                                                                                                                                                                                                                                                                                                                                                                                                                                                                                                                                                                                                                                                                                                                                                                                                                                                                                                                                                                                                                                                                                                                                                              |4        |36650  |189016|\n",
      "|58     |The Night Circus                                  |506      |Hardcover            |2011-09-13  |Fantasy, Fiction, Romance, Historical Fiction, Magic, Young Adult, Audiobook                    |4.01  |Erin Morgenstern     |The circus arrives without warning No announcements precede it It is simply there when yesterday it was not Within the blackandwhite striped canvas tents is an utterly unique experience full of breathtaking amazements It is called Le Cirque des Rves and it is only open at night                                                                                                                                                                                                                                                                                                                                                                                                                                                                                                                                                                                                                                                                                                                                                                                                                                                                                                                                                                                                                                                                                                                                                                                                                                     |5        |108639 |91906 |\n",
      "|658    |It Ends with Us (It Ends with Us #1)              |386      |Kindle Edition       |2016-08-02  |Fiction, Contemporary, New Adult, Audiobook, Contemporary Romance, Adult, Abuse                 |4.14  |Colleen Hoover       |Sometimes it is the one who loves you who hurts you the most                                                                                                                                                                                                                                                                                                                                                                                                                                                                                                                                                                                                                                                                                                                                                                                                                                                                                                                                                                                                                                                                                                                                                                                                                                                                                                                                                                                                                                                               |6        |282915 |35225 |\n",
      "|853    |Roots: The Saga of an American Family             |729      |Mass Market Paperback|1976-08-17  |Historical Fiction, Fiction, Classics, Historical, African American, Africa, Race               |4.44  |Alex Haley           |When he was a boy in Henning Tennessee Alex Haleys grandmother used to tell him stories about their familystories that went back to                                                                                                                                                                                                                                                                                                                                                                                                                                                                                                                                                                                                                                                                                                                                                                                                                                                                                                                                                                                                                                                                                                                                                                                                                                                                                                                                                                                        |7        |4335   |53626 |\n",
      "|758    |Peter Pan                                         |176      |Hardcover            |1911-01-01  |Fantasy, Fiction, Childrens, Classics, Adventure, Young Adult, Audiobook                        |4.04  |J.M. Barrie          |One starry night Peter Pan and Tinker Bell lead the three Darling children over the rooftops of London and away to Neverland  the island where lost boys play mermaids splash and fairies make mischief But a villainouslooking gang of pirates lurk in the docks led by the terrifying Captain James Hook Magic and excitement are in the air but if Captain Hook has his way before long someone will be walking the plank and swimming with the crocodiles                                                                                                                                                                                                                                                                                                                                                                                                                                                                                                                                                                                                                                                                                                                                                                                                                                                                                                                                                                                                                                                              |8        |16905  |123106|\n",
      "|558    |Shantaram                                         |936      |Paperback            |2003-01-01  |Fiction, Travel, Adventure, Historical Fiction, Contemporary, Novels, Audiobook                 |4.27  |Gregory David Roberts|It took me a long time and most of the world to learn what I know about love and fate and the choices we make but the heart of it came to me in an instant while I was chained to a wall and being tortured                                                                                                                                                                                                                                                                                                                                                                                                                                                                                                                                                                                                                                                                                                                                                                                                                                                                                                                                                                                                                                                                                                                                                                                                                                                                                                                |9        |17355  |24394 |\n",
      "|510    |The Jungle Books                                  |368      |Mass Market Paperback|1895-01-01  |Classics, Fiction, Childrens, Fantasy, Adventure, Short Stories, Literature                     |4.01  |Rudyard Kipling      |The Jungle Books can be regarded as classic stories told by an adult to children But they also constitute a complex literary work of art in which the whole of Kiplings philosophy of life is expressed in miniature They are best known for the Mowgli stories the tale of a baby abandoned and brought up by wolves educated in the ways and secrets of the jungle by Kaa the python Baloo the bear and Bagheera the black panther The stories a mixture of fantasy myth and magic are underpinned by Kiplings abiding preoccupation with the theme of selfdiscovery and the nature of the Law                                                                                                                                                                                                                                                                                                                                                                                                                                                                                                                                                                                                                                                                                                                                                                                                                                                                                                                           |10       |1365   |10768 |\n",
      "|829    |What Lies in the Woods                            |322      |Hardcover            |2023-01-17  |Thriller, Mystery, Mystery Thriller, Fiction, Audiobook, Horror, Suspense                       |3.96  |Kate Alice Marshall  |Naomi Shaw used to believe in magic Twentytwo years ago she and her two best friends Cassidy and Olivia spent the summer roaming the woods imagining a world of ceremony and wonder They called it the Goddess Game The summer ended suddenly when Naomi was attacked Miraculously she survived her seventeen stab wounds and lived to identify the man who had hurt her The girls testimony put away a serial killer wanted for murdering six women They were heroes                                                                                                                                                                                                                                                                                                                                                                                                                                                                                                                                                                                                                                                                                                                                                                                                                                                                                                                                                                                                                                                      |11       |16585  |20058 |\n",
      "|993    |Guilty Pleasures (Anita Blake, Vampire Hunter, #1)|355      |Paperback            |1993-10-01  |Urban Fantasy, Fantasy, Vampires, Paranormal, Romance, Horror, Fiction                          |4.02  |Laurell K. Hamilton  |Anita Blake is small dark and dangerous Her turf is the city of St Louis Her job reanimating the dead and killing the undead who take things too far But when the citys most powerful vampire asks her to solve a series of vicious slayings Anita must confront her greatest fearher undeniable attraction to master vampire JeanClaude one of the creatures she is sworn to destroy                                                                                                                                                                                                                                                                                                                                                                                                                                                                                                                                                                                                                                                                                                                                                                                                                                                                                                                                                                                                                                                                                                                                      |12       |6607   |8869  |\n",
      "|830    |The Hero of Ages (Mistborn, #3)                   |572      |Hardcover            |2008-10-14  |Fantasy, Fiction, Epic Fantasy, High Fantasy, Audiobook, Adult, Magic                           |4.54  |Brandon Sanderson    |Description contains spoilers for previous book in the series                                                                                                                                                                                                                                                                                                                                                                                                                                                                                                                                                                                                                                                                                                                                                                                                                                                                                                                                                                                                                                                                                                                                                                                                                                                                                                                                                                                                                                                              |13       |34993  |12389 |\n",
      "|783    |The Secret (The Secret, #1)                       |199      |Hardcover            |2006-11-28  |Self Help, Nonfiction, Spirituality, Psychology, Personal Development, Philosophy, Inspirational|3.73  |Rhonda Byrne         |In 2006 a groundbreaking featurelength film revealed the great mystery of the universe                                                                                                                                                                                                                                                                                                                                                                                                                                                                                                                                                                                                                                                                                                                                                                                                                                                                                                                                                                                                                                                                                                                                                                                                                                                                                                                                                                                                                                     |14       |16391  |14906 |\n",
      "|493    |The Scorch Trials (The Maze Runner, #2)           |362      |Hardcover            |2010-10-12  |Young Adult, Dystopia, Science Fiction, Fiction, Fantasy, Adventure, Post Apocalyptic           |3.9   |James Dashner        |No description available                                                                                                                                                                                                                                                                                                                                                                                                                                                                                                                                                                                                                                                                                                                                                                                                                                                                                                                                                                                                                                                                                                                                                                                                                                                                                                                                                                                                                                                                                                   |15       |31400  |15057 |\n",
      "|656    |Looking for Alaska                                |221      |Paperback            |2005-03-03  |Young Adult, Fiction, Contemporary, Romance, Realistic Fiction, Coming Of Age, Teen             |3.96  |John Green           | Miles Pudge Halter is done with his safe life at home His whole life has been one big nonevent and his obsession with famous last words has only made him crave the Great Perhaps even more Francois Rabelais poet He heads off to the sometimes crazy and anythingbutboring world of Culver Creek Boarding School and his life becomes the opposite of safe Because down the hall is Alaska Young The gorgeous clever funny sexy selfdestructive screwed up and utterly fascinating Alaska Young She is an event unto herself She pulls Pudge into her world launches him into the Great Perhaps and steals his heart Then                                                                                                                                                                                                                                                                                                                                                                                                                                                                                                                                                                                                                                                                                                                                                                                                                                                                                               |16       |78076  |161412|\n",
      "|581    |We                                                |256      |Paperback            |1924-01-01  |Fiction, Science Fiction, Classics, Dystopia, Russia, Russian Literature, Literature            |3.89  |Yevgeny Zamyatin     |Yevgeny Zamyatins                                                                                                                                                                                                                                                                                                                                                                                                                                                                                                                                                                                                                                                                                                                                                                                                                                                                                                                                                                                                                                                                                                                                                                                                                                                                                                                                                                                                                                                                                                          |17       |7928   |8873  |\n",
      "|883    |Into the Wild (Warriors, #1)                      |288      |Paperback            |2003-01-09  |Fantasy, Fiction, Animals, Middle Grade, Young Adult, Childrens, Cats                           |4.31  |Erin Hunter          |For generations four Clans of wild cats have shared the forest according to the laws laid down by their warrior ancestors But the ThunderClan cats are in grave danger and the sinister ShadowClan grows stronger every day Noble warriors are dyingand some deaths are more mysterious than others In the midst of this turmoil appears an ordinary house cat named Rusty    who may turn out to be the bravest warrior of them all                                                                                                                                                                                                                                                                                                                                                                                                                                                                                                                                                                                                                                                                                                                                                                                                                                                                                                                                                                                                                                                                                       |18       |9519   |14327 |\n",
      "|911    |The Scarlet Pimpernel                             |182      |Paperback            |1905-01-01  |Classics, Historical Fiction, Fiction, Adventure, Historical, Mystery, France                   |4.07  |Emmuska Orczy        |Armed with only his wits and his cunning one man recklessly defies the French revolutionaries and rescues scores of innocent men women and children from the deadly guillotine His friends and foes know him only as the Scarlet Pimpernel But the ruthless French agent Chauvelin is sworn to discover his identity and to hunt him down                                                                                                                                                                                                                                                                                                                                                                                                                                                                                                                                                                                                                                                                                                                                                                                                                                                                                                                                                                                                                                                                                                                                                                                  |19       |8026   |26376 |\n",
      "+-------+--------------------------------------------------+---------+---------------------+------------+------------------------------------------------------------------------------------------------+------+---------------------+---------------------------------------------------------------------------------------------------------------------------------------------------------------------------------------------------------------------------------------------------------------------------------------------------------------------------------------------------------------------------------------------------------------------------------------------------------------------------------------------------------------------------------------------------------------------------------------------------------------------------------------------------------------------------------------------------------------------------------------------------------------------------------------------------------------------------------------------------------------------------------------------------------------------------------------------------------------------------------------------------------------------------------------------------------------------------------------------------------------------------------------------------------------------------------------------------------------------------------------------------------------------------------------------------------------------------------------------------------------------------------------------------------------------------------------------------------------------------------------------------------------------------+---------+-------+------+\n",
      "only showing top 20 rows\n",
      "\n"
     ]
    }
   ],
   "source": [
    "# Nối bảng books_df với reviews_df qua cột book_id\n",
    "books_reviews_df = books_df.join(reviews_df, \"book_id\", \"inner\")\n",
    "\n",
    "# Hiển thị kết quả\n",
    "books_reviews_df.show(truncate=False)\n"
   ]
  },
  {
   "cell_type": "markdown",
   "metadata": {},
   "source": [
    "####  Thống kê"
   ]
  },
  {
   "cell_type": "code",
   "execution_count": 79,
   "metadata": {},
   "outputs": [
    {
     "name": "stdout",
     "output_type": "stream",
     "text": [
      "+-------------------+-----+\n",
      "|author_name        |count|\n",
      "+-------------------+-----+\n",
      "|Stephen        King|16   |\n",
      "|Sarah J. Maas      |14   |\n",
      "|William Shakespeare|12   |\n",
      "|Rick Riordan       |11   |\n",
      "|Cassandra Clare    |10   |\n",
      "|J.K. Rowling       |9    |\n",
      "|C.S. Lewis         |9    |\n",
      "|Richelle Mead      |8    |\n",
      "|P.C. Cast          |7    |\n",
      "|Jane Austen        |7    |\n",
      "|J.R. Ward          |7    |\n",
      "|J.R.R. Tolkien     |7    |\n",
      "|Diana Gabaldon     |6    |\n",
      "|Charlaine Harris   |6    |\n",
      "|Terry Pratchett    |6    |\n",
      "|Charles Dickens    |6    |\n",
      "|Dan       Brown    |6    |\n",
      "|Neil Gaiman        |6    |\n",
      "|Dr. Seuss          |6    |\n",
      "|John Steinbeck     |6    |\n",
      "+-------------------+-----+\n",
      "only showing top 20 rows\n",
      "\n"
     ]
    }
   ],
   "source": [
    "# Thống kê số lượng sách theo tác giả\n",
    "author_book_counts = books_final.groupBy(\"author_id\").count() \\\n",
    "    .join(authors_df, \"author_id\") \\\n",
    "    .select(\"author_name\", \"count\") \\\n",
    "    .orderBy(col(\"count\").desc())\n",
    "\n",
    "author_book_counts.show(truncate=False)\n"
   ]
  },
  {
   "cell_type": "code",
   "execution_count": 80,
   "metadata": {},
   "outputs": [
    {
     "name": "stdout",
     "output_type": "stream",
     "text": [
      "+-------------------+-----+\n",
      "|genre_name         |count|\n",
      "+-------------------+-----+\n",
      "| Fiction           |603  |\n",
      "| Classics          |303  |\n",
      "|Fiction            |281  |\n",
      "| Audiobook         |235  |\n",
      "| Romance           |232  |\n",
      "| Literature        |232  |\n",
      "| Fantasy           |230  |\n",
      "| Young Adult       |220  |\n",
      "| Historical Fiction|199  |\n",
      "|Fantasy            |180  |\n",
      "| Novels            |179  |\n",
      "| Contemporary      |174  |\n",
      "| Historical        |128  |\n",
      "| Adventure         |125  |\n",
      "| Mystery           |123  |\n",
      "| Science Fiction   |103  |\n",
      "| Adult             |103  |\n",
      "|Young Adult        |96   |\n",
      "| Thriller          |93   |\n",
      "| Childrens         |92   |\n",
      "+-------------------+-----+\n",
      "only showing top 20 rows\n",
      "\n"
     ]
    }
   ],
   "source": [
    "# Thống kê số lượng sách theo thể loại\n",
    "from pyspark.sql import functions as F\n",
    "\n",
    "genre_book_counts = books_final \\\n",
    "    .withColumn(\"genre_id\", F.explode(\"genre_ids\")) \\\n",
    "    .groupBy(\"genre_id\") \\\n",
    "    .count() \\\n",
    "    .join(genres_df, \"genre_id\") \\\n",
    "    .select(\"genre_name\", \"count\") \\\n",
    "    .orderBy(F.col(\"count\").desc())\n",
    "\n",
    "\n",
    "genre_book_counts.show(truncate=False)\n"
   ]
  },
  {
   "cell_type": "code",
   "execution_count": 81,
   "metadata": {},
   "outputs": [
    {
     "name": "stdout",
     "output_type": "stream",
     "text": [
      "+---------------------------------------------------------------------+-------------+-----------------+-------------+\n",
      "|book_title                                                           |total_ratings|average_rating   |total_reviews|\n",
      "+---------------------------------------------------------------------+-------------+-----------------+-------------+\n",
      "|The Complete Calvin and Hobbes                                       |40963        |4.809999942779541|1208         |\n",
      "|The Addiction Manifesto                                              |1203         |4.800000190734863|52           |\n",
      "|Words of Radiance (The Stormlight Archive, #2)                       |388958       |4.760000228881836|25126        |\n",
      "|Harry Potter Series Box Set (Harry Potter, #1-7)                     |292776       |4.739999771118164|8464         |\n",
      "|The High Auction (Wisdom Revolution, #1)                             |15030        |4.710000038146973|1965         |\n",
      "|Kingdom of Ash (Throne of Glass, #7)                                 |720551       |4.699999809265137|75847        |\n",
      "|The Way of Kings (The Stormlight Archive, #1)                        |543713       |4.659999847412109|40954        |\n",
      "|A Court of Mist and Fury (A Court of Thorns and Roses, #2)           |4782032      |4.650000095367432|405076       |\n",
      "|The Nightingale                                                      |1554714      |4.630000114440918|127236       |\n",
      "|Empire of Storms (Throne of Glass, #5)                               |847705       |4.630000114440918|69602        |\n",
      "|Harry Potter and the Deathly Hallows (Harry Potter, #7)              |3837420      |4.619999885559082|89592        |\n",
      "|Holy Bible: New International Version                                |90232        |4.619999885559082|3320         |\n",
      "|Magical Midlife Awakening (Leveling Up, #9)                          |9147         |4.619999885559082|596          |\n",
      "|العصبي                                                               |2779         |4.610000133514404|363          |\n",
      "|Queen of Shadows (Throne of Glass, #4)                               |987593       |4.610000133514404|72422        |\n",
      "|J.R.R. Tolkien 4-Book Boxed Set: The Hobbit and The Lord of the Rings|136995       |4.610000133514404|2336         |\n",
      "|The Lost Artefacts - The Complete Collection                         |201          |4.599999904632568|11           |\n",
      "|Crooked Kingdom (Six of Crows, #2)                                   |684177       |4.590000152587891|76474        |\n",
      "|Miracle                                                              |290          |4.590000152587891|40           |\n",
      "|Harry Potter and the Half-Blood Prince (Harry Potter, #6)            |3396271      |4.579999923706055|61520        |\n",
      "+---------------------------------------------------------------------+-------------+-----------------+-------------+\n",
      "only showing top 20 rows\n",
      "\n"
     ]
    }
   ],
   "source": [
    "# Tính điểm trung bình và số lượng đánh giá cho từng cuốn sách\n",
    "book_ratings = ratings_df.groupBy(\"book_title\") \\\n",
    "    .agg({\n",
    "        \"rating\": \"avg\", \n",
    "        \"num_ratings\": \"sum\", \n",
    "        \"num_reviews\": \"sum\"\n",
    "    }) \\\n",
    "    .withColumnRenamed(\"avg(rating)\", \"average_rating\") \\\n",
    "    .withColumnRenamed(\"sum(num_ratings)\", \"total_ratings\") \\\n",
    "    .withColumnRenamed(\"sum(num_reviews)\", \"total_reviews\") \\\n",
    "    .orderBy(col(\"average_rating\").desc())\n",
    "\n",
    "book_ratings.show(truncate=False)\n"
   ]
  },
  {
   "cell_type": "markdown",
   "metadata": {},
   "source": [
    "#### Kiểm tra dữ liệu lần nữa "
   ]
  },
  {
   "cell_type": "code",
   "execution_count": 82,
   "metadata": {},
   "outputs": [
    {
     "name": "stdout",
     "output_type": "stream",
     "text": [
      "+------+----------+----+-----------+------+-----------------+-----+----+------+-------+-----+-----+------------+------------+\n",
      "|Author|Cover Type|Date|Description|Genres|Number of Ratings|Pages|Rank|Rating|Reviews|Score|Title|cleaned_date|publish_date|\n",
      "+------+----------+----+-----------+------+-----------------+-----+----+------+-------+-----+-----+------------+------------+\n",
      "|0     |0         |0   |0          |0     |0                |0    |0   |0     |0      |0    |0    |0           |0           |\n",
      "+------+----------+----+-----------+------+-----------------+-----+----+------+-------+-----+-----+------------+------------+\n",
      "\n"
     ]
    }
   ],
   "source": [
    "from pyspark.sql.functions import col, current_date, to_date, lit\n",
    "\n",
    "from pyspark.sql.functions import col, count, when\n",
    "\n",
    "# Tính số lượng giá trị null trong mỗi cột\n",
    "null_counts = df.select([count(when(col(c).isNull(), c)).alias(c) for c in df.columns])\n",
    "null_counts.show(truncate=False)\n"
   ]
  },
  {
   "cell_type": "code",
   "execution_count": 83,
   "metadata": {},
   "outputs": [],
   "source": [
    "books_final = books_final.withColumn(\n",
    "    \"publish_date\", F.to_date(\"publish_date\", \"dd-MM-yyyy\")\n",
    ")\n"
   ]
  },
  {
   "cell_type": "markdown",
   "metadata": {},
   "source": [
    "#### Thêm dữ liệu vào CSV  "
   ]
  },
  {
   "cell_type": "markdown",
   "metadata": {},
   "source": [
    "##### 1. Authors"
   ]
  },
  {
   "cell_type": "code",
   "execution_count": 84,
   "metadata": {},
   "outputs": [
    {
     "name": "stdout",
     "output_type": "stream",
     "text": [
      "Dữ liệu đã được lưu vào D:\\test\\Crawl-Data-Team\\spark_with_sql\\save_table_sql\\authors.csv\n",
      "Dữ liệu đã được lưu vào authors.csv\n"
     ]
    }
   ],
   "source": [
    "import shutil\n",
    "import os\n",
    "\n",
    "# Ghi dữ liệu vào thư mục tạm thời\n",
    "authors_df.coalesce(1).write.format(\"csv\").option(\"header\", \"true\").save(\"D:\\\\test\\\\Crawl-Data-Team\\\\spark_with_sql\\\\save_table_sql\\\\authors_temp\")\n",
    "\n",
    "# Lấy file phân mảnh và di chuyển vào tên file mong muốn\n",
    "temp_path = \"D:\\\\test\\\\Crawl-Data-Team\\\\spark_with_sql\\\\save_table_sql\\\\authors_temp\"\n",
    "destination_path = \"D:\\\\test\\\\Crawl-Data-Team\\\\spark_with_sql\\\\save_table_sql\\\\authors.csv\"\n",
    "\n",
    "# Tìm file .csv duy nhất và di chuyển\n",
    "for file in os.listdir(temp_path):\n",
    "    if file.startswith(\"part-\"):\n",
    "        shutil.move(os.path.join(temp_path, file), destination_path)\n",
    "        break\n",
    "\n",
    "# Xóa thư mục tạm thời\n",
    "shutil.rmtree(temp_path)\n",
    "\n",
    "print(f\"Dữ liệu đã được lưu vào {destination_path}\")\n",
    "# Chuyển dữ liệu từ Spark DataFrame sang Pandas DataFrame\n",
    "authors_pandas_df = authors_df.toPandas()\n",
    "\n",
    "# Lưu dữ liệu vào CSV\n",
    "authors_pandas_df.to_csv(\"D:\\\\test\\\\Crawl-Data-Team\\\\spark_with_sql\\\\save_table_sql\\\\authors.csv\", index=False)\n",
    "\n",
    "print(\"Dữ liệu đã được lưu vào authors.csv\")\n"
   ]
  },
  {
   "cell_type": "markdown",
   "metadata": {},
   "source": [
    "##### 2. Books"
   ]
  },
  {
   "cell_type": "code",
   "execution_count": 85,
   "metadata": {},
   "outputs": [
    {
     "name": "stdout",
     "output_type": "stream",
     "text": [
      "Dữ liệu đã được lưu vào D:\\test\\Crawl-Data-Team\\spark_with_sql\\save_table_sql\\books.csv\n"
     ]
    }
   ],
   "source": [
    "from pyspark.sql import functions as F\n",
    "\n",
    "# Chuyển cột 'genre_ids' từ kiểu ARRAY thành chuỗi (string)\n",
    "books_final = books_final.withColumn(\n",
    "    \"genre_ids\", F.concat_ws(\",\", F.col(\"genre_ids\"))\n",
    ")\n",
    "\n",
    "# Ghi dữ liệu vào thư mục tạm thời (coalesce(1) để chỉ xuất ra 1 file)\n",
    "books_final.coalesce(1).write.format(\"csv\").option(\"header\", \"true\").save(\"D:\\\\test\\\\Crawl-Data-Team\\\\spark_with_sql\\\\save_table_sql\\\\books_temp\")\n",
    "\n",
    "# Lấy file phân mảnh và di chuyển vào tên file mong muốn\n",
    "temp_path = \"D:\\\\test\\\\Crawl-Data-Team\\\\spark_with_sql\\\\save_table_sql\\\\books_temp\"\n",
    "destination_path = \"D:\\\\test\\\\Crawl-Data-Team\\\\spark_with_sql\\\\save_table_sql\\\\books.csv\"\n",
    "\n",
    "# Tìm file .csv duy nhất và di chuyển\n",
    "for file in os.listdir(temp_path):\n",
    "    if file.startswith(\"part-\"):\n",
    "        shutil.move(os.path.join(temp_path, file), destination_path)\n",
    "        break\n",
    "\n",
    "# Xóa thư mục tạm thời\n",
    "shutil.rmtree(temp_path)\n",
    "\n",
    "# Thông báo đã lưu dữ liệu vào CSV\n",
    "print(f\"Dữ liệu đã được lưu vào {destination_path}\")\n",
    "\n"
   ]
  },
  {
   "cell_type": "markdown",
   "metadata": {},
   "source": [
    "##### 3. Ratings"
   ]
  },
  {
   "cell_type": "code",
   "execution_count": 86,
   "metadata": {},
   "outputs": [
    {
     "name": "stdout",
     "output_type": "stream",
     "text": [
      "File đã được di chuyển vào D:\\test\\Crawl-Data-Team\\spark_with_sql\\save_table_sql\\ratings.csv\n",
      "Đã xóa thư mục tạm thời: D:\\test\\Crawl-Data-Team\\spark_with_sql\\save_table_sql\\ratings_temp\n",
      "Dữ liệu đã được lưu vào ratings.csv\n"
     ]
    }
   ],
   "source": [
    "import shutil\n",
    "import os\n",
    "\n",
    "# Đường dẫn thư mục tạm thời và đích\n",
    "temp_path = \"D:\\\\test\\\\Crawl-Data-Team\\\\spark_with_sql\\\\save_table_sql\\\\ratings_temp\"\n",
    "destination_path = \"D:\\\\test\\\\Crawl-Data-Team\\\\spark_with_sql\\\\save_table_sql\\\\ratings.csv\"\n",
    "\n",
    "# Ghi dữ liệu vào thư mục tạm thời cho ratings_df\n",
    "ratings_df.coalesce(1).write.format(\"csv\").option(\"header\", \"true\").save(temp_path)\n",
    "\n",
    "# Kiểm tra và di chuyển file .csv duy nhất từ thư mục tạm thời vào thư mục đích\n",
    "file_moved = False\n",
    "for file in os.listdir(temp_path):\n",
    "    if file.startswith(\"part-\"):\n",
    "        shutil.move(os.path.join(temp_path, file), destination_path)\n",
    "        file_moved = True\n",
    "        print(f\"File đã được di chuyển vào {destination_path}\")\n",
    "        break\n",
    "\n",
    "if not file_moved:\n",
    "    print(\"Không tìm thấy file .csv để di chuyển!\")\n",
    "\n",
    "# Xóa thư mục tạm thời sau khi di chuyển file\n",
    "shutil.rmtree(temp_path)\n",
    "print(f\"Đã xóa thư mục tạm thời: {temp_path}\")\n",
    "\n",
    "# Chuyển dữ liệu từ Spark DataFrame sang Pandas DataFrame (nếu cần)\n",
    "ratings_pandas_df = ratings_df.toPandas()\n",
    "\n",
    "# Lưu dữ liệu vào CSV bằng Pandas\n",
    "ratings_pandas_df.to_csv(destination_path, index=False)\n",
    "print(\"Dữ liệu đã được lưu vào ratings.csv\")\n"
   ]
  },
  {
   "cell_type": "markdown",
   "metadata": {},
   "source": [
    "##### 4. Genres "
   ]
  },
  {
   "cell_type": "code",
   "execution_count": 87,
   "metadata": {},
   "outputs": [
    {
     "name": "stdout",
     "output_type": "stream",
     "text": [
      "Dữ liệu đã được lưu vào D:\\test\\Crawl-Data-Team\\spark_with_sql\\save_table_sql\\genres.csv\n"
     ]
    }
   ],
   "source": [
    "from pyspark.sql import SparkSession\n",
    "from pyspark.sql.functions import explode, split, monotonically_increasing_id, col\n",
    "import shutil\n",
    "import os\n",
    "spark = SparkSession.builder.appName(\"GenresProcessing\").getOrCreate()\n",
    "genres_df.coalesce(1).write.format(\"csv\").option(\"header\", \"true\").save(\"D:\\\\test\\\\Crawl-Data-Team\\\\spark_with_sql\\\\save_table_sql\\\\genres_temp\")\n",
    "temp_path = \"D:\\\\test\\\\Crawl-Data-Team\\\\spark_with_sql\\\\save_table_sql\\\\genres_temp\"\n",
    "destination_path = \"D:\\\\test\\\\Crawl-Data-Team\\\\spark_with_sql\\\\save_table_sql\\\\genres.csv\"\n",
    "\n",
    "for file in os.listdir(temp_path):\n",
    "    if file.startswith(\"part-\"):\n",
    "        shutil.move(os.path.join(temp_path, file), destination_path)\n",
    "        break\n",
    "\n",
    "shutil.rmtree(temp_path)\n",
    "\n",
    "print(f\"Dữ liệu đã được lưu vào {destination_path}\")\n"
   ]
  },
  {
   "cell_type": "markdown",
   "metadata": {},
   "source": [
    "##### 5. Reviews "
   ]
  },
  {
   "cell_type": "code",
   "execution_count": 88,
   "metadata": {},
   "outputs": [
    {
     "name": "stdout",
     "output_type": "stream",
     "text": [
      "Dữ liệu đã được lưu vào D:\\test\\Crawl-Data-Team\\spark_with_sql\\save_table_sql\\reviews.csv\n"
     ]
    }
   ],
   "source": [
    "# Lưu reviews_df thành file CSV\n",
    "reviews_df.coalesce(1).write.format(\"csv\").option(\"header\", \"true\") \\\n",
    "    .save(\"D:\\\\test\\\\Crawl-Data-Team\\\\spark_with_sql\\\\save_table_sql\\\\reviews_temp\")\n",
    "\n",
    "# Di chuyển file CSV từ thư mục tạm thời\n",
    "import shutil\n",
    "temp_path = \"D:\\\\test\\\\Crawl-Data-Team\\\\spark_with_sql\\\\save_table_sql\\\\reviews_temp\"\n",
    "destination_path = \"D:\\\\test\\\\Crawl-Data-Team\\\\spark_with_sql\\\\save_table_sql\\\\reviews.csv\"\n",
    "\n",
    "# Tìm file CSV duy nhất và di chuyển\n",
    "for file in os.listdir(temp_path):\n",
    "    if file.startswith(\"part-\"):\n",
    "        shutil.move(os.path.join(temp_path, file), destination_path)\n",
    "        break\n",
    "\n",
    "# Xóa thư mục tạm thời\n",
    "shutil.rmtree(temp_path)\n",
    "\n",
    "print(f\"Dữ liệu đã được lưu vào {destination_path}\")"
   ]
  },
  {
   "cell_type": "markdown",
   "metadata": {},
   "source": [
    "##### 6. Book_genres"
   ]
  },
  {
   "cell_type": "code",
   "execution_count": 89,
   "metadata": {},
   "outputs": [
    {
     "name": "stdout",
     "output_type": "stream",
     "text": [
      "Dữ liệu đã được lưu vào D:\\test\\Crawl-Data-Team\\spark_with_sql\\save_table_sql\\book_genres.csv\n"
     ]
    }
   ],
   "source": [
    "from pyspark.sql.functions import explode, split\n",
    "import shutil\n",
    "import os\n",
    "\n",
    "# Tạo bảng book_genres từ books_df và genres_df\n",
    "book_genres_df = books_df \\\n",
    "    .select(\"book_id\", explode(split(col(\"Genres\"), \",\")).alias(\"genre_name\")) \\\n",
    "    .join(genres_df, \"genre_name\", \"inner\") \\\n",
    "    .select(\"book_id\", \"genre_id\") \\\n",
    "    .dropDuplicates()\n",
    "\n",
    "\n",
    "# Lưu book_genres_df thành file CSV\n",
    "book_genres_df.coalesce(1).write.format(\"csv\").option(\"header\", \"true\") \\\n",
    "    .save(\"D:\\\\test\\\\Crawl-Data-Team\\\\spark_with_sql\\\\save_table_sql\\\\book_genres_temp\")\n",
    "\n",
    "# Di chuyển file CSV từ thư mục tạm thời\n",
    "temp_path = \"D:\\\\test\\\\Crawl-Data-Team\\\\spark_with_sql\\\\save_table_sql\\\\book_genres_temp\"\n",
    "destination_path = \"D:\\\\test\\\\Crawl-Data-Team\\\\spark_with_sql\\\\save_table_sql\\\\book_genres.csv\"\n",
    "\n",
    "# Tìm file CSV duy nhất và di chuyển\n",
    "for file in os.listdir(temp_path):\n",
    "    if file.startswith(\"part-\"):\n",
    "        shutil.move(os.path.join(temp_path, file), destination_path)\n",
    "        break\n",
    "\n",
    "# Xóa thư mục tạm thời\n",
    "shutil.rmtree(temp_path)\n",
    "\n",
    "print(f\"Dữ liệu đã được lưu vào {destination_path}\")\n"
   ]
  },
  {
   "cell_type": "markdown",
   "metadata": {},
   "source": [
    "##### 7. Ratings"
   ]
  },
  {
   "cell_type": "code",
   "execution_count": 90,
   "metadata": {},
   "outputs": [
    {
     "name": "stdout",
     "output_type": "stream",
     "text": [
      "Số bản ghi hợp lệ sau khi lọc: 1009\n",
      "Đã xóa file cũ tại D:\\test\\Crawl-Data-Team\\spark_with_sql\\save_table_sql\\book_ratings.csv\n",
      "Dữ liệu hợp lệ đã được lưu vào D:\\test\\Crawl-Data-Team\\spark_with_sql\\save_table_sql\\book_ratings.csv\n"
     ]
    }
   ],
   "source": [
    "from pyspark.sql import functions as F\n",
    "import shutil\n",
    "import os\n",
    "\n",
    "# Thực hiện phép nối giữa books_df và ratings_df dựa trên cột book_title\n",
    "book_ratings_df = books_df.join(\n",
    "    ratings_df,\n",
    "    books_df.book_title == ratings_df.book_title,\n",
    "    how=\"inner\"\n",
    ").select(\n",
    "    books_df[\"book_id\"],\n",
    "    ratings_df[\"rating_id\"]\n",
    ")\n",
    "\n",
    "# Kiểm tra tính hợp lệ của book_id trong bảng books và rating_id trong bảng ratings\n",
    "# Giả sử books_df và ratings_df đều có các cột book_id và rating_id\n",
    "valid_books_df = books_df.select(\"book_id\")  # Giả sử bạn đã có df_books chứa danh sách book_id hợp lệ\n",
    "valid_ratings_df = ratings_df.select(\"rating_id\")  # Giả sử bạn đã có df_ratings chứa danh sách rating_id hợp lệ\n",
    "\n",
    "# Lọc book_ratings_df chỉ giữ lại các bản ghi có book_id hợp lệ trong bảng books và rating_id hợp lệ trong bảng ratings\n",
    "book_ratings_df = book_ratings_df.join(valid_books_df, on=\"book_id\", how=\"inner\")\n",
    "book_ratings_df = book_ratings_df.join(valid_ratings_df, on=\"rating_id\", how=\"inner\")\n",
    "\n",
    "# Kiểm tra kết quả sau khi lọc\n",
    "print(f\"Số bản ghi hợp lệ sau khi lọc: {book_ratings_df.count()}\")\n",
    "\n",
    "# Đường dẫn tạm thời và đích để lưu file CSV\n",
    "temp_path = \"D:\\\\test\\\\Crawl-Data-Team\\\\spark_with_sql\\\\save_table_sql\\\\book_ratings_temp\"\n",
    "destination_path = \"D:\\\\test\\\\Crawl-Data-Team\\\\spark_with_sql\\\\save_table_sql\\\\book_ratings.csv\"\n",
    "\n",
    "# Kiểm tra nếu file đã tồn tại và xóa nó\n",
    "if os.path.exists(destination_path):\n",
    "    os.remove(destination_path)\n",
    "    print(f\"Đã xóa file cũ tại {destination_path}\")\n",
    "\n",
    "# Lưu book_ratings_df thành file CSV\n",
    "book_ratings_df.coalesce(1).write.format(\"csv\").option(\"header\", \"true\") \\\n",
    "    .save(temp_path)\n",
    "\n",
    "# Di chuyển file CSV từ thư mục tạm thời\n",
    "for file in os.listdir(temp_path):\n",
    "    if file.startswith(\"part-\"):\n",
    "        shutil.move(os.path.join(temp_path, file), destination_path)\n",
    "        break\n",
    "\n",
    "# Xóa thư mục tạm thời\n",
    "shutil.rmtree(temp_path)\n",
    "\n",
    "print(f\"Dữ liệu hợp lệ đã được lưu vào {destination_path}\")\n"
   ]
  },
  {
   "cell_type": "markdown",
   "metadata": {},
   "source": [
    "#### Chuyển qua SQl"
   ]
  },
  {
   "cell_type": "markdown",
   "metadata": {},
   "source": [
    "##### 1. Authors "
   ]
  },
  {
   "cell_type": "code",
   "execution_count": 91,
   "metadata": {},
   "outputs": [
    {
     "name": "stdout",
     "output_type": "stream",
     "text": [
      "Đọc dữ liệu từ file CSV thành công.\n",
      "Kết nối tới SQL Server thành công.\n",
      "Ràng buộc khóa ngoại đã bị tắt.\n",
      "Dữ liệu cũ trong bảng 'authors' đã được xóa.\n",
      "Dữ liệu mới đã được chèn vào bảng 'authors'.\n",
      "Ràng buộc khóa ngoại đã được khôi phục.\n"
     ]
    }
   ],
   "source": [
    "import pandas as pd\n",
    "import sqlalchemy\n",
    "from sqlalchemy.exc import SQLAlchemyError\n",
    "\n",
    "# Đọc file CSV vào DataFrame\n",
    "csv_file_path = \"D:\\\\test\\\\Crawl-Data-Team\\\\spark_with_sql\\\\save_table_sql\\\\authors.csv\"\n",
    "try:\n",
    "    df = pd.read_csv(csv_file_path)\n",
    "    print(\"Đọc dữ liệu từ file CSV thành công.\")\n",
    "except FileNotFoundError:\n",
    "    print(f\"Không tìm thấy file tại {csv_file_path}.\")\n",
    "    exit()\n",
    "\n",
    "# Tạo chuỗi kết nối tới SQL Server\n",
    "connection_string = \"mssql+pyodbc://TRONGPHUC\\\\SQLEXPRESS/test?driver=ODBC+Driver+17+for+SQL+Server\"\n",
    "\n",
    "# Kết nối tới SQL Server\n",
    "try:\n",
    "    engine = sqlalchemy.create_engine(connection_string)\n",
    "    with engine.connect() as connection:\n",
    "        print(\"Kết nối tới SQL Server thành công.\")\n",
    "except SQLAlchemyError as e:\n",
    "    print(f\"Lỗi khi kết nối tới SQL Server: {e}\")\n",
    "    exit()\n",
    "\n",
    "# Xóa dữ liệu cũ và chèn dữ liệu mới\n",
    "try:\n",
    "    with engine.connect() as connection:\n",
    "        # Tạm thời xóa ràng buộc khóa ngoại\n",
    "        connection.execute(\"ALTER TABLE books NOCHECK CONSTRAINT FK_books_authors1\")\n",
    "        print(\"Ràng buộc khóa ngoại đã bị tắt.\")\n",
    "        \n",
    "        # Xóa toàn bộ dữ liệu trong bảng authors\n",
    "        connection.execute(\"DELETE FROM authors\")\n",
    "        print(\"Dữ liệu cũ trong bảng 'authors' đã được xóa.\")\n",
    "        \n",
    "        # Chèn dữ liệu mới từ file CSV\n",
    "        df.to_sql('authors', con=engine, if_exists='append', index=False)\n",
    "        print(\"Dữ liệu mới đã được chèn vào bảng 'authors'.\")\n",
    "        \n",
    "        # Khôi phục lại ràng buộc khóa ngoại\n",
    "        connection.execute(\"ALTER TABLE books CHECK CONSTRAINT FK_books_authors1\")\n",
    "        print(\"Ràng buộc khóa ngoại đã được khôi phục.\")\n",
    "except SQLAlchemyError as e:\n",
    "    print(f\"Lỗi khi xóa và chèn dữ liệu vào SQL Server: {e}\")\n"
   ]
  },
  {
   "cell_type": "markdown",
   "metadata": {},
   "source": [
    "##### 2. Books"
   ]
  },
  {
   "cell_type": "code",
   "execution_count": 92,
   "metadata": {},
   "outputs": [
    {
     "name": "stdout",
     "output_type": "stream",
     "text": [
      "Kết nối đến SQL Server thành công!\n",
      "Dữ liệu đã được đưa vào bảng 'books' trong SQL Server.\n"
     ]
    }
   ],
   "source": [
    "import pandas as pd\n",
    "import sqlalchemy\n",
    "\n",
    "\n",
    "\n",
    "\n",
    "\n",
    "# Đọc file CSV vào DataFrame\n",
    "csv_file_path = \"D:\\\\test\\\\Crawl-Data-Team\\\\spark_with_sql\\\\save_table_sql\\\\books.csv\"\n",
    "df = pd.read_csv(csv_file_path, on_bad_lines='skip')  # Dùng 'on_bad_lines' để bỏ qua các dòng lỗi nếu có\n",
    "\n",
    "# Loại bỏ cột 'book_id' nếu nó là identity column\n",
    "df = df.drop(columns=['book_id'])\n",
    "\n",
    "df['publish_date'] = pd.to_datetime(df['publish_date'], errors='coerce')  # Chuyển cột publish_date thành kiểu datetime\n",
    "df['publish_date'] = df['publish_date'].dt.date  # Chuyển từ datetime sang date\n",
    "\n",
    "\n",
    "# Kết nối tới SQL Server bằng SQLAlchemy\n",
    "connection_string = \"mssql+pyodbc://@TRONGPHUC\\\\SQLEXPRESS/test?driver=ODBC+Driver+17+for+SQL+Server\"\n",
    "engine = sqlalchemy.create_engine(connection_string)\n",
    "try:\n",
    "    with engine.connect() as conn:\n",
    "        print(\"Kết nối đến SQL Server thành công!\")\n",
    "except Exception as e:\n",
    "    print(f\"Đã có lỗi khi kết nối: {e}\")\n",
    "\n",
    "# Chèn dữ liệu vào bảng SQL (bảng 'books')\n",
    "try:\n",
    "    df.to_sql('books', con=engine, if_exists='append', index=False)\n",
    "    print(\"Dữ liệu đã được đưa vào bảng 'books' trong SQL Server.\")\n",
    "except Exception as e:\n",
    "    print(f\"Đã có lỗi khi chèn dữ liệu: {e}\")\n",
    "\n",
    "\n"
   ]
  },
  {
   "cell_type": "markdown",
   "metadata": {},
   "source": [
    "##### 3. Ratings"
   ]
  },
  {
   "cell_type": "code",
   "execution_count": 93,
   "metadata": {},
   "outputs": [
    {
     "name": "stdout",
     "output_type": "stream",
     "text": [
      "Dữ liệu đã được đưa vào bảng 'ratings' trong SQL Server.\n"
     ]
    }
   ],
   "source": [
    "import pandas as pd\n",
    "import sqlalchemy\n",
    "\n",
    "# Đọc file CSV vào DataFrame\n",
    "csv_file_path = \"D:\\\\test\\\\Crawl-Data-Team\\\\spark_with_sql\\\\save_table_sql\\\\ratings.csv\"\n",
    "df = pd.read_csv(csv_file_path, on_bad_lines='skip')\n",
    "\n",
    "# Loại bỏ các dòng trùng lặp dựa trên 'rating_id'\n",
    "df = df.drop_duplicates(subset=['rating_id'])\n",
    "\n",
    "# Kết nối tới SQL Server bằng SQLAlchemy\n",
    "connection_string = \"mssql+pyodbc://@TRONGPHUC\\\\SQLEXPRESS/test?driver=ODBC+Driver+17+for+SQL+Server\"\n",
    "engine = sqlalchemy.create_engine(connection_string)\n",
    "\n",
    "# Lọc bỏ các giá trị đã tồn tại trong SQL\n",
    "try:\n",
    "    with engine.connect() as conn:\n",
    "        existing_ids = pd.read_sql(\"SELECT rating_id FROM ratings\", con=conn)\n",
    "        df = df[~df['rating_id'].isin(existing_ids['rating_id'])]\n",
    "except Exception as e:\n",
    "    print(f\"Lỗi khi lấy dữ liệu từ SQL Server: {e}\")\n",
    "\n",
    "# Chèn dữ liệu vào SQL Server\n",
    "try:\n",
    "    df.to_sql('ratings', con=engine, if_exists='append', index=False)\n",
    "    print(\"Dữ liệu đã được đưa vào bảng 'ratings' trong SQL Server.\")\n",
    "except Exception as e:\n",
    "    print(f\"Đã có lỗi khi chèn dữ liệu: {e}\")\n"
   ]
  },
  {
   "cell_type": "markdown",
   "metadata": {},
   "source": [
    "##### 4. Genres"
   ]
  },
  {
   "cell_type": "code",
   "execution_count": 94,
   "metadata": {},
   "outputs": [
    {
     "name": "stdout",
     "output_type": "stream",
     "text": [
      "Đã lấy dữ liệu từ bảng 'books'.\n",
      "Dữ liệu đã được đưa vào bảng 'reviews' trong SQL Server.\n"
     ]
    }
   ],
   "source": [
    "import pandas as pd\n",
    "import sqlalchemy\n",
    "\n",
    "# Đọc file CSV vào DataFrame\n",
    "csv_file_path = \"D:\\\\test\\\\Crawl-Data-Team\\\\spark_with_sql\\\\save_table_sql\\\\reviews.csv\"\n",
    "df_reviews = pd.read_csv(csv_file_path)\n",
    "\n",
    "# Kết nối tới SQL Server bằng SQLAlchemy\n",
    "connection_string = \"mssql+pyodbc://@TRONGPHUC\\\\SQLEXPRESS/test?driver=ODBC+Driver+17+for+SQL+Server\"\n",
    "engine = sqlalchemy.create_engine(connection_string)\n",
    "\n",
    "# Lấy dữ liệu từ bảng 'books' để kiểm tra book_id\n",
    "try:\n",
    "    with engine.connect() as conn:\n",
    "        # Lấy tất cả book_id từ bảng 'books'\n",
    "        books_df = pd.read_sql(\"SELECT book_id FROM books\", con=conn)\n",
    "        print(\"Đã lấy dữ liệu từ bảng 'books'.\")\n",
    "except Exception as e:\n",
    "    print(f\"Đã có lỗi khi lấy dữ liệu từ bảng 'books': {e}\")\n",
    "\n",
    "# Lọc các bản ghi có book_id hợp lệ (tồn tại trong bảng 'books')\n",
    "df_reviews = df_reviews[df_reviews['book_id'].isin(books_df['book_id'])]\n",
    "\n",
    "# Bỏ cột review_id\n",
    "df_reviews.drop(columns=['review_id'], inplace=True)\n",
    "\n",
    "# Chèn dữ liệu vào bảng 'reviews'\n",
    "try:\n",
    "    df_reviews.to_sql('reviews', con=engine, if_exists='append', index=False)\n",
    "    print(\"Dữ liệu đã được đưa vào bảng 'reviews' trong SQL Server.\")\n",
    "except Exception as e:\n",
    "    print(f\"Đã có lỗi khi chèn dữ liệu: {e}\")\n"
   ]
  },
  {
   "cell_type": "markdown",
   "metadata": {},
   "source": [
    "##### 5. Reviews"
   ]
  },
  {
   "cell_type": "code",
   "execution_count": 95,
   "metadata": {},
   "outputs": [
    {
     "name": "stdout",
     "output_type": "stream",
     "text": [
      "review_id    int64\n",
      "book_id      int64\n",
      "Reviews      int64\n",
      "Score        int64\n",
      "dtype: object\n",
      "Đã lấy dữ liệu từ bảng 'books'.\n",
      "Dữ liệu đã được đưa vào bảng 'reviews' trong SQL Server.\n"
     ]
    }
   ],
   "source": [
    "import pandas as pd\n",
    "import sqlalchemy\n",
    "\n",
    "# Đọc file CSV vào DataFrame\n",
    "csv_file_path = \"D:\\\\test\\\\Crawl-Data-Team\\\\spark_with_sql\\\\save_table_sql\\\\reviews.csv\"\n",
    "df_reviews = pd.read_csv(csv_file_path)\n",
    "\n",
    "# Kiểm tra kiểu dữ liệu của các cột trong DataFrame\n",
    "print(df_reviews.dtypes)\n",
    "\n",
    "# Đổi kiểu dữ liệu nếu cần\n",
    "df_reviews['review_id'] = df_reviews['review_id'].astype('int64')  # bigInt\n",
    "df_reviews['book_id'] = df_reviews['book_id'].astype('int64')      # bigInt\n",
    "df_reviews['Reviews'] = df_reviews['Reviews'].astype('int')        # int\n",
    "df_reviews['Score'] = df_reviews['Score'].astype('int')            # int\n",
    "\n",
    "# Kết nối tới SQL Server bằng SQLAlchemy\n",
    "connection_string = \"mssql+pyodbc://@TRONGPHUC\\\\SQLEXPRESS/test?driver=ODBC+Driver+17+for+SQL+Server\"\n",
    "engine = sqlalchemy.create_engine(connection_string)\n",
    "\n",
    "# Lấy dữ liệu book_id từ bảng books\n",
    "try:\n",
    "    with engine.connect() as conn:\n",
    "        # Lấy tất cả book_id từ bảng 'books'\n",
    "        books_df = pd.read_sql(\"SELECT book_id FROM books\", con=conn)\n",
    "        print(\"Đã lấy dữ liệu từ bảng 'books'.\")\n",
    "except Exception as e:\n",
    "    print(f\"Đã có lỗi khi lấy dữ liệu từ bảng 'books': {e}\")\n",
    "\n",
    "# Lọc các bản ghi có book_id hợp lệ (tồn tại trong bảng 'books')\n",
    "df_reviews = df_reviews[df_reviews['book_id'].isin(books_df['book_id'])]\n",
    "\n",
    "# Bỏ cột review_id\n",
    "df_reviews.drop(columns=['review_id'], inplace=True)\n",
    "\n",
    "# Chèn dữ liệu vào bảng reviews\n",
    "try:\n",
    "    df_reviews.to_sql('reviews', con=engine, if_exists='append', index=False)\n",
    "    print(\"Dữ liệu đã được đưa vào bảng 'reviews' trong SQL Server.\")\n",
    "except Exception as e:\n",
    "    print(f\"Đã có lỗi khi chèn dữ liệu: {e}\")\n"
   ]
  },
  {
   "cell_type": "markdown",
   "metadata": {},
   "source": [
    "##### 6."
   ]
  },
  {
   "cell_type": "code",
   "execution_count": 96,
   "metadata": {},
   "outputs": [
    {
     "name": "stdout",
     "output_type": "stream",
     "text": [
      "Đã lấy dữ liệu genre_id từ bảng 'genres'.\n",
      "Dữ liệu đã được đưa vào bảng 'book_genres' trong SQL Server.\n"
     ]
    }
   ],
   "source": [
    "import pandas as pd\n",
    "import sqlalchemy\n",
    "\n",
    "# Đọc file CSV vào DataFrame\n",
    "csv_file_path = \"D:\\\\test\\\\Crawl-Data-Team\\\\spark_with_sql\\\\save_table_sql\\\\book_genres.csv\"\n",
    "df_book_genres = pd.read_csv(csv_file_path)\n",
    "\n",
    "# Kết nối tới SQL Server bằng SQLAlchemy\n",
    "connection_string = \"mssql+pyodbc://@TRONGPHUC\\\\SQLEXPRESS/test?driver=ODBC+Driver+17+for+SQL+Server\"\n",
    "engine = sqlalchemy.create_engine(connection_string)\n",
    "\n",
    "# Lấy tất cả genre_id từ bảng genres\n",
    "try:\n",
    "    with engine.connect() as conn:\n",
    "        genres_df = pd.read_sql(\"SELECT genre_id FROM genres\", con=conn)\n",
    "        print(\"Đã lấy dữ liệu genre_id từ bảng 'genres'.\")\n",
    "except Exception as e:\n",
    "    print(f\"Đã có lỗi khi lấy dữ liệu từ bảng 'genres': {e}\")\n",
    "\n",
    "# Lọc các bản ghi có genre_id hợp lệ (tồn tại trong bảng 'genres')\n",
    "df_book_genres = df_book_genres[df_book_genres['genre_id'].isin(genres_df['genre_id'])]\n",
    "\n",
    "# Chèn dữ liệu vào bảng book_genres\n",
    "try:\n",
    "    df_book_genres.to_sql('book_genres', con=engine, if_exists='append', index=False)\n",
    "    print(\"Dữ liệu đã được đưa vào bảng 'book_genres' trong SQL Server.\")\n",
    "except Exception as e:\n",
    "    print(f\"Đã có lỗi khi chèn dữ liệu: {e}\")\n"
   ]
  },
  {
   "cell_type": "markdown",
   "metadata": {},
   "source": [
    "##### 7. Book_ratings"
   ]
  },
  {
   "cell_type": "code",
   "execution_count": 98,
   "metadata": {},
   "outputs": [
    {
     "name": "stdout",
     "output_type": "stream",
     "text": [
      "Số bản ghi sau khi lọc: 997\n",
      "Đã xóa dữ liệu cũ trong bảng 'book_ratings'.\n",
      "Dữ liệu mới đã được đưa vào bảng 'book_ratings' trong SQL Server.\n"
     ]
    }
   ],
   "source": [
    "import pandas as pd\n",
    "import sqlalchemy\n",
    "\n",
    "# Đọc file CSV vào DataFrame\n",
    "csv_file_path = \"D:\\\\test\\\\Crawl-Data-Team\\\\spark_with_sql\\\\save_table_sql\\\\book_ratings.csv\"\n",
    "df_books_ratings = pd.read_csv(csv_file_path)\n",
    "\n",
    "# Loại bỏ cột rating_id nếu có\n",
    "df_books_ratings = df_books_ratings.drop(columns=[\"rating_id\"], errors='ignore')\n",
    "\n",
    "# Tạo cột rating_id tự động tăng nếu cần\n",
    "df_books_ratings['rating_id'] = range(1, len(df_books_ratings) + 1)\n",
    "\n",
    "# Kết nối tới SQL Server bằng SQLAlchemy\n",
    "connection_string = \"mssql+pyodbc://@TRONGPHUC\\\\SQLEXPRESS/test?driver=ODBC+Driver+17+for+SQL+Server\"\n",
    "engine = sqlalchemy.create_engine(connection_string)\n",
    "\n",
    "# Lấy tất cả rating_id có sẵn trong bảng ratings\n",
    "with engine.connect() as connection:\n",
    "    available_rating_ids = pd.read_sql(\"SELECT rating_id FROM ratings\", con=connection)\n",
    "\n",
    "# Lọc df_books_ratings chỉ giữ lại các rating_id có trong bảng ratings\n",
    "df_books_ratings = df_books_ratings[df_books_ratings['rating_id'].isin(available_rating_ids['rating_id'])]\n",
    "\n",
    "# Lấy tất cả book_id có sẵn trong bảng books\n",
    "with engine.connect() as connection:\n",
    "    available_book_ids = pd.read_sql(\"SELECT book_id FROM books\", con=connection)\n",
    "\n",
    "# Lọc df_books_ratings chỉ giữ lại các book_id có trong bảng books\n",
    "df_books_ratings = df_books_ratings[df_books_ratings['book_id'].isin(available_book_ids['book_id'])]\n",
    "\n",
    "# Kiểm tra dữ liệu sau khi lọc\n",
    "print(f\"Số bản ghi sau khi lọc: {df_books_ratings.shape[0]}\")\n",
    "\n",
    "# Xóa tất cả dữ liệu trong bảng book_ratings trước khi chèn dữ liệu mới\n",
    "try:\n",
    "    with engine.connect() as connection:\n",
    "        connection.execute(\"DELETE FROM book_ratings\")\n",
    "    print(\"Đã xóa dữ liệu cũ trong bảng 'book_ratings'.\")\n",
    "\n",
    "    # Chèn dữ liệu vào bảng book_ratings và ghi đè dữ liệu cũ\n",
    "    df_books_ratings.to_sql('book_ratings', con=engine, if_exists='append', index=False)\n",
    "    print(\"Dữ liệu mới đã được đưa vào bảng 'book_ratings' trong SQL Server.\")\n",
    "\n",
    "except sqlalchemy.exc.IntegrityError as ie:\n",
    "    # Xử lý lỗi IntegrityError (ví dụ: vi phạm ràng buộc khóa ngoại, NULL không hợp lệ)\n",
    "    print(f\"Lỗi ràng buộc (IntegrityError): {ie.orig}\")\n",
    "except sqlalchemy.exc.OperationalError as oe:\n",
    "    # Xử lý lỗi khi kết nối hoặc thao tác cơ sở dữ liệu\n",
    "    print(f\"Lỗi kết nối cơ sở dữ liệu (OperationalError): {oe.orig}\")\n",
    "except Exception as e:\n",
    "    # Xử lý các lỗi khác\n",
    "    print(f\"Đã có lỗi khi chèn dữ liệu: {e}\")\n"
   ]
  }
 ],
 "metadata": {
  "kernelspec": {
   "display_name": "Python 3",
   "language": "python",
   "name": "python3"
  },
  "language_info": {
   "codemirror_mode": {
    "name": "ipython",
    "version": 3
   },
   "file_extension": ".py",
   "mimetype": "text/x-python",
   "name": "python",
   "nbconvert_exporter": "python",
   "pygments_lexer": "ipython3",
   "version": "3.12.3"
  }
 },
 "nbformat": 4,
 "nbformat_minor": 2
}
